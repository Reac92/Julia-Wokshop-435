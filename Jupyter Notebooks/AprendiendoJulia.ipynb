{
 "cells": [
  {
   "cell_type": "markdown",
   "metadata": {},
   "source": [
    "# Comenzando con Julia\n",
    "\n",
    "En *Julia* se tienen algunas convenciones:\n",
    "\n",
    "1. Los paquetes se definen utilizando mayúsculas en cada una de las palabras.\n",
    "2. Las funciones que modifican el input llevan un signo de exclamación (!) al final del nombre"
   ]
  },
  {
   "cell_type": "markdown",
   "metadata": {},
   "source": [
    "## Arrays, Strings y Loops"
   ]
  },
  {
   "cell_type": "code",
   "execution_count": 1,
   "metadata": {},
   "outputs": [],
   "source": [
    "Array1 = Array{String}(undef,10)\n",
    "for i = 1:10\n",
    "    Array1[i] = \"$i\"\n",
    "end"
   ]
  },
  {
   "cell_type": "code",
   "execution_count": 2,
   "metadata": {},
   "outputs": [
    {
     "data": {
      "text/plain": [
       "10-element Array{String,1}:\n",
       " #undef\n",
       " #undef\n",
       " #undef\n",
       " #undef\n",
       " #undef\n",
       " #undef\n",
       " #undef\n",
       " #undef\n",
       " #undef\n",
       " #undef"
      ]
     },
     "execution_count": 2,
     "metadata": {},
     "output_type": "execute_result"
    }
   ],
   "source": [
    "Array2 = Array{String}(undef,10)"
   ]
  },
  {
   "cell_type": "code",
   "execution_count": 3,
   "metadata": {},
   "outputs": [],
   "source": [
    "@inbounds for i ∈ 1:length(Array2)\n",
    "    Array2[i] = \"$i\"\n",
    "end"
   ]
  },
  {
   "cell_type": "code",
   "execution_count": 4,
   "metadata": {},
   "outputs": [
    {
     "data": {
      "text/plain": [
       "10-element Array{String,1}:\n",
       " \"1\"\n",
       " \"2\"\n",
       " \"3\"\n",
       " \"4\"\n",
       " \"5\"\n",
       " \"6\"\n",
       " \"7\"\n",
       " \"8\"\n",
       " \"9\"\n",
       " \"10\""
      ]
     },
     "execution_count": 4,
     "metadata": {},
     "output_type": "execute_result"
    }
   ],
   "source": [
    "Array2"
   ]
  },
  {
   "cell_type": "code",
   "execution_count": 5,
   "metadata": {},
   "outputs": [
    {
     "data": {
      "text/plain": [
       "10-element Array{String,1}:\n",
       " \"1\"\n",
       " \"2\"\n",
       " \"3\"\n",
       " \"4\"\n",
       " \"5\"\n",
       " \"6\"\n",
       " \"7\"\n",
       " \"8\"\n",
       " \"9\"\n",
       " \"10\""
      ]
     },
     "execution_count": 5,
     "metadata": {},
     "output_type": "execute_result"
    }
   ],
   "source": [
    "Array3 = [\"$i\" for i ∈ 1:10]"
   ]
  },
  {
   "cell_type": "code",
   "execution_count": 6,
   "metadata": {},
   "outputs": [
    {
     "name": "stdout",
     "output_type": "stream",
     "text": [
      "1\n",
      "2\n",
      "3\n",
      "4\n",
      "5\n",
      "6\n",
      "7\n",
      "8\n",
      "9\n",
      "10\n"
     ]
    }
   ],
   "source": [
    "for i ∈ Array3\n",
    "    println(i)\n",
    "end"
   ]
  },
  {
   "cell_type": "code",
   "execution_count": 7,
   "metadata": {},
   "outputs": [
    {
     "name": "stdout",
     "output_type": "stream",
     "text": [
      "1\n",
      "2\n",
      "3\n",
      "4\n",
      "5\n",
      "6\n",
      "7\n",
      "8\n",
      "9\n",
      "10\n"
     ]
    }
   ],
   "source": [
    "for i in Array3\n",
    "    println(i)\n",
    "end"
   ]
  },
  {
   "cell_type": "code",
   "execution_count": 8,
   "metadata": {},
   "outputs": [
    {
     "name": "stdout",
     "output_type": "stream",
     "text": [
      "1\n",
      "2\n",
      "3\n",
      "4\n",
      "5\n",
      "6\n",
      "7\n",
      "8\n",
      "9\n",
      "10\n"
     ]
    }
   ],
   "source": [
    "for i = Array3\n",
    "    println(i)\n",
    "end"
   ]
  },
  {
   "cell_type": "markdown",
   "metadata": {},
   "source": [
    "## Funciones"
   ]
  },
  {
   "cell_type": "markdown",
   "metadata": {},
   "source": [
    "Para funciones simples se pueden definir como en matemática"
   ]
  },
  {
   "cell_type": "code",
   "execution_count": 9,
   "metadata": {},
   "outputs": [
    {
     "data": {
      "text/plain": [
       "f (generic function with 1 method)"
      ]
     },
     "execution_count": 9,
     "metadata": {},
     "output_type": "execute_result"
    }
   ],
   "source": [
    "f(x,y) = x*y"
   ]
  },
  {
   "cell_type": "markdown",
   "metadata": {},
   "source": [
    "### Multiple Dispatch\n",
    "\n",
    "Notar lo que nos dice Julia REPL \"f (generic function with 1 method)\", nosotros no hemos especificado para qué tipo de variable funciona esta función y siempre será llamada con 2 variables"
   ]
  },
  {
   "cell_type": "code",
   "execution_count": 10,
   "metadata": {},
   "outputs": [
    {
     "data": {
      "text/plain": [
       "\"HolaChao\""
      ]
     },
     "execution_count": 10,
     "metadata": {},
     "output_type": "execute_result"
    }
   ],
   "source": [
    "f(\"Hola\",\"Chao\")"
   ]
  },
  {
   "cell_type": "code",
   "execution_count": 11,
   "metadata": {},
   "outputs": [
    {
     "data": {
      "text/plain": [
       "0"
      ]
     },
     "execution_count": 11,
     "metadata": {},
     "output_type": "execute_result"
    }
   ],
   "source": [
    "f(2,0)"
   ]
  },
  {
   "cell_type": "code",
   "execution_count": 12,
   "metadata": {},
   "outputs": [
    {
     "data": {
      "text/plain": [
       "0.0"
      ]
     },
     "execution_count": 12,
     "metadata": {},
     "output_type": "execute_result"
    }
   ],
   "source": [
    "f(2.0,0)"
   ]
  },
  {
   "cell_type": "markdown",
   "metadata": {},
   "source": [
    "Notar que podemos crear un método que funcione para cuando entregamos solo un input !"
   ]
  },
  {
   "cell_type": "code",
   "execution_count": 13,
   "metadata": {},
   "outputs": [
    {
     "data": {
      "text/plain": [
       "f (generic function with 2 methods)"
      ]
     },
     "execution_count": 13,
     "metadata": {},
     "output_type": "execute_result"
    }
   ],
   "source": [
    "f(x) = x^2"
   ]
  },
  {
   "cell_type": "code",
   "execution_count": 14,
   "metadata": {},
   "outputs": [
    {
     "data": {
      "text/plain": [
       "4.0"
      ]
     },
     "execution_count": 14,
     "metadata": {},
     "output_type": "execute_result"
    }
   ],
   "source": [
    "f(2.0)"
   ]
  },
  {
   "cell_type": "code",
   "execution_count": 15,
   "metadata": {},
   "outputs": [
    {
     "data": {
      "text/plain": [
       "2"
      ]
     },
     "execution_count": 15,
     "metadata": {},
     "output_type": "execute_result"
    }
   ],
   "source": [
    "f(1,2)"
   ]
  },
  {
   "cell_type": "code",
   "execution_count": 16,
   "metadata": {},
   "outputs": [
    {
     "data": {
      "text/plain": [
       "1000-element Array{Float64,1}:\n",
       " 0.22532653525233481\n",
       " 0.43304306873625675\n",
       " 0.21404930808293465\n",
       " 0.8598644026393287\n",
       " 0.6371941108304671\n",
       " 0.9167919762892434\n",
       " 0.44095916722401896\n",
       " 0.9807694072126547\n",
       " 0.44182201441786195\n",
       " 0.26266139959361046\n",
       " 0.5460394223170977\n",
       " 0.5021940688725297\n",
       " 0.11227412133200532\n",
       " ⋮\n",
       " 0.5905220917767469\n",
       " 0.677628345872924\n",
       " 0.2125636304716887\n",
       " 0.6427314609156101\n",
       " 0.08665004607475901\n",
       " 0.7361675360207676\n",
       " 0.5188339448587747\n",
       " 0.604760589729634\n",
       " 0.8100899879423697\n",
       " 0.2543890043159194\n",
       " 0.9725287246179517\n",
       " 0.8504567988989333"
      ]
     },
     "execution_count": 16,
     "metadata": {},
     "output_type": "execute_result"
    }
   ],
   "source": [
    "x = rand(1000)"
   ]
  },
  {
   "cell_type": "code",
   "execution_count": 17,
   "metadata": {},
   "outputs": [
    {
     "data": {
      "text/plain": [
       "1000-element Array{Float64,1}:\n",
       " 0.2380433264396482\n",
       " 0.7419397544408526\n",
       " 0.5286452541643283\n",
       " 0.37766361388679837\n",
       " 0.14388886420276914\n",
       " 0.6295008376917162\n",
       " 0.6861180368537774\n",
       " 0.7704035392635578\n",
       " 0.5365522781552778\n",
       " 0.7319880014367108\n",
       " 0.5682981556250755\n",
       " 0.2739718425936868\n",
       " 0.39464937937859124\n",
       " ⋮\n",
       " 0.5593304292377654\n",
       " 0.3965696558175986\n",
       " 0.5527413855588392\n",
       " 0.7625869369320188\n",
       " 0.08216274851575567\n",
       " 0.05208629295275524\n",
       " 0.8618575856401092\n",
       " 0.4115294130228768\n",
       " 0.8270922228367652\n",
       " 0.5798913511897801\n",
       " 0.3446297606869826\n",
       " 0.9347026101131426"
      ]
     },
     "execution_count": 17,
     "metadata": {},
     "output_type": "execute_result"
    }
   ],
   "source": [
    "y = rand(1000)"
   ]
  },
  {
   "cell_type": "code",
   "execution_count": 18,
   "metadata": {},
   "outputs": [
    {
     "data": {
      "text/plain": [
       "1000-element Array{Int64,1}:\n",
       "  1\n",
       "  1\n",
       " -1\n",
       " -1\n",
       " -1\n",
       " -1\n",
       "  1\n",
       " -1\n",
       "  1\n",
       " -1\n",
       " -1\n",
       "  1\n",
       "  1\n",
       "  ⋮\n",
       " -1\n",
       " -1\n",
       " -1\n",
       " -1\n",
       " -1\n",
       "  1\n",
       " -1\n",
       " -1\n",
       " -1\n",
       "  1\n",
       "  1\n",
       " -1"
      ]
     },
     "execution_count": 18,
     "metadata": {},
     "output_type": "execute_result"
    }
   ],
   "source": [
    "z = rand([-1,1],1000)"
   ]
  },
  {
   "cell_type": "code",
   "execution_count": 19,
   "metadata": {},
   "outputs": [
    {
     "data": {
      "text/plain": [
       "1000-element Array{Float64,1}:\n",
       "  0.22532653525233481\n",
       "  0.43304306873625675\n",
       " -0.21404930808293465\n",
       " -0.8598644026393287\n",
       " -0.6371941108304671\n",
       " -0.9167919762892434\n",
       "  0.44095916722401896\n",
       " -0.9807694072126547\n",
       "  0.44182201441786195\n",
       " -0.26266139959361046\n",
       " -0.5460394223170977\n",
       "  0.5021940688725297\n",
       "  0.11227412133200532\n",
       "  ⋮\n",
       " -0.5905220917767469\n",
       " -0.677628345872924\n",
       " -0.2125636304716887\n",
       " -0.6427314609156101\n",
       " -0.08665004607475901\n",
       "  0.7361675360207676\n",
       " -0.5188339448587747\n",
       " -0.604760589729634\n",
       " -0.8100899879423697\n",
       "  0.2543890043159194\n",
       "  0.9725287246179517\n",
       " -0.8504567988989333"
      ]
     },
     "execution_count": 19,
     "metadata": {},
     "output_type": "execute_result"
    }
   ],
   "source": [
    "f.(x,z)"
   ]
  },
  {
   "cell_type": "markdown",
   "metadata": {},
   "source": [
    "Podemos definir una función de manera similar a MATLAB"
   ]
  },
  {
   "cell_type": "code",
   "execution_count": 20,
   "metadata": {},
   "outputs": [
    {
     "data": {
      "text/plain": [
       "g (generic function with 1 method)"
      ]
     },
     "execution_count": 20,
     "metadata": {},
     "output_type": "execute_result"
    }
   ],
   "source": [
    "function g(x,y)\n",
    "    return x*y\n",
    "end"
   ]
  },
  {
   "cell_type": "code",
   "execution_count": 21,
   "metadata": {},
   "outputs": [
    {
     "data": {
      "text/plain": [
       "1000-element Array{Float64,1}:\n",
       "  0.22532653525233481\n",
       "  0.43304306873625675\n",
       " -0.21404930808293465\n",
       " -0.8598644026393287\n",
       " -0.6371941108304671\n",
       " -0.9167919762892434\n",
       "  0.44095916722401896\n",
       " -0.9807694072126547\n",
       "  0.44182201441786195\n",
       " -0.26266139959361046\n",
       " -0.5460394223170977\n",
       "  0.5021940688725297\n",
       "  0.11227412133200532\n",
       "  ⋮\n",
       " -0.5905220917767469\n",
       " -0.677628345872924\n",
       " -0.2125636304716887\n",
       " -0.6427314609156101\n",
       " -0.08665004607475901\n",
       "  0.7361675360207676\n",
       " -0.5188339448587747\n",
       " -0.604760589729634\n",
       " -0.8100899879423697\n",
       "  0.2543890043159194\n",
       "  0.9725287246179517\n",
       " -0.8504567988989333"
      ]
     },
     "execution_count": 21,
     "metadata": {},
     "output_type": "execute_result"
    }
   ],
   "source": [
    "g.(x,z)"
   ]
  },
  {
   "cell_type": "code",
   "execution_count": 22,
   "metadata": {},
   "outputs": [
    {
     "data": {
      "text/plain": [
       "true"
      ]
     },
     "execution_count": 22,
     "metadata": {},
     "output_type": "execute_result"
    }
   ],
   "source": [
    "g.(z,x) == g.(x,z)"
   ]
  },
  {
   "cell_type": "code",
   "execution_count": 23,
   "metadata": {},
   "outputs": [
    {
     "data": {
      "text/plain": [
       "h (generic function with 1 method)"
      ]
     },
     "execution_count": 23,
     "metadata": {},
     "output_type": "execute_result"
    }
   ],
   "source": [
    "h(x) = sum(x)"
   ]
  },
  {
   "cell_type": "code",
   "execution_count": 24,
   "metadata": {},
   "outputs": [
    {
     "data": {
      "text/plain": [
       "499.57342060648847"
      ]
     },
     "execution_count": 24,
     "metadata": {},
     "output_type": "execute_result"
    }
   ],
   "source": [
    "h(x)"
   ]
  },
  {
   "cell_type": "markdown",
   "metadata": {},
   "source": [
    "Composición de funciones"
   ]
  },
  {
   "cell_type": "code",
   "execution_count": 25,
   "metadata": {},
   "outputs": [
    {
     "data": {
      "text/plain": [
       "-27.106207565840585"
      ]
     },
     "execution_count": 25,
     "metadata": {},
     "output_type": "execute_result"
    }
   ],
   "source": [
    "h(g.(z,x))"
   ]
  },
  {
   "cell_type": "code",
   "execution_count": 26,
   "metadata": {},
   "outputs": [
    {
     "data": {
      "text/plain": [
       "-27.106207565840585"
      ]
     },
     "execution_count": 26,
     "metadata": {},
     "output_type": "execute_result"
    }
   ],
   "source": [
    "h(g.(x,z))"
   ]
  },
  {
   "cell_type": "code",
   "execution_count": 27,
   "metadata": {},
   "outputs": [
    {
     "data": {
      "text/plain": [
       "true"
      ]
     },
     "execution_count": 27,
     "metadata": {},
     "output_type": "execute_result"
    }
   ],
   "source": [
    "h(g.(z,x)) ==  h(g.(x,z))"
   ]
  },
  {
   "cell_type": "code",
   "execution_count": 28,
   "metadata": {},
   "outputs": [
    {
     "data": {
      "text/plain": [
       "0.0"
      ]
     },
     "execution_count": 28,
     "metadata": {},
     "output_type": "execute_result"
    }
   ],
   "source": [
    "h(g.(z,x)) -  h(g.(x,z))"
   ]
  },
  {
   "cell_type": "code",
   "execution_count": 29,
   "metadata": {},
   "outputs": [
    {
     "data": {
      "text/plain": [
       "suma (generic function with 1 method)"
      ]
     },
     "execution_count": 29,
     "metadata": {},
     "output_type": "execute_result"
    }
   ],
   "source": [
    "function suma(x)\n",
    "    s = 0\n",
    "    for i ∈ 1:length(x)\n",
    "        s += x[i]\n",
    "    end\n",
    "    return s\n",
    "end"
   ]
  },
  {
   "cell_type": "code",
   "execution_count": 30,
   "metadata": {},
   "outputs": [
    {
     "data": {
      "text/plain": [
       "499.57342060648824"
      ]
     },
     "execution_count": 30,
     "metadata": {},
     "output_type": "execute_result"
    }
   ],
   "source": [
    "suma(x)"
   ]
  },
  {
   "cell_type": "code",
   "execution_count": 31,
   "metadata": {},
   "outputs": [
    {
     "data": {
      "text/plain": [
       "499.57342060648847"
      ]
     },
     "execution_count": 31,
     "metadata": {},
     "output_type": "execute_result"
    }
   ],
   "source": [
    "h(x)"
   ]
  },
  {
   "cell_type": "code",
   "execution_count": 32,
   "metadata": {},
   "outputs": [
    {
     "data": {
      "text/plain": [
       "false"
      ]
     },
     "execution_count": 32,
     "metadata": {},
     "output_type": "execute_result"
    }
   ],
   "source": [
    "suma(x) == h(x)"
   ]
  },
  {
   "cell_type": "code",
   "execution_count": 33,
   "metadata": {},
   "outputs": [
    {
     "data": {
      "text/plain": [
       "true"
      ]
     },
     "execution_count": 33,
     "metadata": {},
     "output_type": "execute_result"
    }
   ],
   "source": [
    "suma(x) ≈ h(x)"
   ]
  },
  {
   "cell_type": "markdown",
   "metadata": {},
   "source": [
    "## BenchmarkTools y Código eficiente\n",
    "\n",
    "El paquete `BecnmarkTools.jl` sirve para ver el tiempo promedio de ejecución y el número de asignaciones realizadas.\n",
    "\n",
    "Para escribir Código eficiente en Julia se recomienda:\n",
    "\n",
    "- Evitar variables globales: Este tipo de variables pueden cambiar de tipo en cada iteración, por lo que el compilador no puede optimizar el código. (Type Stability). Una manera de evitar esto último es definirlas como constante.\n",
    "\n",
    "- Escribir código que es Type Stable: Básicamente es que la función retorne un valor del mismo tipo que el input y que en todas las iteraciones la función sepa de antemano qué tipo de variable es cada una."
   ]
  },
  {
   "cell_type": "code",
   "execution_count": 34,
   "metadata": {},
   "outputs": [
    {
     "data": {
      "text/plain": [
       "0"
      ]
     },
     "execution_count": 34,
     "metadata": {},
     "output_type": "execute_result"
    }
   ],
   "source": [
    "const Constante = 0"
   ]
  },
  {
   "cell_type": "markdown",
   "metadata": {},
   "source": [
    "Constante significa que siempre será del mismo tipo, en este caso Int64, pero puede cambiar de valor"
   ]
  },
  {
   "cell_type": "code",
   "execution_count": 35,
   "metadata": {},
   "outputs": [
    {
     "name": "stderr",
     "output_type": "stream",
     "text": [
      "WARNING: redefinition of constant Constante. This may fail, cause incorrect answers, or produce other errors.\n"
     ]
    },
    {
     "data": {
      "text/plain": [
       "1"
      ]
     },
     "execution_count": 35,
     "metadata": {},
     "output_type": "execute_result"
    }
   ],
   "source": [
    "Constante = 1"
   ]
  },
  {
   "cell_type": "code",
   "execution_count": 36,
   "metadata": {},
   "outputs": [
    {
     "data": {
      "text/plain": [
       "Int64"
      ]
     },
     "execution_count": 36,
     "metadata": {},
     "output_type": "execute_result"
    }
   ],
   "source": [
    "typeof(Constante)"
   ]
  },
  {
   "cell_type": "markdown",
   "metadata": {},
   "source": [
    "Si intentamos darle un valor Float64 deberiamos recibir un ERROR!"
   ]
  },
  {
   "cell_type": "code",
   "execution_count": 37,
   "metadata": {},
   "outputs": [
    {
     "ename": "LoadError",
     "evalue": "invalid redefinition of constant Constante",
     "output_type": "error",
     "traceback": [
      "invalid redefinition of constant Constante",
      "",
      "Stacktrace:",
      " [1] top-level scope at In[37]:1",
      " [2] include_string(::Function, ::Module, ::String, ::String) at .\\loading.jl:1091"
     ]
    }
   ],
   "source": [
    "Constante = 1.0"
   ]
  },
  {
   "cell_type": "code",
   "execution_count": 38,
   "metadata": {},
   "outputs": [],
   "source": [
    "using BenchmarkTools"
   ]
  },
  {
   "cell_type": "code",
   "execution_count": 39,
   "metadata": {},
   "outputs": [
    {
     "name": "stdout",
     "output_type": "stream",
     "text": [
      "  589.474 ns (1 allocation: 7.94 KiB)\n"
     ]
    },
    {
     "data": {
      "text/plain": [
       "1000-element Array{Float64,1}:\n",
       " 0.05363747798658643\n",
       " 0.3212918680804916\n",
       " 0.1131561508752016\n",
       " 0.32473949775338196\n",
       " 0.0916851368840893\n",
       " 0.5771213170631226\n",
       " 0.3025500381484204\n",
       " 0.7555882225180507\n",
       " 0.23706060837505785\n",
       " 0.1922649929430962\n",
       " 0.3103131966013883\n",
       " 0.13758703438862782\n",
       " 0.04430891230395255\n",
       " ⋮\n",
       " 0.3302969750678709\n",
       " 0.2687268398950741\n",
       " 0.11749271562633831\n",
       " 0.49013861604947667\n",
       " 0.007119405944519066\n",
       " 0.038344237943485696\n",
       " 0.44716097106411706\n",
       " 0.2488767705108051\n",
       " 0.6700191288250629\n",
       " 0.14751798344058129\n",
       " 0.3351623416263011\n",
       " 0.794924189719301"
      ]
     },
     "execution_count": 39,
     "metadata": {},
     "output_type": "execute_result"
    }
   ],
   "source": [
    "@btime f.($x,$y)"
   ]
  },
  {
   "cell_type": "code",
   "execution_count": 40,
   "metadata": {},
   "outputs": [
    {
     "name": "stdout",
     "output_type": "stream",
     "text": [
      "  704.354 ns (1 allocation: 7.94 KiB)\n"
     ]
    },
    {
     "data": {
      "text/plain": [
       "1000-element Array{Float64,1}:\n",
       "  0.22532653525233481\n",
       "  0.43304306873625675\n",
       " -0.21404930808293465\n",
       " -0.8598644026393287\n",
       " -0.6371941108304671\n",
       " -0.9167919762892434\n",
       "  0.44095916722401896\n",
       " -0.9807694072126547\n",
       "  0.44182201441786195\n",
       " -0.26266139959361046\n",
       " -0.5460394223170977\n",
       "  0.5021940688725297\n",
       "  0.11227412133200532\n",
       "  ⋮\n",
       " -0.5905220917767469\n",
       " -0.677628345872924\n",
       " -0.2125636304716887\n",
       " -0.6427314609156101\n",
       " -0.08665004607475901\n",
       "  0.7361675360207676\n",
       " -0.5188339448587747\n",
       " -0.604760589729634\n",
       " -0.8100899879423697\n",
       "  0.2543890043159194\n",
       "  0.9725287246179517\n",
       " -0.8504567988989333"
      ]
     },
     "execution_count": 40,
     "metadata": {},
     "output_type": "execute_result"
    }
   ],
   "source": [
    "@btime f.($x,$z)"
   ]
  },
  {
   "cell_type": "code",
   "execution_count": 85,
   "metadata": {},
   "outputs": [
    {
     "data": {
      "text/plain": [
       "numeros (generic function with 1 method)"
      ]
     },
     "execution_count": 85,
     "metadata": {},
     "output_type": "execute_result"
    }
   ],
   "source": [
    "function numeros(n)\n",
    "   [\"$i\" for i ∈ 1:n] \n",
    "end"
   ]
  },
  {
   "cell_type": "code",
   "execution_count": 86,
   "metadata": {},
   "outputs": [
    {
     "data": {
      "text/plain": [
       "BenchmarkTools.Trial: \n",
       "  memory estimate:  101.69 KiB\n",
       "  allocs estimate:  2001\n",
       "  --------------\n",
       "  minimum time:     37.500 μs (0.00% GC)\n",
       "  median time:      39.200 μs (0.00% GC)\n",
       "  mean time:        45.961 μs (11.52% GC)\n",
       "  maximum time:     2.799 ms (97.76% GC)\n",
       "  --------------\n",
       "  samples:          10000\n",
       "  evals/sample:     1"
      ]
     },
     "execution_count": 86,
     "metadata": {},
     "output_type": "execute_result"
    }
   ],
   "source": [
    "@benchmark numeros($1000)"
   ]
  },
  {
   "cell_type": "code",
   "execution_count": 50,
   "metadata": {},
   "outputs": [
    {
     "data": {
      "text/plain": [
       "numeros2 (generic function with 1 method)"
      ]
     },
     "execution_count": 50,
     "metadata": {},
     "output_type": "execute_result"
    }
   ],
   "source": [
    "function numeros2(n)\n",
    "    Array1 = Array{String}(undef,n)\n",
    "    for i=1:n\n",
    "        Array1[i] = \"$i\"\n",
    "    end\n",
    "end        "
   ]
  },
  {
   "cell_type": "code",
   "execution_count": 81,
   "metadata": {
    "scrolled": true
   },
   "outputs": [
    {
     "data": {
      "text/plain": [
       "BenchmarkTools.Trial: \n",
       "  memory estimate:  101.69 KiB\n",
       "  allocs estimate:  2001\n",
       "  --------------\n",
       "  minimum time:     34.999 μs (0.00% GC)\n",
       "  median time:      36.700 μs (0.00% GC)\n",
       "  mean time:        43.317 μs (11.81% GC)\n",
       "  maximum time:     2.705 ms (97.71% GC)\n",
       "  --------------\n",
       "  samples:          10000\n",
       "  evals/sample:     1"
      ]
     },
     "execution_count": 81,
     "metadata": {},
     "output_type": "execute_result"
    }
   ],
   "source": [
    "@benchmark numeros2($1000)"
   ]
  },
  {
   "cell_type": "code",
   "execution_count": 52,
   "metadata": {},
   "outputs": [
    {
     "data": {
      "text/plain": [
       "numeros3 (generic function with 1 method)"
      ]
     },
     "execution_count": 52,
     "metadata": {},
     "output_type": "execute_result"
    }
   ],
   "source": [
    "function numeros3(n)\n",
    "    Array1 = Array{String}(undef,n)\n",
    "    @inbounds for i=1:n\n",
    "        Array1[i] = \"$i\"\n",
    "    end\n",
    "end  "
   ]
  },
  {
   "cell_type": "code",
   "execution_count": 80,
   "metadata": {},
   "outputs": [
    {
     "data": {
      "text/plain": [
       "BenchmarkTools.Trial: \n",
       "  memory estimate:  101.69 KiB\n",
       "  allocs estimate:  2001\n",
       "  --------------\n",
       "  minimum time:     34.499 μs (0.00% GC)\n",
       "  median time:      36.200 μs (0.00% GC)\n",
       "  mean time:        43.440 μs (12.14% GC)\n",
       "  maximum time:     2.949 ms (97.81% GC)\n",
       "  --------------\n",
       "  samples:          10000\n",
       "  evals/sample:     1"
      ]
     },
     "execution_count": 80,
     "metadata": {},
     "output_type": "execute_result"
    }
   ],
   "source": [
    "@benchmark numeros3($1000)"
   ]
  },
  {
   "cell_type": "code",
   "execution_count": 83,
   "metadata": {},
   "outputs": [
    {
     "data": {
      "text/plain": [
       "numeros4 (generic function with 1 method)"
      ]
     },
     "execution_count": 83,
     "metadata": {},
     "output_type": "execute_result"
    }
   ],
   "source": [
    "Array1 = Array{String}(undef,1000)\n",
    "function numeros4(Array1,n)\n",
    "        @simd for i=1:n\n",
    "        Array1[i] = \"$i\"\n",
    "    end\n",
    "end "
   ]
  },
  {
   "cell_type": "code",
   "execution_count": 84,
   "metadata": {},
   "outputs": [
    {
     "data": {
      "text/plain": [
       "BenchmarkTools.Trial: \n",
       "  memory estimate:  93.77 KiB\n",
       "  allocs estimate:  2001\n",
       "  --------------\n",
       "  minimum time:     33.799 μs (0.00% GC)\n",
       "  median time:      35.501 μs (0.00% GC)\n",
       "  mean time:        41.907 μs (11.64% GC)\n",
       "  maximum time:     2.851 ms (97.71% GC)\n",
       "  --------------\n",
       "  samples:          10000\n",
       "  evals/sample:     1"
      ]
     },
     "execution_count": 84,
     "metadata": {},
     "output_type": "execute_result"
    }
   ],
   "source": [
    "@benchmark numeros4(Array1,$1000)"
   ]
  },
  {
   "cell_type": "markdown",
   "metadata": {},
   "source": [
    "### Static Arrays\n",
    "\n",
    "Para vectores y matrices de tamaño no muy grande (menor a 1000 o 100)"
   ]
  },
  {
   "cell_type": "code",
   "execution_count": 56,
   "metadata": {},
   "outputs": [],
   "source": [
    "using StaticArrays"
   ]
  },
  {
   "cell_type": "code",
   "execution_count": 57,
   "metadata": {},
   "outputs": [
    {
     "data": {
      "text/plain": [
       "1000-element SArray{Tuple{1000},Int64,1,1000} with indices SOneTo(1000):\n",
       "       1\n",
       "       4\n",
       "       9\n",
       "      16\n",
       "      25\n",
       "      36\n",
       "      49\n",
       "      64\n",
       "      81\n",
       "     100\n",
       "     121\n",
       "     144\n",
       "     169\n",
       "       ⋮\n",
       "  978121\n",
       "  980100\n",
       "  982081\n",
       "  984064\n",
       "  986049\n",
       "  988036\n",
       "  990025\n",
       "  992016\n",
       "  994009\n",
       "  996004\n",
       "  998001\n",
       " 1000000"
      ]
     },
     "execution_count": 57,
     "metadata": {},
     "output_type": "execute_result"
    }
   ],
   "source": [
    "x  = @SVector [i^2 for i=1:1000]"
   ]
  },
  {
   "cell_type": "code",
   "execution_count": 58,
   "metadata": {},
   "outputs": [
    {
     "data": {
      "text/plain": [
       "1000-element Array{Int64,1}:\n",
       "       1\n",
       "       4\n",
       "       9\n",
       "      16\n",
       "      25\n",
       "      36\n",
       "      49\n",
       "      64\n",
       "      81\n",
       "     100\n",
       "     121\n",
       "     144\n",
       "     169\n",
       "       ⋮\n",
       "  978121\n",
       "  980100\n",
       "  982081\n",
       "  984064\n",
       "  986049\n",
       "  988036\n",
       "  990025\n",
       "  992016\n",
       "  994009\n",
       "  996004\n",
       "  998001\n",
       " 1000000"
      ]
     },
     "execution_count": 58,
     "metadata": {},
     "output_type": "execute_result"
    }
   ],
   "source": [
    "y = [i^2 for i=1:1000]"
   ]
  },
  {
   "cell_type": "code",
   "execution_count": 59,
   "metadata": {},
   "outputs": [
    {
     "name": "stdout",
     "output_type": "stream",
     "text": [
      "  0.001 ns (0 allocations: 0 bytes)\n"
     ]
    },
    {
     "data": {
      "text/plain": [
       "333833500"
      ]
     },
     "execution_count": 59,
     "metadata": {},
     "output_type": "execute_result"
    }
   ],
   "source": [
    "@btime sum($x)"
   ]
  },
  {
   "cell_type": "code",
   "execution_count": 60,
   "metadata": {},
   "outputs": [
    {
     "name": "stdout",
     "output_type": "stream",
     "text": [
      "  74.461 ns (0 allocations: 0 bytes)\n"
     ]
    },
    {
     "data": {
      "text/plain": [
       "333833500"
      ]
     },
     "execution_count": 60,
     "metadata": {},
     "output_type": "execute_result"
    }
   ],
   "source": [
    "@btime sum($y)"
   ]
  },
  {
   "cell_type": "markdown",
   "metadata": {},
   "source": [
    "### Acceder Arrays en orden de memoria (Columnas)\n",
    "\n",
    "Julia es un lenguaje Column based, lo que significa que los arrays se guardan en la memoria por columnas"
   ]
  },
  {
   "cell_type": "code",
   "execution_count": 61,
   "metadata": {},
   "outputs": [
    {
     "data": {
      "text/plain": [
       "2×2 Array{Int64,2}:\n",
       " 1  2\n",
       " 3  4"
      ]
     },
     "execution_count": 61,
     "metadata": {},
     "output_type": "execute_result"
    }
   ],
   "source": [
    "x = [1 2; 3 4]"
   ]
  },
  {
   "cell_type": "code",
   "execution_count": 62,
   "metadata": {},
   "outputs": [
    {
     "data": {
      "text/plain": [
       "4-element Array{Int64,1}:\n",
       " 1\n",
       " 3\n",
       " 2\n",
       " 4"
      ]
     },
     "execution_count": 62,
     "metadata": {},
     "output_type": "execute_result"
    }
   ],
   "source": [
    "x[:]"
   ]
  },
  {
   "cell_type": "markdown",
   "metadata": {},
   "source": [
    "Notar que que x[:] nos entrega los valores 1,3,2 y 4, es decir, las 2 columnas de x en orden"
   ]
  },
  {
   "cell_type": "markdown",
   "metadata": {},
   "source": [
    "### Pre Asignación de memoria cuando se tienen Arrays o Matrices grandes"
   ]
  },
  {
   "cell_type": "code",
   "execution_count": 68,
   "metadata": {},
   "outputs": [
    {
     "data": {
      "text/plain": [
       "xinc! (generic function with 1 method)"
      ]
     },
     "execution_count": 68,
     "metadata": {},
     "output_type": "execute_result"
    }
   ],
   "source": [
    "function xinc!(ret::AbstractVector{T}, x::T) where T\n",
    "           ret[1] = x\n",
    "           ret[2] = x+1\n",
    "           ret[3] = x+2\n",
    "           nothing\n",
    "end"
   ]
  },
  {
   "cell_type": "code",
   "execution_count": 69,
   "metadata": {},
   "outputs": [
    {
     "data": {
      "text/plain": [
       "loopinc_prealloc (generic function with 1 method)"
      ]
     },
     "execution_count": 69,
     "metadata": {},
     "output_type": "execute_result"
    }
   ],
   "source": [
    "function loopinc_prealloc()\n",
    "           ret = Vector{Int}(undef, 3)\n",
    "           y = 0\n",
    "           for i = 1:10^7\n",
    "               xinc!(ret, i)\n",
    "               y += ret[2]\n",
    "           end\n",
    "           return y\n",
    "end"
   ]
  },
  {
   "cell_type": "code",
   "execution_count": 75,
   "metadata": {},
   "outputs": [
    {
     "data": {
      "text/plain": [
       "BenchmarkTools.Trial: \n",
       "  memory estimate:  112 bytes\n",
       "  allocs estimate:  1\n",
       "  --------------\n",
       "  minimum time:     7.383 ms (0.00% GC)\n",
       "  median time:      7.447 ms (0.00% GC)\n",
       "  mean time:        7.468 ms (0.00% GC)\n",
       "  maximum time:     12.814 ms (0.00% GC)\n",
       "  --------------\n",
       "  samples:          670\n",
       "  evals/sample:     1"
      ]
     },
     "execution_count": 75,
     "metadata": {},
     "output_type": "execute_result"
    }
   ],
   "source": [
    "@benchmark loopinc_prealloc()"
   ]
  },
  {
   "cell_type": "code",
   "execution_count": 76,
   "metadata": {},
   "outputs": [],
   "source": [
    "function xinc(x)\n",
    "           return [x, x+1, x+2]\n",
    "end"
   ]
  },
  {
   "cell_type": "code",
   "execution_count": 77,
   "metadata": {},
   "outputs": [],
   "source": [
    "function loopinc()\n",
    "           y = 0\n",
    "           for i = 1:10^7\n",
    "               ret = xinc(i)\n",
    "               y += ret[2]\n",
    "           end\n",
    "           return y\n",
    "end"
   ]
  },
  {
   "cell_type": "code",
   "execution_count": 78,
   "metadata": {},
   "outputs": [
    {
     "data": {
      "text/plain": [
       "BenchmarkTools.Trial: \n",
       "  memory estimate:  1.04 GiB\n",
       "  allocs estimate:  10000000\n",
       "  --------------\n",
       "  minimum time:     253.301 ms (8.30% GC)\n",
       "  median time:      255.465 ms (8.80% GC)\n",
       "  mean time:        256.379 ms (8.75% GC)\n",
       "  maximum time:     273.003 ms (8.51% GC)\n",
       "  --------------\n",
       "  samples:          20\n",
       "  evals/sample:     1"
      ]
     },
     "execution_count": 78,
     "metadata": {},
     "output_type": "execute_result"
    }
   ],
   "source": [
    "@benchmark loopinc()"
   ]
  },
  {
   "cell_type": "markdown",
   "metadata": {},
   "source": [
    "# Para ver más tipos de optimización de código en Julia:\n",
    "\n",
    "[Manual oficial JULIA](https://docs.julialang.org/en/v1/manual/performance-tips/)\n",
    "\n",
    "[JuliaCon 2020 | Make your Julia Code Faster and Compatible with non-Julia Code](https://www.youtube.com/watch?v=S5R8zXJOsUQ)"
   ]
  }
 ],
 "metadata": {
  "@webio": {
   "lastCommId": null,
   "lastKernelId": null
  },
  "kernelspec": {
   "display_name": "Julia 1.5.0",
   "language": "julia",
   "name": "julia-1.5"
  },
  "language_info": {
   "file_extension": ".jl",
   "mimetype": "application/julia",
   "name": "julia",
   "version": "1.5.0"
  }
 },
 "nbformat": 4,
 "nbformat_minor": 4
}
