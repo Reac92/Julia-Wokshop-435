{
 "cells": [
  {
   "cell_type": "markdown",
   "metadata": {},
   "source": [
    "# El ecosistema JuMP para optimización matemática"
   ]
  },
  {
   "cell_type": "markdown",
   "metadata": {},
   "source": [
    "##  Ejemplo de motivación: Número mínimo de pasaportes necesarios para visitar todos los países sin necesidad de VISA.\n",
    "\n",
    "Utilizamos los datos provenientes de https://www.passportindex.org/. \"Become a global citizen\"."
   ]
  },
  {
   "cell_type": "code",
   "execution_count": 1,
   "metadata": {},
   "outputs": [],
   "source": [
    "#;git clone https://github.com/ilyankou/passport-index-dataset.git"
   ]
  },
  {
   "cell_type": "code",
   "execution_count": 2,
   "metadata": {},
   "outputs": [
    {
     "data": {
      "text/plain": [
       "199×199 Array{Int64,2}:\n",
       " 1  0  0  0  0  0  0  0  0  0  0  0  0  …  0  0  0  0  0  0  0  0  0  0  0  0\n",
       " 0  1  0  1  0  1  0  1  0  1  0  0  0     0  0  0  0  0  0  1  0  0  0  0  0\n",
       " 0  0  1  0  0  0  0  0  0  0  0  0  0     0  0  0  0  0  0  0  0  0  0  0  0\n",
       " 0  1  0  1  0  1  1  1  0  1  0  1  0     1  1  0  1  1  1  1  1  0  0  0  0\n",
       " 0  0  0  0  1  0  0  0  0  0  0  0  0     0  0  0  0  0  0  0  0  0  0  1  1\n",
       " 0  1  0  1  0  1  0  0  0  1  0  1  0  …  0  1  0  0  0  1  1  1  0  0  1  1\n",
       " 0  1  0  1  0  1  1  1  0  1  0  1  0     1  1  0  1  1  1  1  1  0  0  0  0\n",
       " 0  1  0  0  0  1  1  1  0  0  0  1  0     0  0  0  1  1  0  0  0  0  0  0  0\n",
       " 0  1  0  1  0  1  1  1  1  1  0  1  0     1  1  0  1  1  1  1  1  0  0  0  0\n",
       " 0  1  0  1  0  1  1  1  0  1  0  1  0     1  1  0  1  1  1  1  1  0  0  0  0\n",
       " 0  1  0  0  0  1  0  0  0  0  1  1  0  …  0  0  0  0  1  1  0  0  0  0  0  0\n",
       " 0  1  0  1  0  1  0  0  0  1  0  1  0     1  1  1  1  0  1  1  0  0  0  1  1\n",
       " 0  0  0  0  0  0  0  0  0  0  0  1  1     1  0  0  0  0  1  0  0  0  0  0  0\n",
       " ⋮              ⋮              ⋮        ⋱           ⋮              ⋮        \n",
       " 0  1  0  1  0  1  1  1  0  1  0  1  1     1  0  0  1  1  1  1  0  0  0  0  0\n",
       " 0  1  0  1  0  1  1  1  0  1  0  1  0     1  1  0  1  1  1  1  1  1  0  0  0\n",
       " 0  1  0  1  0  1  1  1  0  1  0  1  0     1  1  1  1  0  1  1  0  0  0  0  0\n",
       " 0  1  0  1  0  0  1  1  0  1  0  1  0  …  1  1  0  1  0  1  1  1  0  0  0  0\n",
       " 0  0  0  0  0  1  0  1  0  0  1  0  0     0  0  0  0  1  0  0  0  0  0  0  0\n",
       " 0  0  0  1  0  1  0  0  0  1  0  1  0     0  1  0  0  0  1  1  0  0  0  1  1\n",
       " 0  1  0  1  0  1  1  1  0  1  0  1  0     1  1  0  1  1  1  1  0  0  0  0  0\n",
       " 0  1  0  1  0  1  1  0  0  1  0  1  0     0  0  0  1  0  0  1  1  0  0  0  0\n",
       " 0  0  0  0  0  0  0  0  0  0  0  0  0  …  0  0  0  0  0  0  0  0  1  0  0  0\n",
       " 0  0  0  0  0  0  0  0  0  0  0  0  0     0  0  0  0  0  0  0  0  0  1  0  0\n",
       " 0  0  0  0  1  1  0  0  0  0  0  1  0     0  0  0  0  0  1  0  0  0  0  1  1\n",
       " 0  0  0  0  1  0  0  0  0  0  0  1  0     0  0  0  0  0  1  0  0  0  0  1  1"
      ]
     },
     "execution_count": 2,
     "metadata": {},
     "output_type": "execute_result"
    }
   ],
   "source": [
    "using DelimitedFiles\n",
    "data = readdlm(joinpath(\"passport-index-dataset\\\\legacy\\\\2019-11-23\",\"passport-index-matrix.csv\"),',')\n",
    "cntr = data[2:end,1]\n",
    "vf = (x ->  x == -1 || x == 3 ? 1 : 0).(data[2:end,2:end])"
   ]
  },
  {
   "cell_type": "markdown",
   "metadata": {},
   "source": [
    "### (Constrained) Mathematical Optimization and JuMP"
   ]
  },
  {
   "cell_type": "markdown",
   "metadata": {},
   "source": [
    "$$ \\begin{align*} \\min_{x,y} &&\\quad \\sum_{\\operatorname{cntr} \\;\\in\\; \\operatorname{World}} \\operatorname{pass}_{\\,\\operatorname{cntr}} \\\\ \\text{s.t.}&&\\quad \\sum_{\\operatorname{cntr} \\;\\in\\; \\operatorname{World}}\\operatorname{vf}(\\operatorname{cntr},\\operatorname{dst}) \\cdot \\operatorname{pass}_{\\,\\operatorname{cntr}} &\\geq 1\\quad &\\quad& \\forall \\; \\operatorname{dst} \\;\\in \\; \\operatorname{World}\\\\ &&\\operatorname{pass}_{\\,\\operatorname{cntr}} &\\in \\{0,1\\}&\\quad& \\forall \\; \\operatorname{cntr}\\in \\; \\operatorname{World}. \\end{align*} $$"
   ]
  },
  {
   "cell_type": "code",
   "execution_count": 3,
   "metadata": {},
   "outputs": [
    {
     "name": "stdout",
     "output_type": "stream",
     "text": [
      "24.0 passports: Afghanistan, Angola, Australia, Austria, China, Comoros, Congo, Eritrea, Gambia, Georgia, Hong Kong, India, Iraq, Kenya, Madagascar, Maldives, North Korea, Papua New Guinea, Seychelles, Singapore, Somalia, Tunisia, United Arab Emirates, United States"
     ]
    }
   ],
   "source": [
    "using JuMP, GLPK\n",
    "model = Model(with_optimizer(GLPK.Optimizer))\n",
    "@variable(model, pass[1:length(cntr)], Bin)\n",
    "@constraint(model, [j=1:length(cntr)], sum( vf[i,j]*pass[i] for i in 1:length(cntr)) >= 1)\n",
    "@objective(model, Min, sum(pass))\n",
    "JuMP.optimize!(model)\n",
    "print(JuMP.objective_value(model),\" passports: \",join(cntr[findall(JuMP.value.(pass) .== 1)],\", \"))"
   ]
  },
  {
   "cell_type": "markdown",
   "metadata": {},
   "source": [
    "## Ejemplo paso a paso: Resolviendo un Problema Lineal\n",
    "\n",
    "Resolvamos el siguiente problema lineal de 2 variables\n",
    "\n",
    "$$\n",
    "\\begin{align*}\n",
    "\\max_{x,y} \\quad x + 2y \\\\\n",
    "\\text{s.t.} \\quad x + y\\leq 1 \\\\\n",
    "0\\leq x, y \\leq 1\n",
    "\\end{align*}\n",
    "$$\n",
    "\n",
    "Cargamos JuMP, MathOptInterface (MOI) y GLPK (GNU LP/MIP solver -gratuito-):"
   ]
  },
  {
   "cell_type": "code",
   "execution_count": 4,
   "metadata": {},
   "outputs": [],
   "source": [
    "using JuMP  \n",
    "using MathOptInterface # Replaces MathProgBase\n",
    "# shortcuts\n",
    "const MOI = MathOptInterface\n",
    "const MOIU = MathOptInterface.Utilities\n",
    "using GLPK # Loading the GLPK module for using its solver"
   ]
  },
  {
   "cell_type": "markdown",
   "metadata": {},
   "source": [
    "Construir un objeto tipo modelo (que contiene variables, restricciones, opciones del solver, etc):"
   ]
  },
  {
   "cell_type": "code",
   "execution_count": 5,
   "metadata": {},
   "outputs": [],
   "source": [
    "model = Model(with_optimizer(GLPK.Optimizer,msg_lev = 4));"
   ]
  },
  {
   "cell_type": "markdown",
   "metadata": {},
   "source": [
    "Definir las variables del modelo $0\\leq x, y \\leq 1$:"
   ]
  },
  {
   "cell_type": "code",
   "execution_count": 6,
   "metadata": {},
   "outputs": [
    {
     "data": {
      "text/latex": [
       "$$ y $$"
      ],
      "text/plain": [
       "y"
      ]
     },
     "execution_count": 6,
     "metadata": {},
     "output_type": "execute_result"
    }
   ],
   "source": [
    "@variable(model, 0 <= x <= 1)\n",
    "@variable(model, 0 <= y <= 1)"
   ]
  },
  {
   "cell_type": "markdown",
   "metadata": {},
   "source": [
    "Añadir restricción al modelo $x + y \\leq 1$:"
   ]
  },
  {
   "cell_type": "code",
   "execution_count": 7,
   "metadata": {},
   "outputs": [
    {
     "data": {
      "text/latex": [
       "$ x + y \\leq 1.0 $"
      ],
      "text/plain": [
       "x + y <= 1.0"
      ]
     },
     "execution_count": 7,
     "metadata": {},
     "output_type": "execute_result"
    }
   ],
   "source": [
    "@constraint(model, x + y <= 1)"
   ]
  },
  {
   "cell_type": "markdown",
   "metadata": {},
   "source": [
    "Añadir función objetivo al modelo $\\max x + 2y$:"
   ]
  },
  {
   "cell_type": "code",
   "execution_count": 8,
   "metadata": {},
   "outputs": [
    {
     "data": {
      "text/latex": [
       "$$ x + 2 y $$"
      ],
      "text/plain": [
       "x + 2 y"
      ]
     },
     "execution_count": 8,
     "metadata": {},
     "output_type": "execute_result"
    }
   ],
   "source": [
    "@objective(model, Max, x + 2y)"
   ]
  },
  {
   "cell_type": "markdown",
   "metadata": {},
   "source": [
    "Veamos cómo está quedando el modelo"
   ]
  },
  {
   "cell_type": "code",
   "execution_count": 9,
   "metadata": {},
   "outputs": [
    {
     "data": {
      "text/latex": [
       "$$ \\begin{alignat*}{1}\\max\\quad & x + 2 y\\\\\n",
       "\\text{Subject to} \\quad & x + y \\leq 1.0\\\\\n",
       " & x \\geq 0.0\\\\\n",
       " & y \\geq 0.0\\\\\n",
       " & x \\leq 1.0\\\\\n",
       " & y \\leq 1.0\\\\\n",
       "\\end{alignat*}\n",
       " $$"
      ],
      "text/plain": [
       "A JuMP Model\n",
       "Maximization problem with:\n",
       "Variables: 2\n",
       "Objective function type: GenericAffExpr{Float64,VariableRef}\n",
       "`GenericAffExpr{Float64,VariableRef}`-in-`MathOptInterface.LessThan{Float64}`: 1 constraint\n",
       "`VariableRef`-in-`MathOptInterface.GreaterThan{Float64}`: 2 constraints\n",
       "`VariableRef`-in-`MathOptInterface.LessThan{Float64}`: 2 constraints\n",
       "Model mode: AUTOMATIC\n",
       "CachingOptimizer state: EMPTY_OPTIMIZER\n",
       "Solver name: GLPK\n",
       "Names registered in the model: x, y"
      ]
     },
     "execution_count": 9,
     "metadata": {},
     "output_type": "execute_result"
    }
   ],
   "source": [
    "model"
   ]
  },
  {
   "cell_type": "markdown",
   "metadata": {},
   "source": [
    "El modelo está completo y ya hemos seleccionado un solver al comienzo. Solo queda llamar a la función `Optimize` para resolverlo"
   ]
  },
  {
   "cell_type": "code",
   "execution_count": 10,
   "metadata": {},
   "outputs": [
    {
     "name": "stdout",
     "output_type": "stream",
     "text": [
      "GLPK Simplex Optimizer, v4.64\n",
      "1 row, 2 columns, 2 non-zeros\n",
      "*     0: obj = -0.000000000e+000 inf =  0.000e+000 (2)\n",
      "*     2: obj =  2.000000000e+000 inf =  0.000e+000 (0)\n",
      "OPTIMAL LP SOLUTION FOUND\n"
     ]
    }
   ],
   "source": [
    "JuMP.optimize!(model)"
   ]
  },
  {
   "cell_type": "markdown",
   "metadata": {},
   "source": [
    "Podemos chequear el estado de la optimización:\n",
    "- ¿Obtuvimos valores óptimos para el primal?\n",
    "- ¿Se terminó el problema?\n",
    "- ¿Obtuvimos un punto factible?\n",
    "- ¿Qué pasa con el Dual?"
   ]
  },
  {
   "cell_type": "code",
   "execution_count": 11,
   "metadata": {},
   "outputs": [
    {
     "name": "stdout",
     "output_type": "stream",
     "text": [
      "JuMP.has_values(model) = true\n",
      "JuMP.termination_status(model) == MOI.OPTIMAL = true\n",
      "JuMP.primal_status(model) == MOI.FEASIBLE_POINT = true\n",
      "JuMP.dual_status(model) == MOI.FEASIBLE_POINT = true\n"
     ]
    },
    {
     "data": {
      "text/plain": [
       "true"
      ]
     },
     "execution_count": 11,
     "metadata": {},
     "output_type": "execute_result"
    }
   ],
   "source": [
    "@show JuMP.has_values(model)\n",
    "@show JuMP.termination_status(model) == MOI.OPTIMAL\n",
    "@show JuMP.primal_status(model) == MOI.FEASIBLE_POINT\n",
    "@show JuMP.dual_status(model) == MOI.FEASIBLE_POINT"
   ]
  },
  {
   "cell_type": "code",
   "execution_count": 12,
   "metadata": {},
   "outputs": [
    {
     "data": {
      "text/plain": [
       "Enum MathOptInterface.ResultStatusCode:\n",
       "NO_SOLUTION = 0\n",
       "FEASIBLE_POINT = 1\n",
       "NEARLY_FEASIBLE_POINT = 2\n",
       "INFEASIBLE_POINT = 3\n",
       "INFEASIBILITY_CERTIFICATE = 4\n",
       "NEARLY_INFEASIBILITY_CERTIFICATE = 5\n",
       "REDUCTION_CERTIFICATE = 6\n",
       "NEARLY_REDUCTION_CERTIFICATE = 7\n",
       "UNKNOWN_RESULT_STATUS = 8\n",
       "OTHER_RESULT_STATUS = 9"
      ]
     },
     "metadata": {},
     "output_type": "display_data"
    }
   ],
   "source": [
    "display(typeof(MOI.FEASIBLE_POINT))"
   ]
  },
  {
   "cell_type": "markdown",
   "metadata": {},
   "source": [
    "Recuperemos los valores que nos importan"
   ]
  },
  {
   "cell_type": "code",
   "execution_count": 13,
   "metadata": {},
   "outputs": [
    {
     "name": "stdout",
     "output_type": "stream",
     "text": [
      "JuMP.value(x) = 0.0\n",
      "JuMP.value(y) = 1.0\n",
      "JuMP.objective_value(model) = 2.0\n"
     ]
    }
   ],
   "source": [
    "@show JuMP.value(x)              # Old syntax: getvalue(x)\n",
    "@show JuMP.value(y)              # Old syntax: getvalue(y)\n",
    "@show JuMP.objective_value(model);       # Old syntax: getobjectivevalue(model)"
   ]
  },
  {
   "cell_type": "markdown",
   "metadata": {},
   "source": [
    "Podemos también ponerle nombre a alguna restricción para llamarla más adelante (o pedir calcular su multiplicador, eliminarla, etc)"
   ]
  },
  {
   "cell_type": "code",
   "execution_count": 14,
   "metadata": {},
   "outputs": [
    {
     "name": "stdout",
     "output_type": "stream",
     "text": [
      "JuMP.termination_status(model) == MOI.OPTIMAL = true\n"
     ]
    },
    {
     "data": {
      "text/plain": [
       "true"
      ]
     },
     "execution_count": 14,
     "metadata": {},
     "output_type": "execute_result"
    }
   ],
   "source": [
    "model = Model(with_optimizer(GLPK.Optimizer, msg_lev = 0))\n",
    "@variable(model, 0 <= x <= 1)\n",
    "@variable(model, 0 <= y <= 1)\n",
    "@constraint(model, inequality, x + y <= 1)     # <=============== constraint can be referenced later as \"inequality\"\n",
    "@objective(model, Max, x + 2y)\n",
    "JuMP.optimize!(model)\n",
    "@show JuMP.termination_status(model) == MOI.OPTIMAL"
   ]
  },
  {
   "cell_type": "code",
   "execution_count": 15,
   "metadata": {},
   "outputs": [
    {
     "data": {
      "text/plain": [
       "-1.0"
      ]
     },
     "execution_count": 15,
     "metadata": {},
     "output_type": "execute_result"
    }
   ],
   "source": [
    "λ = JuMP.dual(inequality)"
   ]
  },
  {
   "cell_type": "code",
   "execution_count": 16,
   "metadata": {},
   "outputs": [
    {
     "name": "stdout",
     "output_type": "stream",
     "text": [
      "JuMP.termination_status(model) == MOI.OPTIMAL = true\n",
      "JuMP.objective_value(model) = 3.0\n"
     ]
    }
   ],
   "source": [
    "JuMP.delete(model, inequality)\n",
    "JuMP.optimize!(model)\n",
    "@show JuMP.termination_status(model) == MOI.OPTIMAL\n",
    "@show JuMP.objective_value(model);"
   ]
  },
  {
   "cell_type": "markdown",
   "metadata": {},
   "source": [
    "# Restricciones no lineales"
   ]
  },
  {
   "cell_type": "code",
   "execution_count": 17,
   "metadata": {},
   "outputs": [
    {
     "name": "stdout",
     "output_type": "stream",
     "text": [
      "\n",
      "******************************************************************************\n",
      "This program contains Ipopt, a library for large-scale nonlinear optimization.\n",
      " Ipopt is released as open source code under the Eclipse Public License (EPL).\n",
      "         For more information visit http://projects.coin-or.org/Ipopt\n",
      "******************************************************************************\n",
      "\n",
      "This is Ipopt version 3.13.2, running with linear solver mumps.\n",
      "NOTE: Other linear solvers might be more efficient (see Ipopt documentation).\n",
      "\n",
      "Number of nonzeros in equality constraint Jacobian...:        0\n",
      "Number of nonzeros in inequality constraint Jacobian.:        1\n",
      "Number of nonzeros in Lagrangian Hessian.............:        4\n",
      "\n",
      "Total number of variables............................:        2\n",
      "                     variables with only lower bounds:        0\n",
      "                variables with lower and upper bounds:        0\n",
      "                     variables with only upper bounds:        0\n",
      "Total number of equality constraints.................:        0\n",
      "Total number of inequality constraints...............:        1\n",
      "        inequality constraints with only lower bounds:        0\n",
      "   inequality constraints with lower and upper bounds:        0\n",
      "        inequality constraints with only upper bounds:        1\n",
      "\n",
      "iter    objective    inf_pr   inf_du lg(mu)  ||d||  lg(rg) alpha_du alpha_pr  ls\n",
      "   0  1.0000000e+00 1.00e+00 0.00e+00  -1.0 0.00e+00    -  0.00e+00 0.00e+00   0\n",
      "   1  1.1271001e+01 6.01e-02 6.56e+01  -1.0 5.46e-01    -  1.00e+00 1.00e+00h  1\n",
      "   2  3.1638662e+00 4.28e-02 1.79e+01  -1.0 3.17e-01    -  1.00e+00 7.13e-01f  1\n",
      "   3  2.5851172e+00 0.00e+00 1.08e+00  -1.0 1.41e-01    -  1.00e+00 1.00e+00f  1\n",
      "   4  2.6099717e+00 0.00e+00 1.25e-02  -1.0 1.21e-02    -  1.00e+00 1.00e+00h  1\n",
      "   5  2.5289573e+00 0.00e+00 1.55e-01  -2.5 3.43e-02    -  1.00e+00 1.00e+00f  1\n",
      "   6  2.5262625e+00 0.00e+00 3.78e-04  -2.5 1.51e-03    -  1.00e+00 1.00e+00h  1\n",
      "   7  2.5235888e+00 0.00e+00 1.70e-04  -3.8 1.17e-03    -  1.00e+00 1.00e+00f  1\n",
      "   8  2.5234381e+00 0.00e+00 5.52e-07  -5.7 6.62e-05    -  1.00e+00 1.00e+00h  1\n",
      "   9  2.5234363e+00 0.00e+00 8.16e-11  -8.6 8.09e-07    -  1.00e+00 1.00e+00h  1\n",
      "\n",
      "Number of Iterations....: 9\n",
      "\n",
      "                                   (scaled)                 (unscaled)\n",
      "Objective...............:   2.5234362583018233e+00    2.5234362583018233e+00\n",
      "Dual infeasibility......:   8.1634699000687760e-11    8.1634699000687760e-11\n",
      "Constraint violation....:   0.0000000000000000e+00    0.0000000000000000e+00\n",
      "Complementarity.........:   2.5074330278896033e-09    2.5074330278896033e-09\n",
      "Overall NLP error.......:   2.5074330278896033e-09    2.5074330278896033e-09\n",
      "\n",
      "\n",
      "Number of objective function evaluations             = 10\n",
      "Number of objective gradient evaluations             = 10\n",
      "Number of equality constraint evaluations            = 0\n",
      "Number of inequality constraint evaluations          = 10\n",
      "Number of equality constraint Jacobian evaluations   = 0\n",
      "Number of inequality constraint Jacobian evaluations = 10\n",
      "Number of Lagrangian Hessian evaluations             = 9\n",
      "Total CPU secs in IPOPT (w/o function evaluations)   =      1.680\n",
      "Total CPU secs in NLP function evaluations           =      1.143\n",
      "\n",
      "EXIT: Optimal Solution Found.\n"
     ]
    }
   ],
   "source": [
    "using Ipopt\n",
    "\n",
    "model = Model(with_optimizer(Ipopt.Optimizer))\n",
    "@variable(model, x)\n",
    "@variable(model, y)\n",
    "\n",
    "@NLobjective(model, Min, (1-x)^2 + 100(y-x^2)^2)\n",
    "@NLconstraint(model, exp(x)+sin(x) <=0)\n",
    "\n",
    "JuMP.optimize!(model)"
   ]
  },
  {
   "cell_type": "markdown",
   "metadata": {},
   "source": [
    "# Optimización Cónica (Otro tipo de restricciones)\n",
    "\n",
    "¿Por qué Optimización Cónica?\n",
    "- Dualidad similar al caso de programación lineal.\n",
    "- Algoritmos más rápidos y estables\n",
    "    - Se evitan problemas con no diferenciabilidad, se explota la forma dual-primal, teoría fuerte en barreras y métodos de punto interior.\n",
    "    - Cambios en la industria en el 2018:\n",
    "        1. Knitro versión 11.0 añade soporte para restricciones SOCP.\n",
    "        2. Mosek version 9.0 desecha expresiones y formulaciones basadas en funciones por formulaciones puramente cónicas (lineal, SOCP, SOCP rotado, SDP, exp,etc)\n",
    "\n",
    "## Optimización Cónica\n",
    "\n",
    "Los problemas de programación cónica son problemas de optimización convexos en los cuales la función objetivo es minimizazda sobre la intersección de subespacios afines y conos convexos. Un ejemplo de formulación cónica de un problema es:\n",
    "\n",
    "\\begin{equation}\n",
    "\\min_{ x \\in \\mathbb{R}^n} a_0 ^\\top x + b_0\n",
    "\\end{equation}\n",
    "\n",
    "tal que:\n",
    "$$A_i x + b_i \\in \\mathcal{C}_i  \\quad \\text{for } i = 1 \\dotso m$$\n",
    "\n",
    "El problema dual correspondiente es:\n",
    "\n",
    "$$ \\max_{y_1, \\dotso , y_m} - \\sum_{i = 1}^{m} b_i ^T y_i + b_0$$\n",
    "\n",
    "tal que:\n",
    "$$ a_0 - \\sum_{i = 1}^{m} A_{i}^{T} y_{i} = 0 $$\n",
    "$$ y_i \\in \\mathcal{C}_i^*$$\n",
    "\n",
    "Donde cada $\\mathcal{C}_i$ es un cono cerrado convexo y $\\mathcal{C}_i^*$ es el cono dual."
   ]
  },
  {
   "cell_type": "markdown",
   "metadata": {},
   "source": [
    "### Cono de Segundo Orden\n",
    "\n",
    "El Cono de Segundo Orden (o Cono de Lorentz) de dimensión $n$ es de la forma:\n",
    "\n",
    "$$ Q^n = \\{ (t,x) \\in \\mathbb{R}^n: t \\ge \\lVert x \\rVert_2 \\} $$\n",
    "\n",
    "Un Cono de Segundo Orden rotado en $\\pi/4$ en el plano  $(x_1,x_2)$ es llamado \n",
    "Cono de Segundo Orden Rotado y es de la forma:\n",
    "\n",
    "$$ Q^n_r = \\{ (t,u,x) \\in \\mathbb{R}^n: 2tu \\ge \\lVert x \\rVert_2, t, u \\ge 0 \\} $$\n",
    "\n",
    "\n",
    "Estos conos se representan en `JuMP` usando conjuntos `MOI`, `SecondOrderCone` y `RotatedSecondOrderCone`\n",
    "\n",
    "#### Ejemplo: Proyección Euclideana en un Hiperplano\n",
    "\n",
    "Para un punto dado $u_0$ y un conjunto $K$, nos referiamos al punto $u \\in K$ que es lo más cercano a $u_0$ como la proyección de $u_0$ en $K$. La proyección de $u_0$ en un hiperplano $K = \\{ u : p'\\cdot u = q \\}$ está dado por:\n",
    "\n",
    "$$ \\begin{align}\n",
    "& \\displaystyle\\min_{x \\in \\mathbb{R}^n} & \\lVert u - u_0 \\rVert \\\\\\\\\n",
    "& \\text{s.t. } & p'\\cdot u = q \n",
    "\\end{align}$$\n",
    "\n",
    "Podemos modelar esto como un problema de optimización cónica:\n",
    "\n",
    "$$ \\begin{align}\n",
    "& \\displaystyle\\min & t \\\\\\\\\n",
    "& \\text{s.t. } & p'\\cdot u = q \\\\\\\\\n",
    "&  \\quad & (t, u - u_0) \\in Q^{n+1}\n",
    "\\end{align}$$\n",
    "\n",
    "Si lo transformamos identificando cada uno de los términos,\n",
    "\n",
    "$$ \\begin{align}\n",
    "x & = (t,u)\\\\\\\\\n",
    "a_0 & = e_1\\\\\\\\\n",
    "b_0 & = 0\\\\\\\\\n",
    "A_1 & =(0,p)\\\\\\\\\n",
    "b_1 & = -q \\\\\\\\\n",
    "C_1 & = \\mathbb{R}\\\\\\\\\n",
    "A_2 & = 1\\\\\\\\\n",
    "b_2 &= -(0,u_0)\\\\\\\\\n",
    "C_2 &= Q^{n+1}\n",
    "\\end{align}$$\n",
    "\n",
    "Entonces, el problema dual está dado por:\n",
    "\n",
    "$$ \\begin{align}\n",
    "& \\displaystyle\\max & y_1 + (0,u_0)^\\top y_2 \\\\\\\\\n",
    "& \\text{s.t. } & e_1 -(0,p)^\\top y_1 - y_2 = 0 \\\\\\\\\n",
    "&  \\quad & y_1 \\in \\mathbb{R}\\\\\\\\\n",
    "& \\quad & y_2 \\in Q^{n+1}\n",
    "\\end{align}$$"
   ]
  },
  {
   "cell_type": "markdown",
   "metadata": {},
   "source": [
    "En primer lugar, cargamos los paquetes `JuMP`, `LinearAlgebra`, `Random` y el solver `ECOS`."
   ]
  },
  {
   "cell_type": "code",
   "execution_count": 18,
   "metadata": {},
   "outputs": [],
   "source": [
    "using JuMP\n",
    "using ECOS\n",
    "using LinearAlgebra\n",
    "using Random\n",
    "Random.seed!(2020);"
   ]
  },
  {
   "cell_type": "markdown",
   "metadata": {},
   "source": [
    "Démosno algunos valores aleatorios para los inputs: $u_0$, $p$ y $q$"
   ]
  },
  {
   "cell_type": "code",
   "execution_count": 19,
   "metadata": {},
   "outputs": [],
   "source": [
    "u0 = rand(10)\n",
    "p = rand(10)\n",
    "q = rand();"
   ]
  },
  {
   "cell_type": "markdown",
   "metadata": {},
   "source": [
    "Podemos escribir el modelo como:"
   ]
  },
  {
   "cell_type": "code",
   "execution_count": 20,
   "metadata": {},
   "outputs": [
    {
     "name": "stdout",
     "output_type": "stream",
     "text": [
      "\n",
      "ECOS 2.0.5 - (C) embotech GmbH, Zurich Switzerland, 2012-15. Web: www.embotech.com/ECOS\n",
      "\n",
      "It     pcost       dcost      gap   pres   dres    k/t    mu     step   sigma     IR    |   BT\n",
      " 0  +0.000e+00  -0.000e+00  +1e+01  4e-01  3e-04  1e+00  6e+00    ---    ---    1  1  - |  -  - \n",
      " 1  +3.134e-01  +3.200e-01  +1e+00  6e-02  3e-05  1e-01  7e-01  0.8932  1e-03   2  1  2 |  0  0\n",
      " 2  +1.376e+00  +1.404e+00  +7e-02  5e-03  2e-06  4e-02  5e-02  0.9690  5e-02   2  2  2 |  0  0\n",
      " 3  +1.415e+00  +1.415e+00  +8e-04  6e-05  2e-08  4e-04  6e-04  0.9890  1e-04   1  1  1 |  0  0\n",
      " 4  +1.415e+00  +1.415e+00  +9e-06  6e-07  2e-10  5e-06  7e-06  0.9890  1e-04   1  1  1 |  0  0\n",
      " 5  +1.415e+00  +1.415e+00  +1e-07  7e-09  2e-12  5e-08  7e-08  0.9890  1e-04   1  1  1 |  0  0\n",
      " 6  +1.415e+00  +1.415e+00  +1e-09  8e-11  3e-14  6e-10  8e-10  0.9890  1e-04   2  1  1 |  0  0\n",
      "\n",
      "OPTIMAL (within feastol=7.5e-11, reltol=7.4e-10, abstol=1.1e-09).\n",
      "Runtime: 0.000138 seconds.\n",
      "\n"
     ]
    }
   ],
   "source": [
    "model = Model(optimizer_with_attributes(ECOS.Optimizer, \"printlevel\" => 0))\n",
    "@variable(model, u[1:10])\n",
    "@variable(model, t)\n",
    "@objective(model, Min, t)\n",
    "@constraint(model, [t, (u - u0)...] in SecondOrderCone())\n",
    "@constraint(model, u' * p == q)\n",
    "optimize!(model)"
   ]
  },
  {
   "cell_type": "code",
   "execution_count": 21,
   "metadata": {},
   "outputs": [
    {
     "name": "stdout",
     "output_type": "stream",
     "text": [
      "objective_value(model) = 1.4149915748070703\n",
      "value.(u) = [0.03080667950164791, 0.5687503071622262, 0.4982756380955075, 0.32732944869183017, 0.5755950055187378, 0.117335178956295, 0.021419168446740567, 0.5510291353919837, -0.24224068275971017, 0.053604926321581634]\n"
     ]
    }
   ],
   "source": [
    "@show objective_value(model);\n",
    "@show value.(u);"
   ]
  },
  {
   "cell_type": "markdown",
   "metadata": {},
   "source": [
    "El problema dual se puede calcular como:"
   ]
  },
  {
   "cell_type": "code",
   "execution_count": 22,
   "metadata": {},
   "outputs": [
    {
     "name": "stdout",
     "output_type": "stream",
     "text": [
      "\n",
      "ECOS 2.0.5 - (C) embotech GmbH, Zurich Switzerland, 2012-15. Web: www.embotech.com/ECOS\n",
      "\n",
      "It     pcost       dcost      gap   pres   dres    k/t    mu     step   sigma     IR    |   BT\n",
      " 0  +0.000e+00  -0.000e+00  +5e+00  4e-01  4e-01  1e+00  2e+00    ---    ---    1  1  - |  -  - \n",
      " 1  -8.629e+00  -2.721e+00  +5e-01  4e-01  4e-01  7e+00  2e-01  0.8934  1e-03   2  1  1 |  0  0\n",
      " 2  -2.387e+00  -2.455e+00  +2e-01  9e-02  5e-02  4e-02  5e-02  0.7977  5e-02   2  2  2 |  0  0\n",
      " 3  -1.467e+00  -1.426e+00  +8e-03  5e-03  2e-03  5e-02  5e-03  0.9655  7e-02   2  2  2 |  0  0\n",
      " 4  -1.416e+00  -1.415e+00  +9e-05  5e-05  3e-05  5e-04  6e-05  0.9890  1e-04   2  1  1 |  0  0\n",
      " 5  -1.415e+00  -1.415e+00  +1e-06  6e-07  3e-07  6e-06  7e-07  0.9890  1e-04   2  1  1 |  0  0\n",
      " 6  -1.415e+00  -1.415e+00  +1e-08  7e-09  3e-09  6e-08  7e-09  0.9890  1e-04   3  1  1 |  0  0\n",
      "\n",
      "OPTIMAL (within feastol=6.7e-09, reltol=8.1e-09, abstol=1.1e-08).\n",
      "Runtime: 0.000123 seconds.\n",
      "\n"
     ]
    }
   ],
   "source": [
    "e1 = [1.0, zeros(10)...]\n",
    "dual_model = Model(optimizer_with_attributes(ECOS.Optimizer, \"printlevel\" => 0))\n",
    "@variable(dual_model, y1 <= 0.0)\n",
    "@variable(dual_model, y2[1:11])\n",
    "@objective(dual_model, Max, q * y1 + dot(vcat(0.0, u0), y2))\n",
    "@constraint(dual_model, e1 - [0.0, p...] .* y1 - y2 .== 0.0)\n",
    "@constraint(dual_model, y2 in SecondOrderCone())\n",
    "optimize!(dual_model)"
   ]
  },
  {
   "cell_type": "code",
   "execution_count": 23,
   "metadata": {},
   "outputs": [
    {
     "name": "stdout",
     "output_type": "stream",
     "text": [
      "objective_value(dual_model) = 1.4149916455792486\n"
     ]
    }
   ],
   "source": [
    "@show objective_value(dual_model);"
   ]
  },
  {
   "cell_type": "markdown",
   "metadata": {},
   "source": [
    "Para ver más sobre el tema: [Click aquí](https://danpereda.github.io/post/conicopt/)"
   ]
  },
  {
   "cell_type": "markdown",
   "metadata": {},
   "source": [
    "# Rocket Control\n",
    "\n",
    "This tutorial shows how to solve a nonlinear rocketry control problem. The problem was drawn from the COPS3 benchmark.\n",
    "\n",
    "Our goal is to maximize the final altitude of a vertically launched rocket. We can control the thrust of the rocket, and must take account of the rocket mass, fuel consumption rate, gravity, and aerodynamic drag.\n",
    "\n",
    "Let us consider the basic description of the model (for the full description, including parameters for the rocket, see the COPS3 PDF)"
   ]
  },
  {
   "cell_type": "markdown",
   "metadata": {},
   "source": [
    "## Overview\n",
    "We will use a discretized model of time, with a fixed number of time steps, n. We will make the time step size $\\Delta t$, and thus the final time $t_f = n⋅\\Delta t$, a variable in the problem. To approximate the derivatives in the problem we will use the trapezoidal rule."
   ]
  },
  {
   "cell_type": "markdown",
   "metadata": {},
   "source": [
    "### State and Control ,\n",
    "\n",
    "We will have three state variables:\n",
    "\n",
    "- Velocity, $v$\n",
    "- Altitude, $h$\n",
    "- Mass of rocket and remaining fuel, $m$\n",
    "\n",
    "and a single control variable, thrust $T$. Our goal is thus to maximize $h(t_f)$. Each of these corresponds to a JuMP variable indexed by the time step."
   ]
  },
  {
   "cell_type": "markdown",
   "metadata": {},
   "source": [
    "### Dynamics\n",
    "We have three equations that control the dynamics of the rocket:\n",
    "\n",
    "Rate of ascent:\n",
    "$$ h' = v$$\n",
    "Acceleration:\n",
    "$$ v' = \\displaystyle\\frac{T-D(h,v)}{m} - g(h)$$\n",
    "Rate of mass loss:\n",
    "$$ m' = -\\frac{T}{c}  $$\n",
    "Where drag $D(h,v)$ is a function of altitude and velocity, and gravity $g(h)$ is a function of altitude.\n",
    "\n",
    "These forces are defined as:\n",
    "\n",
    "$$ D(h,v) =\\displaystyle D_c v^2 \\exp\\left(-h_c\\left(\\frac{h-h(0)}{h(0)}\\right)\\right)$$\n",
    "\n",
    "and\n",
    "\n",
    "$$ g(h) = g_0\\left(\\frac{h(0)}{h}\\right)^2$$\n",
    "\n",
    "The three rate equations correspond to JuMP constraints, and for convenience we will represent the forces with nonlinear expressions."
   ]
  },
  {
   "cell_type": "code",
   "execution_count": 24,
   "metadata": {},
   "outputs": [
    {
     "name": "stdout",
     "output_type": "stream",
     "text": [
      "Solving...\n",
      "Max height: 1.0128340648308058\n"
     ]
    }
   ],
   "source": [
    "using JuMP, Ipopt\n",
    "\n",
    "# Create JuMP model, using Ipopt as the solver\n",
    "rocket = Model(optimizer_with_attributes(Ipopt.Optimizer, \"print_level\" => 0))\n",
    "\n",
    "# Constants\n",
    "# Note that all parameters in the model have been normalized\n",
    "# to be dimensionless. See the COPS3 paper for more info.\n",
    "h_0 = 1    # Initial height\n",
    "v_0 = 0    # Initial velocity\n",
    "m_0 = 1    # Initial mass\n",
    "g_0 = 1    # Gravity at the surface\n",
    "\n",
    "T_c = 3.5  # Used for thrust\n",
    "h_c = 500  # Used for drag\n",
    "v_c = 620  # Used for drag\n",
    "m_c = 0.6  # Fraction of initial mass left at end\n",
    "\n",
    "c     = 0.5 * sqrt(g_0 * h_0)  # Thrust-to-fuel mass\n",
    "m_f   = m_c * m_0            # Final mass\n",
    "D_c   = 0.5 * v_c * m_0 / g_0    # Drag scaling\n",
    "T_max = T_c * g_0 * m_0        # Maximum thrust\n",
    "\n",
    "n = 800   # Time steps\n",
    "\n",
    "@variables(rocket, begin\n",
    "    Δt ≥ 0, (start = 1/n) # Time step\n",
    "    # State variables\n",
    "    v[1:n] ≥ 0            # Velocity\n",
    "    h[1:n] ≥ h_0          # Height\n",
    "    m_f ≤ m[1:n] ≤ m_0    # Mass\n",
    "    # Control\n",
    "    0 ≤ T[1:n] ≤ T_max    # Thrust\n",
    "end)\n",
    "\n",
    "# Objective: maximize altitude at end of time of flight\n",
    "@objective(rocket, Max, h[n])\n",
    "\n",
    "# Initial conditions\n",
    "@constraints(rocket, begin\n",
    "    v[1] == v_0\n",
    "    h[1] == h_0\n",
    "    m[1] == m_0\n",
    "    m[n] == m_f\n",
    "end)\n",
    "\n",
    "# Forces\n",
    "# Drag(h,v) = Dc v^2 exp( -hc * (h - h0) / h0 )\n",
    "@NLexpression(rocket, drag[j = 1:n], D_c * (v[j]^2) * exp(-h_c * (h[j] - h_0) / h_0))\n",
    "# Grav(h)   = go * (h0 / h)^2\n",
    "@NLexpression(rocket, grav[j = 1:n], g_0 * (h_0 / h[j])^2)\n",
    "# Time of flight\n",
    "@NLexpression(rocket, t_f, Δt * n)\n",
    "\n",
    "# Dynamics\n",
    "for j in 2:n\n",
    "    # h' = v\n",
    "    \n",
    "    # Rectangular integration\n",
    "    # @NLconstraint(rocket, h[j] == h[j - 1] + Δt * v[j - 1])\n",
    "    \n",
    "    # Trapezoidal integration\n",
    "    @NLconstraint(rocket,\n",
    "        h[j] == h[j - 1] + 0.5 * Δt * (v[j] + v[j - 1]))\n",
    "\n",
    "    # v' = (T-D(h,v))/m - g(h)\n",
    "    \n",
    "    # Rectangular integration\n",
    "    # @NLconstraint(rocket, v[j] == v[j - 1] + Δt *(\n",
    "    #                 (T[j - 1] - drag[j - 1]) / m[j - 1] - grav[j - 1]))\n",
    "    \n",
    "    # Trapezoidal integration\n",
    "    @NLconstraint(rocket,\n",
    "        v[j] == v[j-1] + 0.5 * Δt * (\n",
    "            (T[j] - drag[j] - m[j] * grav[j]) / m[j] +\n",
    "            (T[j - 1] - drag[j - 1] - m[j - 1] * grav[j - 1]) / m[j - 1]))\n",
    "\n",
    "    # m' = -T/c\n",
    "\n",
    "    # Rectangular integration\n",
    "    # @NLconstraint(rocket, m[j] == m[j - 1] - Δt * T[j - 1] / c)\n",
    "    \n",
    "    # Trapezoidal integration\n",
    "    @NLconstraint(rocket,\n",
    "        m[j] == m[j - 1] - 0.5 * Δt * (T[j] + T[j-1]) / c)\n",
    "end\n",
    "\n",
    "# Solve for the control and state\n",
    "println(\"Solving...\")\n",
    "status = optimize!(rocket)\n",
    "\n",
    "# Display results\n",
    "# println(\"Solver status: \", status)\n",
    "println(\"Max height: \", objective_value(rocket))"
   ]
  },
  {
   "cell_type": "code",
   "execution_count": 25,
   "metadata": {},
   "outputs": [],
   "source": [
    "#import Pkg\n",
    "#Pkg.add(\"Gadfly\")"
   ]
  },
  {
   "cell_type": "code",
   "execution_count": 26,
   "metadata": {},
   "outputs": [],
   "source": [
    "# Can visualize the state and control variables\n",
    "using Gadfly"
   ]
  },
  {
   "cell_type": "code",
   "execution_count": 27,
   "metadata": {},
   "outputs": [
    {
     "data": {
      "image/svg+xml": [
       "<?xml version=\"1.0\" encoding=\"UTF-8\"?>\n",
       "<svg xmlns=\"http://www.w3.org/2000/svg\"\n",
       "     xmlns:xlink=\"http://www.w3.org/1999/xlink\"\n",
       "     xmlns:gadfly=\"http://www.gadflyjl.org/ns\"\n",
       "     version=\"1.2\"\n",
       "     width=\"152.4mm\" height=\"152.4mm\" viewBox=\"0 0 152.4 152.4\"\n",
       "     stroke=\"none\"\n",
       "     fill=\"#000000\"\n",
       "     stroke-width=\"0.3\"\n",
       "     font-size=\"3.88\"\n",
       ">\n",
       "<defs>\n",
       "  <marker id=\"arrow\" markerWidth=\"15\" markerHeight=\"7\" refX=\"5\" refY=\"3.5\" orient=\"auto\" markerUnits=\"strokeWidth\">\n",
       "    <path d=\"M0,0 L15,3.5 L0,7 z\" stroke=\"context-stroke\" fill=\"context-stroke\"/>\n",
       "  </marker>\n",
       "</defs>\n",
       "<g class=\"plotroot xscalable yscalable\" id=\"img-357ab52a-1\">\n",
       "  <g font-size=\"3.88\" font-family=\"'PT Sans','Helvetica Neue','Helvetica',sans-serif\" fill=\"#564A55\" stroke=\"#000000\" stroke-opacity=\"0.000\" id=\"img-357ab52a-2\">\n",
       "    <g transform=\"translate(119.94,140.79)\">\n",
       "      <g class=\"primitive\">\n",
       "        <text text-anchor=\"middle\" dy=\"0.6em\">Time (s)</text>\n",
       "      </g>\n",
       "    </g>\n",
       "  </g>\n",
       "  <g class=\"guide xlabels\" font-size=\"2.82\" font-family=\"'PT Sans Caption','Helvetica Neue','Helvetica',sans-serif\" fill=\"#6C606B\" id=\"img-357ab52a-3\">\n",
       "    <g transform=\"translate(94.48,134.11)\">\n",
       "      <g class=\"primitive\">\n",
       "        <text text-anchor=\"middle\" dy=\"0.6em\">0.00</text>\n",
       "      </g>\n",
       "    </g>\n",
       "    <g transform=\"translate(107.21,134.11)\">\n",
       "      <g class=\"primitive\">\n",
       "        <text text-anchor=\"middle\" dy=\"0.6em\">0.05</text>\n",
       "      </g>\n",
       "    </g>\n",
       "    <g transform=\"translate(119.94,134.11)\">\n",
       "      <g class=\"primitive\">\n",
       "        <text text-anchor=\"middle\" dy=\"0.6em\">0.10</text>\n",
       "      </g>\n",
       "    </g>\n",
       "    <g transform=\"translate(132.67,134.11)\">\n",
       "      <g class=\"primitive\">\n",
       "        <text text-anchor=\"middle\" dy=\"0.6em\">0.15</text>\n",
       "      </g>\n",
       "    </g>\n",
       "    <g transform=\"translate(145.4,134.11)\">\n",
       "      <g class=\"primitive\">\n",
       "        <text text-anchor=\"middle\" dy=\"0.6em\">0.20</text>\n",
       "      </g>\n",
       "    </g>\n",
       "  </g>\n",
       "  <g clip-path=\"url(#img-357ab52a-4)\">\n",
       "    <g id=\"img-357ab52a-5\">\n",
       "      <g pointer-events=\"visible\" stroke-width=\"0.3\" fill=\"#000000\" fill-opacity=\"0.000\" stroke=\"#000000\" stroke-opacity=\"0.000\" class=\"guide background\" id=\"img-357ab52a-6\">\n",
       "        <g transform=\"translate(119.94,107.16)\" id=\"img-357ab52a-7\">\n",
       "          <path d=\"M-27.46,-25.96 L 27.46 -25.96 27.46 25.96 -27.46 25.96 z\" class=\"primitive\"/>\n",
       "        </g>\n",
       "      </g>\n",
       "      <g class=\"guide ygridlines xfixed\" stroke-dasharray=\"0.5,0.5\" stroke-width=\"0.2\" stroke=\"#D0D0E0\" id=\"img-357ab52a-8\">\n",
       "        <g transform=\"translate(119.94,131.11)\" id=\"img-357ab52a-9\">\n",
       "          <path fill=\"none\" d=\"M-27.46,0 L 27.46 0\" class=\"primitive\"/>\n",
       "        </g>\n",
       "        <g transform=\"translate(119.94,119.14)\" id=\"img-357ab52a-10\">\n",
       "          <path fill=\"none\" d=\"M-27.46,0 L 27.46 0\" class=\"primitive\"/>\n",
       "        </g>\n",
       "        <g transform=\"translate(119.94,107.16)\" id=\"img-357ab52a-11\">\n",
       "          <path fill=\"none\" d=\"M-27.46,0 L 27.46 0\" class=\"primitive\"/>\n",
       "        </g>\n",
       "        <g transform=\"translate(119.94,95.18)\" id=\"img-357ab52a-12\">\n",
       "          <path fill=\"none\" d=\"M-27.46,0 L 27.46 0\" class=\"primitive\"/>\n",
       "        </g>\n",
       "        <g transform=\"translate(119.94,83.2)\" id=\"img-357ab52a-13\">\n",
       "          <path fill=\"none\" d=\"M-27.46,0 L 27.46 0\" class=\"primitive\"/>\n",
       "        </g>\n",
       "      </g>\n",
       "      <g class=\"guide xgridlines yfixed\" stroke-dasharray=\"0.5,0.5\" stroke-width=\"0.2\" stroke=\"#D0D0E0\" id=\"img-357ab52a-14\">\n",
       "        <g transform=\"translate(94.48,107.16)\" id=\"img-357ab52a-15\">\n",
       "          <path fill=\"none\" d=\"M0,-25.96 L 0 25.96\" class=\"primitive\"/>\n",
       "        </g>\n",
       "        <g transform=\"translate(107.21,107.16)\" id=\"img-357ab52a-16\">\n",
       "          <path fill=\"none\" d=\"M0,-25.96 L 0 25.96\" class=\"primitive\"/>\n",
       "        </g>\n",
       "        <g transform=\"translate(119.94,107.16)\" id=\"img-357ab52a-17\">\n",
       "          <path fill=\"none\" d=\"M0,-25.96 L 0 25.96\" class=\"primitive\"/>\n",
       "        </g>\n",
       "        <g transform=\"translate(132.67,107.16)\" id=\"img-357ab52a-18\">\n",
       "          <path fill=\"none\" d=\"M0,-25.96 L 0 25.96\" class=\"primitive\"/>\n",
       "        </g>\n",
       "        <g transform=\"translate(145.4,107.16)\" id=\"img-357ab52a-19\">\n",
       "          <path fill=\"none\" d=\"M0,-25.96 L 0 25.96\" class=\"primitive\"/>\n",
       "        </g>\n",
       "      </g>\n",
       "      <g class=\"plotpanel\" id=\"img-357ab52a-20\">\n",
       "        <metadata>\n",
       "          <boundingbox value=\"92.48499999999999mm 81.19999999999999mm 54.91499999999999mm 51.91499999999999mm\"/>\n",
       "          <unitbox value=\"-0.007856230973190614 4.166962329124491 0.21571246194638125 -4.333924658248983\"/>\n",
       "        </metadata>\n",
       "        <g stroke-width=\"0.3\" fill=\"#000000\" fill-opacity=\"0.000\" class=\"geometry\" id=\"img-357ab52a-21\">\n",
       "          <g class=\"color_LCHab{Float32}(70.0f0,60.0f0,240.0f0)\" stroke-dasharray=\"none\" stroke=\"#00BFFF\" id=\"img-357ab52a-22\">\n",
       "            <g transform=\"translate(119.85,119.05)\" id=\"img-357ab52a-23\">\n",
       "              <path fill=\"none\" d=\"M-25.3,-29.86 L -25.24 -29.86 -25.17 -29.86 -25.11 -29.86 -25.05 -29.86 -24.98 -29.86 -24.92 -29.86 -24.86 -29.86 -24.79 -29.86 -24.73 -29.86 -24.67 -29.86 -24.6 -29.86 -24.54 -29.86 -24.48 -29.86 -24.41 -29.86 -24.35 -29.86 -24.29 -29.86 -24.22 -29.86 -24.16 -29.86 -24.1 -29.86 -24.03 -29.86 -23.97 -29.86 -23.91 -29.86 -23.84 -29.86 -23.78 -29.86 -23.72 -29.86 -23.65 -29.86 -23.59 -29.86 -23.53 -29.86 -23.46 -29.86 -23.4 -29.86 -23.34 -29.86 -23.27 -29.85 -23.21 -29.85 -23.15 -29.85 -23.08 -29.85 -23.02 -29.85 -22.96 -29.85 -22.89 -29.85 -22.83 -29.85 -22.77 -29.85 -22.7 -29.85 -22.64 -29.85 -22.58 -29.85 -22.51 -29.85 -22.45 -29.85 -22.39 -29.85 -22.32 -29.85 -22.26 -29.85 -22.2 -29.85 -22.13 -29.85 -22.07 -29.85 -22.01 -29.85 -21.94 -29.85 -21.88 -29.85 -21.82 -29.85 -21.75 -29.84 -21.69 -29.84 -21.63 -29.84 -21.56 -29.84 -21.5 -29.84 -21.44 -29.84 -21.37 -29.84 -21.31 -29.84 -21.25 -29.84 -21.18 -29.83 -21.12 -29.83 -21.06 -29.83 -20.99 -29.83 -20.93 -29.82 -20.87 -29.82 -20.8 -29.82 -20.74 -29.81 -20.68 -29.81 -20.61 -29.8 -20.55 -29.8 -20.49 -29.79 -20.42 -29.78 -20.36 -29.77 -20.3 -29.76 -20.23 -29.75 -20.17 -29.73 -20.11 -29.71 -20.04 -29.69 -19.98 -29.66 -19.92 -29.61 -19.85 -29.56 -19.79 -29.48 -19.73 -29.37 -19.66 -29.22 -19.6 -28.98 -19.54 -28.59 -19.47 -27.94 -19.41 -26.77 -19.35 -24.68 -19.28 -21.39 -19.22 -17.75 -19.16 -15.32 -19.09 -14.21 -19.03 -13.79 -18.97 -13.64 -18.9 -13.59 -18.84 -13.58 -18.78 -13.57 -18.71 -13.58 -18.65 -13.58 -18.59 -13.59 -18.52 -13.59 -18.46 -13.6 -18.4 -13.61 -18.33 -13.61 -18.27 -13.62 -18.21 -13.63 -18.14 -13.63 -18.08 -13.64 -18.02 -13.65 -17.95 -13.66 -17.89 -13.67 -17.83 -13.68 -17.76 -13.69 -17.7 -13.69 -17.64 -13.7 -17.57 -13.71 -17.51 -13.72 -17.45 -13.74 -17.38 -13.75 -17.32 -13.76 -17.26 -13.77 -17.19 -13.78 -17.13 -13.79 -17.07 -13.81 -17 -13.82 -16.94 -13.83 -16.88 -13.84 -16.81 -13.86 -16.75 -13.87 -16.69 -13.89 -16.62 -13.9 -16.56 -13.92 -16.5 -13.93 -16.43 -13.95 -16.37 -13.96 -16.31 -13.98 -16.24 -14 -16.18 -14.01 -16.12 -14.03 -16.05 -14.05 -15.99 -14.07 -15.93 -14.09 -15.86 -14.11 -15.8 -14.12 -15.74 -14.14 -15.67 -14.16 -15.61 -14.18 -15.55 -14.21 -15.48 -14.23 -15.42 -14.25 -15.36 -14.27 -15.29 -14.29 -15.23 -14.32 -15.17 -14.34 -15.1 -14.36 -15.04 -14.39 -14.98 -14.41 -14.91 -14.44 -14.85 -14.46 -14.79 -14.49 -14.72 -14.52 -14.66 -14.54 -14.6 -14.57 -14.53 -14.6 -14.47 -14.63 -14.41 -14.66 -14.34 -14.69 -14.28 -14.72 -14.22 -14.75 -14.15 -14.78 -14.09 -14.81 -14.03 -14.84 -13.96 -14.88 -13.9 -14.91 -13.84 -14.94 -13.77 -14.98 -13.71 -15.01 -13.65 -15.05 -13.58 -15.09 -13.52 -15.12 -13.46 -15.16 -13.39 -15.2 -13.33 -15.24 -13.27 -15.27 -13.2 -15.31 -13.14 -15.36 -13.08 -15.4 -13.01 -15.44 -12.95 -15.48 -12.89 -15.52 -12.82 -15.57 -12.76 -15.61 -12.7 -15.66 -12.63 -15.7 -12.57 -15.75 -12.51 -15.8 -12.44 -15.85 -12.38 -15.89 -12.32 -15.94 -12.25 -15.99 -12.19 -16.05 -12.13 -16.1 -12.06 -16.15 -12 -16.2 -11.94 -16.26 -11.87 -16.31 -11.81 -16.37 -11.75 -16.43 -11.68 -16.48 -11.62 -16.54 -11.56 -16.6 -11.49 -16.66 -11.43 -16.72 -11.37 -16.79 -11.3 -16.85 -11.24 -16.91 -11.18 -16.98 -11.11 -17.04 -11.05 -17.11 -10.99 -17.18 -10.92 -17.25 -10.86 -17.32 -10.8 -17.39 -10.73 -17.46 -10.67 -17.54 -10.61 -17.61 -10.54 -17.69 -10.48 -17.76 -10.42 -17.84 -10.35 -17.92 -10.29 -18 -10.23 -18.08 -10.16 -18.17 -10.1 -18.25 -10.04 -18.33 -9.97 -18.42 -9.91 -18.51 -9.85 -18.6 -9.78 -18.69 -9.72 -18.78 -9.66 -18.87 -9.59 -18.97 -9.53 -19.06 -9.47 -19.16 -9.4 -19.26 -9.34 -19.36 -9.28 -19.46 -9.21 -19.57 -9.15 -19.67 -9.09 -19.78 -9.02 -19.89 -8.96 -20 -8.9 -20.11 -8.83 -20.22 -8.77 -20.34 -8.71 -20.45 -8.64 -20.57 -8.58 -20.69 -8.52 -20.82 -8.45 -20.94 -8.39 -21.06 -8.33 -21.19 -8.26 -21.32 -8.2 -21.45 -8.14 -21.58 -8.07 -21.7 -8.01 -21.83 -7.95 -21.96 -7.88 -22.09 -7.82 -22.21 -7.76 -22.33 -7.69 -22.43 -7.63 -22.53 -7.57 -22.62 -7.5 -22.69 -7.44 -22.73 -7.38 -22.74 -7.31 -22.71 -7.25 -22.61 -7.19 -22.43 -7.12 -22.13 -7.06 -21.63 -7 -20.78 -6.93 -19.29 -6.87 -16.33 -6.81 -9.72 -6.74 0.09 -6.68 5.85 -6.62 8.49 -6.55 9.79 -6.49 10.51 -6.43 10.94 -6.36 11.22 -6.3 11.4 -6.24 11.53 -6.17 11.63 -6.11 11.7 -6.05 11.76 -5.98 11.8 -5.92 11.84 -5.86 11.86 -5.79 11.89 -5.73 11.91 -5.67 11.92 -5.6 11.94 -5.54 11.95 -5.48 11.96 -5.41 11.97 -5.35 11.98 -5.29 11.98 -5.22 11.99 -5.16 11.99 -5.1 12 -5.03 12 -4.97 12.01 -4.91 12.01 -4.84 12.01 -4.78 12.02 -4.72 12.02 -4.65 12.02 -4.59 12.02 -4.53 12.03 -4.46 12.03 -4.4 12.03 -4.34 12.03 -4.27 12.03 -4.21 12.03 -4.15 12.04 -4.08 12.04 -4.02 12.04 -3.96 12.04 -3.89 12.04 -3.83 12.04 -3.77 12.04 -3.7 12.04 -3.64 12.04 -3.58 12.04 -3.51 12.04 -3.45 12.04 -3.39 12.05 -3.32 12.05 -3.26 12.05 -3.2 12.05 -3.13 12.05 -3.07 12.05 -3.01 12.05 -2.94 12.05 -2.88 12.05 -2.82 12.05 -2.75 12.05 -2.69 12.05 -2.63 12.05 -2.56 12.05 -2.5 12.05 -2.44 12.05 -2.37 12.05 -2.31 12.05 -2.25 12.05 -2.18 12.05 -2.12 12.05 -2.06 12.05 -1.99 12.05 -1.93 12.05 -1.87 12.05 -1.8 12.05 -1.74 12.05 -1.68 12.05 -1.61 12.06 -1.55 12.06 -1.49 12.06 -1.42 12.06 -1.36 12.06 -1.3 12.06 -1.23 12.06 -1.17 12.06 -1.11 12.06 -1.04 12.06 -0.98 12.06 -0.92 12.06 -0.85 12.06 -0.79 12.06 -0.73 12.06 -0.66 12.06 -0.6 12.06 -0.54 12.06 -0.47 12.06 -0.41 12.06 -0.35 12.06 -0.28 12.06 -0.22 12.06 -0.16 12.06 -0.09 12.06 -0.03 12.06 0.03 12.06 0.09 12.06 0.16 12.06 0.22 12.06 0.28 12.06 0.35 12.06 0.41 12.06 0.47 12.06 0.54 12.06 0.6 12.06 0.66 12.06 0.73 12.06 0.79 12.06 0.85 12.06 0.92 12.06 0.98 12.06 1.04 12.06 1.11 12.06 1.17 12.06 1.23 12.06 1.3 12.06 1.36 12.06 1.42 12.06 1.49 12.06 1.55 12.06 1.61 12.06 1.68 12.06 1.74 12.06 1.8 12.06 1.87 12.06 1.93 12.06 1.99 12.06 2.06 12.06 2.12 12.06 2.18 12.06 2.25 12.06 2.31 12.06 2.37 12.06 2.44 12.06 2.5 12.06 2.56 12.06 2.63 12.06 2.69 12.06 2.75 12.06 2.82 12.06 2.88 12.06 2.94 12.06 3.01 12.06 3.07 12.06 3.13 12.06 3.2 12.06 3.26 12.06 3.32 12.06 3.39 12.06 3.45 12.06 3.51 12.06 3.58 12.06 3.64 12.06 3.7 12.06 3.77 12.06 3.83 12.06 3.89 12.06 3.96 12.06 4.02 12.06 4.08 12.06 4.15 12.06 4.21 12.06 4.27 12.06 4.34 12.06 4.4 12.06 4.46 12.06 4.53 12.06 4.59 12.06 4.65 12.06 4.72 12.06 4.78 12.06 4.84 12.06 4.91 12.06 4.97 12.06 5.03 12.06 5.1 12.06 5.16 12.06 5.22 12.06 5.29 12.06 5.35 12.06 5.41 12.06 5.48 12.06 5.54 12.06 5.6 12.06 5.67 12.06 5.73 12.06 5.79 12.06 5.86 12.06 5.92 12.06 5.98 12.06 6.05 12.06 6.11 12.06 6.17 12.06 6.24 12.06 6.3 12.06 6.36 12.06 6.43 12.06 6.49 12.06 6.55 12.06 6.62 12.06 6.68 12.06 6.74 12.06 6.81 12.06 6.87 12.06 6.93 12.06 7 12.06 7.06 12.06 7.12 12.06 7.19 12.06 7.25 12.06 7.31 12.06 7.38 12.06 7.44 12.06 7.5 12.06 7.57 12.06 7.63 12.06 7.69 12.06 7.76 12.06 7.82 12.06 7.88 12.06 7.95 12.06 8.01 12.06 8.07 12.06 8.14 12.06 8.2 12.06 8.26 12.06 8.33 12.06 8.39 12.06 8.45 12.06 8.52 12.06 8.58 12.06 8.64 12.06 8.71 12.06 8.77 12.06 8.83 12.06 8.9 12.06 8.96 12.06 9.02 12.06 9.09 12.06 9.15 12.06 9.21 12.06 9.28 12.06 9.34 12.06 9.4 12.06 9.47 12.06 9.53 12.06 9.59 12.06 9.66 12.06 9.72 12.06 9.78 12.06 9.85 12.06 9.91 12.06 9.97 12.06 10.04 12.06 10.1 12.06 10.16 12.06 10.23 12.06 10.29 12.06 10.35 12.06 10.42 12.06 10.48 12.06 10.54 12.06 10.61 12.06 10.67 12.06 10.73 12.06 10.8 12.06 10.86 12.06 10.92 12.06 10.99 12.06 11.05 12.06 11.11 12.06 11.18 12.06 11.24 12.06 11.3 12.06 11.37 12.06 11.43 12.06 11.49 12.06 11.56 12.06 11.62 12.06 11.68 12.06 11.75 12.06 11.81 12.06 11.87 12.06 11.94 12.06 12 12.06 12.06 12.06 12.13 12.06 12.19 12.06 12.25 12.06 12.32 12.06 12.38 12.06 12.44 12.06 12.51 12.06 12.57 12.06 12.63 12.06 12.7 12.06 12.76 12.06 12.82 12.06 12.89 12.06 12.95 12.06 13.01 12.06 13.08 12.06 13.14 12.06 13.2 12.06 13.27 12.06 13.33 12.06 13.39 12.06 13.46 12.06 13.52 12.06 13.58 12.06 13.65 12.06 13.71 12.06 13.77 12.06 13.84 12.06 13.9 12.06 13.96 12.06 14.03 12.06 14.09 12.06 14.15 12.06 14.22 12.06 14.28 12.06 14.34 12.06 14.41 12.06 14.47 12.06 14.53 12.06 14.6 12.06 14.66 12.06 14.72 12.06 14.79 12.06 14.85 12.06 14.91 12.06 14.98 12.06 15.04 12.06 15.1 12.06 15.17 12.06 15.23 12.06 15.29 12.06 15.36 12.06 15.42 12.06 15.48 12.06 15.55 12.06 15.61 12.06 15.67 12.06 15.74 12.06 15.8 12.06 15.86 12.06 15.93 12.06 15.99 12.06 16.05 12.06 16.12 12.06 16.18 12.06 16.24 12.06 16.31 12.06 16.37 12.06 16.43 12.06 16.5 12.06 16.56 12.06 16.62 12.06 16.69 12.06 16.75 12.06 16.81 12.06 16.88 12.06 16.94 12.06 17 12.06 17.07 12.06 17.13 12.06 17.19 12.06 17.26 12.06 17.32 12.06 17.38 12.06 17.45 12.06 17.51 12.06 17.57 12.06 17.64 12.06 17.7 12.06 17.76 12.06 17.83 12.06 17.89 12.06 17.95 12.06 18.02 12.06 18.08 12.06 18.14 12.06 18.21 12.06 18.27 12.06 18.33 12.06 18.4 12.06 18.46 12.06 18.52 12.06 18.59 12.06 18.65 12.06 18.71 12.06 18.78 12.06 18.84 12.06 18.9 12.06 18.97 12.06 19.03 12.06 19.09 12.06 19.16 12.06 19.22 12.06 19.28 12.06 19.35 12.06 19.41 12.06 19.47 12.06 19.54 12.06 19.6 12.06 19.66 12.06 19.73 12.06 19.79 12.06 19.85 12.06 19.92 12.06 19.98 12.06 20.04 12.06 20.11 12.06 20.17 12.06 20.23 12.06 20.3 12.06 20.36 12.06 20.42 12.06 20.49 12.06 20.55 12.06 20.61 12.06 20.68 12.06 20.74 12.06 20.8 12.06 20.87 12.06 20.93 12.06 20.99 12.06 21.06 12.06 21.12 12.06 21.18 12.06 21.25 12.06 21.31 12.06 21.37 12.06 21.44 12.06 21.5 12.06 21.56 12.06 21.63 12.06 21.69 12.06 21.75 12.06 21.82 12.06 21.88 12.06 21.94 12.06 22.01 12.06 22.07 12.06 22.13 12.06 22.2 12.06 22.26 12.06 22.32 12.06 22.39 12.06 22.45 12.06 22.51 12.06 22.58 12.06 22.64 12.06 22.7 12.06 22.77 12.06 22.83 12.06 22.89 12.06 22.96 12.06 23.02 12.06 23.08 12.06 23.15 12.06 23.21 12.06 23.27 12.06 23.34 12.06 23.4 12.06 23.46 12.06 23.53 12.06 23.59 12.06 23.65 12.06 23.72 12.06 23.78 12.06 23.84 12.06 23.91 12.06 23.97 12.06 24.03 12.06 24.1 12.06 24.16 12.06 24.22 12.06 24.29 12.06 24.35 12.06 24.41 12.06 24.48 12.06 24.54 12.06 24.6 12.06 24.67 12.06 24.73 12.06 24.79 12.06 24.86 12.06 24.92 12.06 24.98 12.06 25.05 12.06 25.11 12.06 25.17 12.06 25.24 12.05 25.3 12.04\" class=\"primitive\"/>\n",
       "            </g>\n",
       "          </g>\n",
       "        </g>\n",
       "      </g>\n",
       "    </g>\n",
       "  </g>\n",
       "  <g class=\"guide ylabels\" font-size=\"2.82\" font-family=\"'PT Sans Caption','Helvetica Neue','Helvetica',sans-serif\" fill=\"#6C606B\" id=\"img-357ab52a-24\">\n",
       "    <g transform=\"translate(91.48,131.11)\" id=\"img-357ab52a-25\">\n",
       "      <g class=\"primitive\">\n",
       "        <text text-anchor=\"end\" dy=\"0.35em\">0</text>\n",
       "      </g>\n",
       "    </g>\n",
       "    <g transform=\"translate(91.48,119.14)\" id=\"img-357ab52a-26\">\n",
       "      <g class=\"primitive\">\n",
       "        <text text-anchor=\"end\" dy=\"0.35em\">1</text>\n",
       "      </g>\n",
       "    </g>\n",
       "    <g transform=\"translate(91.48,107.16)\" id=\"img-357ab52a-27\">\n",
       "      <g class=\"primitive\">\n",
       "        <text text-anchor=\"end\" dy=\"0.35em\">2</text>\n",
       "      </g>\n",
       "    </g>\n",
       "    <g transform=\"translate(91.48,95.18)\" id=\"img-357ab52a-28\">\n",
       "      <g class=\"primitive\">\n",
       "        <text text-anchor=\"end\" dy=\"0.35em\">3</text>\n",
       "      </g>\n",
       "    </g>\n",
       "    <g transform=\"translate(91.48,83.2)\" id=\"img-357ab52a-29\">\n",
       "      <g class=\"primitive\">\n",
       "        <text text-anchor=\"end\" dy=\"0.35em\">4</text>\n",
       "      </g>\n",
       "    </g>\n",
       "  </g>\n",
       "  <g font-size=\"3.88\" font-family=\"'PT Sans','Helvetica Neue','Helvetica',sans-serif\" fill=\"#564A55\" stroke=\"#000000\" stroke-opacity=\"0.000\" id=\"img-357ab52a-30\">\n",
       "    <g transform=\"translate(85.01,105.16)\" id=\"img-357ab52a-31\">\n",
       "      <g class=\"primitive\">\n",
       "        <text text-anchor=\"middle\" dy=\"0.35em\" transform=\"rotate(-90,0, 2)\">Thrust</text>\n",
       "      </g>\n",
       "    </g>\n",
       "  </g>\n",
       "</g>\n",
       "<g class=\"plotroot xscalable yscalable\" id=\"img-357ab52a-32\">\n",
       "  <g font-size=\"3.88\" font-family=\"'PT Sans','Helvetica Neue','Helvetica',sans-serif\" fill=\"#564A55\" stroke=\"#000000\" stroke-opacity=\"0.000\" id=\"img-357ab52a-33\">\n",
       "    <g transform=\"translate(45.75,140.79)\" id=\"img-357ab52a-34\">\n",
       "      <g class=\"primitive\">\n",
       "        <text text-anchor=\"middle\" dy=\"0.6em\">Time (s)</text>\n",
       "      </g>\n",
       "    </g>\n",
       "  </g>\n",
       "  <g class=\"guide xlabels\" font-size=\"2.82\" font-family=\"'PT Sans Caption','Helvetica Neue','Helvetica',sans-serif\" fill=\"#6C606B\" id=\"img-357ab52a-35\">\n",
       "    <g transform=\"translate(22.3,134.11)\" id=\"img-357ab52a-36\">\n",
       "      <g class=\"primitive\">\n",
       "        <text text-anchor=\"middle\" dy=\"0.6em\">0.00</text>\n",
       "      </g>\n",
       "    </g>\n",
       "    <g transform=\"translate(34.03,134.11)\" id=\"img-357ab52a-37\">\n",
       "      <g class=\"primitive\">\n",
       "        <text text-anchor=\"middle\" dy=\"0.6em\">0.05</text>\n",
       "      </g>\n",
       "    </g>\n",
       "    <g transform=\"translate(45.75,134.11)\" id=\"img-357ab52a-38\">\n",
       "      <g class=\"primitive\">\n",
       "        <text text-anchor=\"middle\" dy=\"0.6em\">0.10</text>\n",
       "      </g>\n",
       "    </g>\n",
       "    <g transform=\"translate(57.48,134.11)\" id=\"img-357ab52a-39\">\n",
       "      <g class=\"primitive\">\n",
       "        <text text-anchor=\"middle\" dy=\"0.6em\">0.15</text>\n",
       "      </g>\n",
       "    </g>\n",
       "    <g transform=\"translate(69.2,134.11)\" id=\"img-357ab52a-40\">\n",
       "      <g class=\"primitive\">\n",
       "        <text text-anchor=\"middle\" dy=\"0.6em\">0.20</text>\n",
       "      </g>\n",
       "    </g>\n",
       "  </g>\n",
       "  <g clip-path=\"url(#img-357ab52a-41)\">\n",
       "    <g id=\"img-357ab52a-42\">\n",
       "      <g pointer-events=\"visible\" stroke-width=\"0.3\" fill=\"#000000\" fill-opacity=\"0.000\" stroke=\"#000000\" stroke-opacity=\"0.000\" class=\"guide background\" id=\"img-357ab52a-43\">\n",
       "        <g transform=\"translate(45.75,107.16)\" id=\"img-357ab52a-44\">\n",
       "          <path d=\"M-25.45,-25.96 L 25.45 -25.96 25.45 25.96 -25.45 25.96 z\" class=\"primitive\"/>\n",
       "        </g>\n",
       "      </g>\n",
       "      <g class=\"guide ygridlines xfixed\" stroke-dasharray=\"0.5,0.5\" stroke-width=\"0.2\" stroke=\"#D0D0E0\" id=\"img-357ab52a-45\">\n",
       "        <g transform=\"translate(45.75,131.11)\" id=\"img-357ab52a-46\">\n",
       "          <path fill=\"none\" d=\"M-25.45,0 L 25.45 0\" class=\"primitive\"/>\n",
       "        </g>\n",
       "        <g transform=\"translate(45.75,115.14)\" id=\"img-357ab52a-47\">\n",
       "          <path fill=\"none\" d=\"M-25.45,0 L 25.45 0\" class=\"primitive\"/>\n",
       "        </g>\n",
       "        <g transform=\"translate(45.75,99.17)\" id=\"img-357ab52a-48\">\n",
       "          <path fill=\"none\" d=\"M-25.45,0 L 25.45 0\" class=\"primitive\"/>\n",
       "        </g>\n",
       "        <g transform=\"translate(45.75,83.2)\" id=\"img-357ab52a-49\">\n",
       "          <path fill=\"none\" d=\"M-25.45,0 L 25.45 0\" class=\"primitive\"/>\n",
       "        </g>\n",
       "      </g>\n",
       "      <g class=\"guide xgridlines yfixed\" stroke-dasharray=\"0.5,0.5\" stroke-width=\"0.2\" stroke=\"#D0D0E0\" id=\"img-357ab52a-50\">\n",
       "        <g transform=\"translate(22.3,107.16)\" id=\"img-357ab52a-51\">\n",
       "          <path fill=\"none\" d=\"M0,-25.96 L 0 25.96\" class=\"primitive\"/>\n",
       "        </g>\n",
       "        <g transform=\"translate(34.03,107.16)\" id=\"img-357ab52a-52\">\n",
       "          <path fill=\"none\" d=\"M0,-25.96 L 0 25.96\" class=\"primitive\"/>\n",
       "        </g>\n",
       "        <g transform=\"translate(45.75,107.16)\" id=\"img-357ab52a-53\">\n",
       "          <path fill=\"none\" d=\"M0,-25.96 L 0 25.96\" class=\"primitive\"/>\n",
       "        </g>\n",
       "        <g transform=\"translate(57.48,107.16)\" id=\"img-357ab52a-54\">\n",
       "          <path fill=\"none\" d=\"M0,-25.96 L 0 25.96\" class=\"primitive\"/>\n",
       "        </g>\n",
       "        <g transform=\"translate(69.2,107.16)\" id=\"img-357ab52a-55\">\n",
       "          <path fill=\"none\" d=\"M0,-25.96 L 0 25.96\" class=\"primitive\"/>\n",
       "        </g>\n",
       "      </g>\n",
       "      <g class=\"plotpanel\" id=\"img-357ab52a-56\">\n",
       "        <metadata>\n",
       "          <boundingbox value=\"20.305mm 81.19999999999999mm 50.89499999999999mm 51.91499999999999mm\"/>\n",
       "          <unitbox value=\"-0.008529693997227852 0.15626108734216845 0.2170593879944557 -0.16252217468433688\"/>\n",
       "        </metadata>\n",
       "        <g stroke-width=\"0.3\" fill=\"#000000\" fill-opacity=\"0.000\" class=\"geometry\" id=\"img-357ab52a-57\">\n",
       "          <g class=\"color_LCHab{Float32}(70.0f0,60.0f0,240.0f0)\" stroke-dasharray=\"none\" stroke=\"#00BFFF\" id=\"img-357ab52a-58\">\n",
       "            <g transform=\"translate(45.67,110.51)\" id=\"img-357ab52a-59\">\n",
       "              <path fill=\"none\" d=\"M-23.3,20.6 L -23.24 20.4 -23.19 20.2 -23.13 20 -23.07 19.8 -23.01 19.6 -22.95 19.4 -22.89 19.2 -22.84 19 -22.78 18.8 -22.72 18.59 -22.66 18.39 -22.6 18.19 -22.54 17.98 -22.49 17.78 -22.43 17.58 -22.37 17.37 -22.31 17.17 -22.25 16.96 -22.19 16.76 -22.14 16.56 -22.08 16.35 -22.02 16.15 -21.96 15.94 -21.9 15.74 -21.84 15.53 -21.79 15.33 -21.73 15.12 -21.67 14.92 -21.61 14.71 -21.55 14.51 -21.49 14.3 -21.44 14.1 -21.38 13.89 -21.32 13.69 -21.26 13.48 -21.2 13.28 -21.14 13.08 -21.09 12.87 -21.03 12.67 -20.97 12.46 -20.91 12.26 -20.85 12.06 -20.79 11.86 -20.74 11.65 -20.68 11.45 -20.62 11.25 -20.56 11.05 -20.5 10.85 -20.44 10.65 -20.39 10.45 -20.33 10.24 -20.27 10.05 -20.21 9.85 -20.15 9.65 -20.09 9.45 -20.04 9.25 -19.98 9.05 -19.92 8.85 -19.86 8.66 -19.8 8.46 -19.74 8.26 -19.69 8.07 -19.63 7.87 -19.57 7.68 -19.51 7.48 -19.45 7.29 -19.39 7.09 -19.34 6.9 -19.28 6.71 -19.22 6.52 -19.16 6.32 -19.1 6.13 -19.04 5.94 -18.99 5.75 -18.93 5.56 -18.87 5.37 -18.81 5.18 -18.75 5 -18.69 4.81 -18.64 4.62 -18.58 4.43 -18.52 4.25 -18.46 4.06 -18.4 3.88 -18.34 3.69 -18.29 3.51 -18.23 3.32 -18.17 3.14 -18.11 2.96 -18.05 2.78 -17.99 2.61 -17.94 2.44 -17.88 2.27 -17.82 2.12 -17.76 1.99 -17.7 1.89 -17.64 1.82 -17.59 1.75 -17.53 1.69 -17.47 1.64 -17.41 1.58 -17.35 1.53 -17.29 1.47 -17.24 1.42 -17.18 1.36 -17.12 1.3 -17.06 1.25 -17 1.19 -16.94 1.13 -16.89 1.07 -16.83 1.02 -16.77 0.96 -16.71 0.9 -16.65 0.84 -16.59 0.78 -16.54 0.72 -16.48 0.66 -16.42 0.6 -16.36 0.54 -16.3 0.48 -16.24 0.41 -16.19 0.35 -16.13 0.29 -16.07 0.23 -16.01 0.16 -15.95 0.1 -15.89 0.03 -15.84 -0.03 -15.78 -0.1 -15.72 -0.16 -15.66 -0.23 -15.6 -0.29 -15.54 -0.36 -15.49 -0.43 -15.43 -0.5 -15.37 -0.56 -15.31 -0.63 -15.25 -0.7 -15.19 -0.77 -15.14 -0.84 -15.08 -0.91 -15.02 -0.98 -14.96 -1.05 -14.9 -1.13 -14.84 -1.2 -14.79 -1.27 -14.73 -1.35 -14.67 -1.42 -14.61 -1.49 -14.55 -1.57 -14.49 -1.64 -14.44 -1.72 -14.38 -1.8 -14.32 -1.87 -14.26 -1.95 -14.2 -2.03 -14.14 -2.11 -14.09 -2.19 -14.03 -2.27 -13.97 -2.35 -13.91 -2.43 -13.85 -2.51 -13.79 -2.59 -13.74 -2.67 -13.68 -2.76 -13.62 -2.84 -13.56 -2.93 -13.5 -3.01 -13.44 -3.1 -13.39 -3.18 -13.33 -3.27 -13.27 -3.36 -13.21 -3.44 -13.15 -3.53 -13.09 -3.62 -13.04 -3.71 -12.98 -3.8 -12.92 -3.9 -12.86 -3.99 -12.8 -4.08 -12.74 -4.17 -12.69 -4.27 -12.63 -4.36 -12.57 -4.46 -12.51 -4.56 -12.45 -4.65 -12.39 -4.75 -12.34 -4.85 -12.28 -4.95 -12.22 -5.05 -12.16 -5.15 -12.1 -5.25 -12.04 -5.36 -11.99 -5.46 -11.93 -5.56 -11.87 -5.67 -11.81 -5.77 -11.75 -5.88 -11.69 -5.99 -11.64 -6.1 -11.58 -6.21 -11.52 -6.32 -11.46 -6.43 -11.4 -6.54 -11.34 -6.65 -11.29 -6.77 -11.23 -6.88 -11.17 -7 -11.11 -7.12 -11.05 -7.23 -10.99 -7.35 -10.94 -7.47 -10.88 -7.59 -10.82 -7.72 -10.76 -7.84 -10.7 -7.96 -10.64 -8.09 -10.59 -8.21 -10.53 -8.34 -10.47 -8.47 -10.41 -8.6 -10.35 -8.73 -10.29 -8.86 -10.24 -8.99 -10.18 -9.13 -10.12 -9.26 -10.06 -9.4 -10 -9.54 -9.94 -9.68 -9.89 -9.82 -9.83 -9.96 -9.77 -10.1 -9.71 -10.25 -9.65 -10.39 -9.59 -10.54 -9.54 -10.69 -9.48 -10.84 -9.42 -10.99 -9.36 -11.14 -9.3 -11.29 -9.24 -11.45 -9.19 -11.6 -9.13 -11.76 -9.07 -11.92 -9.01 -12.08 -8.95 -12.25 -8.89 -12.41 -8.84 -12.58 -8.78 -12.75 -8.72 -12.91 -8.66 -13.09 -8.6 -13.26 -8.54 -13.43 -8.49 -13.61 -8.43 -13.79 -8.37 -13.97 -8.31 -14.15 -8.25 -14.33 -8.19 -14.52 -8.14 -14.7 -8.08 -14.89 -8.02 -15.08 -7.96 -15.28 -7.9 -15.47 -7.85 -15.67 -7.79 -15.87 -7.73 -16.07 -7.67 -16.27 -7.61 -16.48 -7.55 -16.69 -7.5 -16.9 -7.44 -17.11 -7.38 -17.32 -7.32 -17.54 -7.26 -17.76 -7.2 -17.98 -7.15 -18.2 -7.09 -18.43 -7.03 -18.65 -6.97 -18.88 -6.91 -19.11 -6.85 -19.35 -6.8 -19.58 -6.74 -19.82 -6.68 -20.05 -6.62 -20.29 -6.56 -20.52 -6.5 -20.75 -6.45 -20.97 -6.39 -21.18 -6.33 -21.37 -6.27 -21.51 -6.21 -21.56 -6.15 -21.52 -6.1 -21.43 -6.04 -21.33 -5.98 -21.22 -5.92 -21.1 -5.86 -20.98 -5.8 -20.85 -5.75 -20.73 -5.69 -20.61 -5.63 -20.48 -5.57 -20.36 -5.51 -20.24 -5.45 -20.12 -5.4 -20 -5.34 -19.87 -5.28 -19.75 -5.22 -19.64 -5.16 -19.52 -5.1 -19.4 -5.05 -19.28 -4.99 -19.17 -4.93 -19.05 -4.87 -18.94 -4.81 -18.82 -4.75 -18.71 -4.7 -18.6 -4.64 -18.48 -4.58 -18.37 -4.52 -18.26 -4.46 -18.15 -4.4 -18.04 -4.35 -17.93 -4.29 -17.83 -4.23 -17.72 -4.17 -17.61 -4.11 -17.51 -4.05 -17.4 -4 -17.29 -3.94 -17.19 -3.88 -17.09 -3.82 -16.98 -3.76 -16.88 -3.7 -16.78 -3.65 -16.67 -3.59 -16.57 -3.53 -16.47 -3.47 -16.37 -3.41 -16.27 -3.35 -16.17 -3.3 -16.07 -3.24 -15.97 -3.18 -15.87 -3.12 -15.77 -3.06 -15.68 -3 -15.58 -2.95 -15.48 -2.89 -15.38 -2.83 -15.29 -2.77 -15.19 -2.71 -15.1 -2.65 -15 -2.6 -14.9 -2.54 -14.81 -2.48 -14.72 -2.42 -14.62 -2.36 -14.53 -2.3 -14.43 -2.25 -14.34 -2.19 -14.25 -2.13 -14.15 -2.07 -14.06 -2.01 -13.97 -1.95 -13.88 -1.9 -13.79 -1.84 -13.69 -1.78 -13.6 -1.72 -13.51 -1.66 -13.42 -1.6 -13.33 -1.55 -13.24 -1.49 -13.15 -1.43 -13.06 -1.37 -12.97 -1.31 -12.88 -1.25 -12.79 -1.2 -12.7 -1.14 -12.62 -1.08 -12.53 -1.02 -12.44 -0.96 -12.35 -0.9 -12.26 -0.85 -12.17 -0.79 -12.09 -0.73 -12 -0.67 -11.91 -0.61 -11.82 -0.55 -11.74 -0.5 -11.65 -0.44 -11.56 -0.38 -11.48 -0.32 -11.39 -0.26 -11.3 -0.2 -11.22 -0.15 -11.13 -0.09 -11.05 -0.03 -10.96 0.03 -10.88 0.09 -10.79 0.15 -10.7 0.2 -10.62 0.26 -10.53 0.32 -10.45 0.38 -10.37 0.44 -10.28 0.5 -10.2 0.55 -10.11 0.61 -10.03 0.67 -9.94 0.73 -9.86 0.79 -9.77 0.85 -9.69 0.9 -9.61 0.96 -9.52 1.02 -9.44 1.08 -9.36 1.14 -9.27 1.2 -9.19 1.25 -9.11 1.31 -9.02 1.37 -8.94 1.43 -8.86 1.49 -8.77 1.55 -8.69 1.6 -8.61 1.66 -8.53 1.72 -8.44 1.78 -8.36 1.84 -8.28 1.9 -8.2 1.95 -8.11 2.01 -8.03 2.07 -7.95 2.13 -7.87 2.19 -7.79 2.25 -7.7 2.3 -7.62 2.36 -7.54 2.42 -7.46 2.48 -7.38 2.54 -7.3 2.6 -7.21 2.65 -7.13 2.71 -7.05 2.77 -6.97 2.83 -6.89 2.89 -6.81 2.95 -6.73 3 -6.65 3.06 -6.57 3.12 -6.48 3.18 -6.4 3.24 -6.32 3.3 -6.24 3.35 -6.16 3.41 -6.08 3.47 -6 3.53 -5.92 3.59 -5.84 3.65 -5.76 3.7 -5.68 3.76 -5.6 3.82 -5.52 3.88 -5.44 3.94 -5.36 4 -5.28 4.05 -5.2 4.11 -5.11 4.17 -5.03 4.23 -4.95 4.29 -4.87 4.35 -4.79 4.4 -4.71 4.46 -4.63 4.52 -4.55 4.58 -4.47 4.64 -4.39 4.7 -4.32 4.75 -4.24 4.81 -4.16 4.87 -4.08 4.93 -4 4.99 -3.92 5.05 -3.84 5.1 -3.76 5.16 -3.68 5.22 -3.6 5.28 -3.52 5.34 -3.44 5.4 -3.36 5.45 -3.28 5.51 -3.2 5.57 -3.12 5.63 -3.04 5.69 -2.96 5.75 -2.88 5.8 -2.8 5.86 -2.72 5.92 -2.65 5.98 -2.57 6.04 -2.49 6.1 -2.41 6.15 -2.33 6.21 -2.25 6.27 -2.17 6.33 -2.09 6.39 -2.01 6.45 -1.93 6.5 -1.85 6.56 -1.78 6.62 -1.7 6.68 -1.62 6.74 -1.54 6.8 -1.46 6.85 -1.38 6.91 -1.3 6.97 -1.22 7.03 -1.14 7.09 -1.07 7.15 -0.99 7.2 -0.91 7.26 -0.83 7.32 -0.75 7.38 -0.67 7.44 -0.59 7.5 -0.51 7.55 -0.44 7.61 -0.36 7.67 -0.28 7.73 -0.2 7.79 -0.12 7.85 -0.04 7.9 0.04 7.96 0.11 8.02 0.19 8.08 0.27 8.14 0.35 8.19 0.43 8.25 0.51 8.31 0.58 8.37 0.66 8.43 0.74 8.49 0.82 8.54 0.9 8.6 0.98 8.66 1.06 8.72 1.13 8.78 1.21 8.84 1.29 8.89 1.37 8.95 1.45 9.01 1.53 9.07 1.6 9.13 1.68 9.19 1.76 9.24 1.84 9.3 1.92 9.36 2 9.42 2.07 9.48 2.15 9.54 2.23 9.59 2.31 9.65 2.39 9.71 2.46 9.77 2.54 9.83 2.62 9.89 2.7 9.94 2.78 10 2.86 10.06 2.93 10.12 3.01 10.18 3.09 10.24 3.17 10.29 3.25 10.35 3.32 10.41 3.4 10.47 3.48 10.53 3.56 10.59 3.64 10.64 3.71 10.7 3.79 10.76 3.87 10.82 3.95 10.88 4.03 10.94 4.1 10.99 4.18 11.05 4.26 11.11 4.34 11.17 4.42 11.23 4.49 11.29 4.57 11.34 4.65 11.4 4.73 11.46 4.81 11.52 4.88 11.58 4.96 11.64 5.04 11.69 5.12 11.75 5.2 11.81 5.27 11.87 5.35 11.93 5.43 11.99 5.51 12.04 5.59 12.1 5.66 12.16 5.74 12.22 5.82 12.28 5.9 12.34 5.97 12.39 6.05 12.45 6.13 12.51 6.21 12.57 6.29 12.63 6.36 12.69 6.44 12.74 6.52 12.8 6.6 12.86 6.67 12.92 6.75 12.98 6.83 13.04 6.91 13.09 6.99 13.15 7.06 13.21 7.14 13.27 7.22 13.33 7.3 13.39 7.37 13.44 7.45 13.5 7.53 13.56 7.61 13.62 7.69 13.68 7.76 13.74 7.84 13.79 7.92 13.85 8 13.91 8.07 13.97 8.15 14.03 8.23 14.09 8.31 14.14 8.39 14.2 8.46 14.26 8.54 14.32 8.62 14.38 8.7 14.44 8.77 14.49 8.85 14.55 8.93 14.61 9.01 14.67 9.08 14.73 9.16 14.79 9.24 14.84 9.32 14.9 9.39 14.96 9.47 15.02 9.55 15.08 9.63 15.14 9.71 15.19 9.78 15.25 9.86 15.31 9.94 15.37 10.02 15.43 10.09 15.49 10.17 15.54 10.25 15.6 10.33 15.66 10.4 15.72 10.48 15.78 10.56 15.84 10.64 15.89 10.71 15.95 10.79 16.01 10.87 16.07 10.95 16.13 11.02 16.19 11.1 16.24 11.18 16.3 11.26 16.36 11.34 16.42 11.41 16.48 11.49 16.54 11.57 16.59 11.65 16.65 11.72 16.71 11.8 16.77 11.88 16.83 11.96 16.89 12.03 16.94 12.11 17 12.19 17.06 12.27 17.12 12.34 17.18 12.42 17.24 12.5 17.29 12.58 17.35 12.65 17.41 12.73 17.47 12.81 17.53 12.89 17.59 12.96 17.64 13.04 17.7 13.12 17.76 13.2 17.82 13.27 17.88 13.35 17.94 13.43 17.99 13.51 18.05 13.58 18.11 13.66 18.17 13.74 18.23 13.82 18.29 13.89 18.34 13.97 18.4 14.05 18.46 14.13 18.52 14.2 18.58 14.28 18.64 14.36 18.69 14.44 18.75 14.51 18.81 14.59 18.87 14.67 18.93 14.75 18.99 14.82 19.04 14.9 19.1 14.98 19.16 15.06 19.22 15.13 19.28 15.21 19.34 15.29 19.39 15.37 19.45 15.44 19.51 15.52 19.57 15.6 19.63 15.68 19.69 15.75 19.74 15.83 19.8 15.91 19.86 15.99 19.92 16.06 19.98 16.14 20.04 16.22 20.09 16.3 20.15 16.37 20.21 16.45 20.27 16.53 20.33 16.61 20.39 16.68 20.44 16.76 20.5 16.84 20.56 16.92 20.62 16.99 20.68 17.07 20.74 17.15 20.79 17.23 20.85 17.3 20.91 17.38 20.97 17.46 21.03 17.54 21.09 17.61 21.14 17.69 21.2 17.77 21.26 17.85 21.32 17.92 21.38 18 21.44 18.08 21.49 18.15 21.55 18.23 21.61 18.31 21.67 18.39 21.73 18.46 21.79 18.54 21.84 18.62 21.9 18.7 21.96 18.77 22.02 18.85 22.08 18.93 22.14 19.01 22.19 19.08 22.25 19.16 22.31 19.24 22.37 19.32 22.43 19.39 22.49 19.47 22.54 19.55 22.6 19.63 22.66 19.7 22.72 19.78 22.78 19.86 22.84 19.94 22.89 20.01 22.95 20.09 23.01 20.17 23.07 20.25 23.13 20.32 23.19 20.4 23.24 20.48 23.3 20.55\" class=\"primitive\"/>\n",
       "            </g>\n",
       "          </g>\n",
       "        </g>\n",
       "      </g>\n",
       "    </g>\n",
       "  </g>\n",
       "  <g class=\"guide ylabels\" font-size=\"2.82\" font-family=\"'PT Sans Caption','Helvetica Neue','Helvetica',sans-serif\" fill=\"#6C606B\" id=\"img-357ab52a-60\">\n",
       "    <g transform=\"translate(19.3,131.11)\" id=\"img-357ab52a-61\">\n",
       "      <g class=\"primitive\">\n",
       "        <text text-anchor=\"end\" dy=\"0.35em\">0.00</text>\n",
       "      </g>\n",
       "    </g>\n",
       "    <g transform=\"translate(19.3,115.14)\" id=\"img-357ab52a-62\">\n",
       "      <g class=\"primitive\">\n",
       "        <text text-anchor=\"end\" dy=\"0.35em\">0.05</text>\n",
       "      </g>\n",
       "    </g>\n",
       "    <g transform=\"translate(19.3,99.17)\" id=\"img-357ab52a-63\">\n",
       "      <g class=\"primitive\">\n",
       "        <text text-anchor=\"end\" dy=\"0.35em\">0.10</text>\n",
       "      </g>\n",
       "    </g>\n",
       "    <g transform=\"translate(19.3,83.2)\" id=\"img-357ab52a-64\">\n",
       "      <g class=\"primitive\">\n",
       "        <text text-anchor=\"end\" dy=\"0.35em\">0.15</text>\n",
       "      </g>\n",
       "    </g>\n",
       "  </g>\n",
       "  <g font-size=\"3.88\" font-family=\"'PT Sans','Helvetica Neue','Helvetica',sans-serif\" fill=\"#564A55\" stroke=\"#000000\" stroke-opacity=\"0.000\" id=\"img-357ab52a-65\">\n",
       "    <g transform=\"translate(8.81,105.16)\" id=\"img-357ab52a-66\">\n",
       "      <g class=\"primitive\">\n",
       "        <text text-anchor=\"middle\" dy=\"0.35em\" transform=\"rotate(-90,0, 2)\">Velocity</text>\n",
       "      </g>\n",
       "    </g>\n",
       "  </g>\n",
       "</g>\n",
       "<g class=\"plotroot xscalable yscalable\" id=\"img-357ab52a-67\">\n",
       "  <g font-size=\"3.88\" font-family=\"'PT Sans','Helvetica Neue','Helvetica',sans-serif\" fill=\"#564A55\" stroke=\"#000000\" stroke-opacity=\"0.000\" id=\"img-357ab52a-68\">\n",
       "    <g transform=\"translate(121.12,64.59)\" id=\"img-357ab52a-69\">\n",
       "      <g class=\"primitive\">\n",
       "        <text text-anchor=\"middle\" dy=\"0.6em\">Time (s)</text>\n",
       "      </g>\n",
       "    </g>\n",
       "  </g>\n",
       "  <g class=\"guide xlabels\" font-size=\"2.82\" font-family=\"'PT Sans Caption','Helvetica Neue','Helvetica',sans-serif\" fill=\"#6C606B\" id=\"img-357ab52a-70\">\n",
       "    <g transform=\"translate(96.83,57.91)\" id=\"img-357ab52a-71\">\n",
       "      <g class=\"primitive\">\n",
       "        <text text-anchor=\"middle\" dy=\"0.6em\">0.00</text>\n",
       "      </g>\n",
       "    </g>\n",
       "    <g transform=\"translate(108.97,57.91)\" id=\"img-357ab52a-72\">\n",
       "      <g class=\"primitive\">\n",
       "        <text text-anchor=\"middle\" dy=\"0.6em\">0.05</text>\n",
       "      </g>\n",
       "    </g>\n",
       "    <g transform=\"translate(121.12,57.91)\" id=\"img-357ab52a-73\">\n",
       "      <g class=\"primitive\">\n",
       "        <text text-anchor=\"middle\" dy=\"0.6em\">0.10</text>\n",
       "      </g>\n",
       "    </g>\n",
       "    <g transform=\"translate(133.26,57.91)\" id=\"img-357ab52a-74\">\n",
       "      <g class=\"primitive\">\n",
       "        <text text-anchor=\"middle\" dy=\"0.6em\">0.15</text>\n",
       "      </g>\n",
       "    </g>\n",
       "    <g transform=\"translate(145.4,57.91)\" id=\"img-357ab52a-75\">\n",
       "      <g class=\"primitive\">\n",
       "        <text text-anchor=\"middle\" dy=\"0.6em\">0.20</text>\n",
       "      </g>\n",
       "    </g>\n",
       "  </g>\n",
       "  <g clip-path=\"url(#img-357ab52a-76)\">\n",
       "    <g id=\"img-357ab52a-77\">\n",
       "      <g pointer-events=\"visible\" stroke-width=\"0.3\" fill=\"#000000\" fill-opacity=\"0.000\" stroke=\"#000000\" stroke-opacity=\"0.000\" class=\"guide background\" id=\"img-357ab52a-78\">\n",
       "        <g transform=\"translate(121.12,30.96)\" id=\"img-357ab52a-79\">\n",
       "          <path d=\"M-26.28,-25.96 L 26.28 -25.96 26.28 25.96 -26.28 25.96 z\" class=\"primitive\"/>\n",
       "        </g>\n",
       "      </g>\n",
       "      <g class=\"guide ygridlines xfixed\" stroke-dasharray=\"0.5,0.5\" stroke-width=\"0.2\" stroke=\"#D0D0E0\" id=\"img-357ab52a-80\">\n",
       "        <g transform=\"translate(121.12,54.91)\" id=\"img-357ab52a-81\">\n",
       "          <path fill=\"none\" d=\"M-26.28,0 L 26.28 0\" class=\"primitive\"/>\n",
       "        </g>\n",
       "        <g transform=\"translate(121.12,45.33)\" id=\"img-357ab52a-82\">\n",
       "          <path fill=\"none\" d=\"M-26.28,0 L 26.28 0\" class=\"primitive\"/>\n",
       "        </g>\n",
       "        <g transform=\"translate(121.12,35.75)\" id=\"img-357ab52a-83\">\n",
       "          <path fill=\"none\" d=\"M-26.28,0 L 26.28 0\" class=\"primitive\"/>\n",
       "        </g>\n",
       "        <g transform=\"translate(121.12,26.17)\" id=\"img-357ab52a-84\">\n",
       "          <path fill=\"none\" d=\"M-26.28,0 L 26.28 0\" class=\"primitive\"/>\n",
       "        </g>\n",
       "        <g transform=\"translate(121.12,16.58)\" id=\"img-357ab52a-85\">\n",
       "          <path fill=\"none\" d=\"M-26.28,0 L 26.28 0\" class=\"primitive\"/>\n",
       "        </g>\n",
       "        <g transform=\"translate(121.12,7)\" id=\"img-357ab52a-86\">\n",
       "          <path fill=\"none\" d=\"M-26.28,0 L 26.28 0\" class=\"primitive\"/>\n",
       "        </g>\n",
       "      </g>\n",
       "      <g class=\"guide xgridlines yfixed\" stroke-dasharray=\"0.5,0.5\" stroke-width=\"0.2\" stroke=\"#D0D0E0\" id=\"img-357ab52a-87\">\n",
       "        <g transform=\"translate(96.83,30.96)\" id=\"img-357ab52a-88\">\n",
       "          <path fill=\"none\" d=\"M0,-25.96 L 0 25.96\" class=\"primitive\"/>\n",
       "        </g>\n",
       "        <g transform=\"translate(108.97,30.96)\" id=\"img-357ab52a-89\">\n",
       "          <path fill=\"none\" d=\"M0,-25.96 L 0 25.96\" class=\"primitive\"/>\n",
       "        </g>\n",
       "        <g transform=\"translate(121.12,30.96)\" id=\"img-357ab52a-90\">\n",
       "          <path fill=\"none\" d=\"M0,-25.96 L 0 25.96\" class=\"primitive\"/>\n",
       "        </g>\n",
       "        <g transform=\"translate(133.26,30.96)\" id=\"img-357ab52a-91\">\n",
       "          <path fill=\"none\" d=\"M0,-25.96 L 0 25.96\" class=\"primitive\"/>\n",
       "        </g>\n",
       "        <g transform=\"translate(145.4,30.96)\" id=\"img-357ab52a-92\">\n",
       "          <path fill=\"none\" d=\"M0,-25.96 L 0 25.96\" class=\"primitive\"/>\n",
       "        </g>\n",
       "      </g>\n",
       "      <g class=\"plotpanel\" id=\"img-357ab52a-93\">\n",
       "        <metadata>\n",
       "          <boundingbox value=\"94.83166666666665mm 5.0mm 52.56833333333332mm 51.91499999999999mm\"/>\n",
       "          <unitbox value=\"-0.008235818949246769 1.0208702911405614 0.21647163789849355 -0.5417405822811229\"/>\n",
       "        </metadata>\n",
       "        <g stroke-width=\"0.3\" fill=\"#000000\" fill-opacity=\"0.000\" class=\"geometry\" id=\"img-357ab52a-94\">\n",
       "          <g class=\"color_LCHab{Float32}(70.0f0,60.0f0,240.0f0)\" stroke-dasharray=\"none\" stroke=\"#00BFFF\" id=\"img-357ab52a-95\">\n",
       "            <g transform=\"translate(121.03,38.75)\" id=\"img-357ab52a-96\">\n",
       "              <path fill=\"none\" d=\"M-24.13,-31.75 L -24.07 -31.59 -24.01 -31.42 -23.95 -31.25 -23.89 -31.09 -23.83 -30.92 -23.77 -30.75 -23.71 -30.59 -23.65 -30.42 -23.59 -30.25 -23.53 -30.09 -23.47 -29.92 -23.41 -29.75 -23.35 -29.59 -23.29 -29.42 -23.23 -29.25 -23.17 -29.08 -23.11 -28.92 -23.05 -28.75 -22.99 -28.58 -22.92 -28.42 -22.86 -28.25 -22.8 -28.08 -22.74 -27.92 -22.68 -27.75 -22.62 -27.58 -22.56 -27.42 -22.5 -27.25 -22.44 -27.08 -22.38 -26.92 -22.32 -26.75 -22.26 -26.58 -22.2 -26.42 -22.14 -26.25 -22.08 -26.08 -22.02 -25.91 -21.96 -25.75 -21.9 -25.58 -21.84 -25.41 -21.78 -25.25 -21.72 -25.08 -21.66 -24.91 -21.6 -24.75 -21.54 -24.58 -21.48 -24.41 -21.41 -24.25 -21.35 -24.08 -21.29 -23.91 -21.23 -23.75 -21.17 -23.58 -21.11 -23.41 -21.05 -23.25 -20.99 -23.08 -20.93 -22.91 -20.87 -22.74 -20.81 -22.58 -20.75 -22.41 -20.69 -22.24 -20.63 -22.08 -20.57 -21.91 -20.51 -21.74 -20.45 -21.58 -20.39 -21.41 -20.33 -21.24 -20.27 -21.08 -20.21 -20.91 -20.15 -20.74 -20.09 -20.58 -20.03 -20.41 -19.96 -20.24 -19.9 -20.08 -19.84 -19.91 -19.78 -19.74 -19.72 -19.58 -19.66 -19.41 -19.6 -19.24 -19.54 -19.08 -19.48 -18.91 -19.42 -18.74 -19.36 -18.58 -19.3 -18.41 -19.24 -18.24 -19.18 -18.08 -19.12 -17.91 -19.06 -17.75 -19 -17.58 -18.94 -17.41 -18.88 -17.25 -18.82 -17.08 -18.76 -16.92 -18.7 -16.75 -18.64 -16.59 -18.58 -16.43 -18.52 -16.27 -18.45 -16.12 -18.39 -15.98 -18.33 -15.86 -18.27 -15.74 -18.21 -15.64 -18.15 -15.53 -18.09 -15.43 -18.03 -15.33 -17.97 -15.23 -17.91 -15.13 -17.85 -15.02 -17.79 -14.92 -17.73 -14.82 -17.67 -14.72 -17.61 -14.61 -17.55 -14.51 -17.49 -14.41 -17.43 -14.31 -17.37 -14.21 -17.31 -14.1 -17.25 -14 -17.19 -13.9 -17.13 -13.8 -17.07 -13.69 -17 -13.59 -16.94 -13.49 -16.88 -13.39 -16.82 -13.28 -16.76 -13.18 -16.7 -13.08 -16.64 -12.98 -16.58 -12.87 -16.52 -12.77 -16.46 -12.67 -16.4 -12.57 -16.34 -12.46 -16.28 -12.36 -16.22 -12.26 -16.16 -12.15 -16.1 -12.05 -16.04 -11.95 -15.98 -11.84 -15.92 -11.74 -15.86 -11.64 -15.8 -11.53 -15.74 -11.43 -15.68 -11.33 -15.62 -11.22 -15.56 -11.12 -15.49 -11.02 -15.43 -10.91 -15.37 -10.81 -15.31 -10.7 -15.25 -10.6 -15.19 -10.5 -15.13 -10.39 -15.07 -10.29 -15.01 -10.18 -14.95 -10.08 -14.89 -9.98 -14.83 -9.87 -14.77 -9.77 -14.71 -9.66 -14.65 -9.56 -14.59 -9.45 -14.53 -9.35 -14.47 -9.24 -14.41 -9.14 -14.35 -9.03 -14.29 -8.93 -14.23 -8.82 -14.17 -8.72 -14.11 -8.61 -14.04 -8.5 -13.98 -8.4 -13.92 -8.29 -13.86 -8.19 -13.8 -8.08 -13.74 -7.97 -13.68 -7.87 -13.62 -7.76 -13.56 -7.65 -13.5 -7.55 -13.44 -7.44 -13.38 -7.33 -13.32 -7.23 -13.26 -7.12 -13.2 -7.01 -13.14 -6.9 -13.08 -6.8 -13.02 -6.69 -12.96 -6.58 -12.9 -6.47 -12.84 -6.36 -12.78 -6.26 -12.72 -6.15 -12.66 -6.04 -12.6 -5.93 -12.53 -5.82 -12.47 -5.71 -12.41 -5.6 -12.35 -5.49 -12.29 -5.38 -12.23 -5.27 -12.17 -5.16 -12.11 -5.05 -12.05 -4.94 -11.99 -4.83 -11.93 -4.72 -11.87 -4.61 -11.81 -4.5 -11.75 -4.39 -11.69 -4.28 -11.63 -4.16 -11.57 -4.05 -11.51 -3.94 -11.45 -3.83 -11.39 -3.71 -11.33 -3.6 -11.27 -3.49 -11.21 -3.37 -11.15 -3.26 -11.08 -3.15 -11.02 -3.03 -10.96 -2.92 -10.9 -2.8 -10.84 -2.69 -10.78 -2.58 -10.72 -2.46 -10.66 -2.34 -10.6 -2.23 -10.54 -2.11 -10.48 -2 -10.42 -1.88 -10.36 -1.76 -10.3 -1.65 -10.24 -1.53 -10.18 -1.41 -10.12 -1.29 -10.06 -1.17 -10 -1.06 -9.94 -0.94 -9.88 -0.82 -9.82 -0.7 -9.76 -0.58 -9.7 -0.46 -9.64 -0.34 -9.57 -0.22 -9.51 -0.1 -9.45 0.03 -9.39 0.15 -9.33 0.27 -9.27 0.39 -9.21 0.51 -9.15 0.64 -9.09 0.76 -9.03 0.89 -8.97 1.01 -8.91 1.14 -8.85 1.26 -8.79 1.39 -8.73 1.51 -8.67 1.64 -8.61 1.77 -8.55 1.89 -8.49 2.02 -8.43 2.15 -8.37 2.28 -8.31 2.41 -8.25 2.54 -8.19 2.67 -8.12 2.8 -8.06 2.93 -8 3.06 -7.94 3.19 -7.88 3.33 -7.82 3.46 -7.76 3.59 -7.7 3.73 -7.64 3.86 -7.58 4 -7.52 4.13 -7.46 4.27 -7.4 4.4 -7.34 4.54 -7.28 4.68 -7.22 4.82 -7.16 4.96 -7.1 5.09 -7.04 5.23 -6.98 5.37 -6.92 5.51 -6.86 5.65 -6.8 5.78 -6.74 5.92 -6.68 6.05 -6.61 6.18 -6.55 6.3 -6.49 6.4 -6.43 6.46 -6.37 6.5 -6.31 6.52 -6.25 6.53 -6.19 6.54 -6.13 6.54 -6.07 6.55 -6.01 6.55 -5.95 6.55 -5.89 6.56 -5.83 6.56 -5.77 6.56 -5.71 6.56 -5.65 6.56 -5.59 6.56 -5.53 6.56 -5.47 6.56 -5.41 6.56 -5.35 6.56 -5.29 6.56 -5.23 6.57 -5.16 6.57 -5.1 6.57 -5.04 6.57 -4.98 6.57 -4.92 6.57 -4.86 6.57 -4.8 6.57 -4.74 6.57 -4.68 6.57 -4.62 6.57 -4.56 6.57 -4.5 6.57 -4.44 6.57 -4.38 6.57 -4.32 6.57 -4.26 6.57 -4.2 6.57 -4.14 6.57 -4.08 6.57 -4.02 6.57 -3.96 6.57 -3.9 6.57 -3.84 6.57 -3.78 6.57 -3.72 6.57 -3.65 6.57 -3.59 6.57 -3.53 6.57 -3.47 6.57 -3.41 6.57 -3.35 6.57 -3.29 6.57 -3.23 6.57 -3.17 6.57 -3.11 6.57 -3.05 6.57 -2.99 6.57 -2.93 6.57 -2.87 6.57 -2.81 6.57 -2.75 6.57 -2.69 6.57 -2.63 6.57 -2.57 6.57 -2.51 6.57 -2.45 6.57 -2.39 6.57 -2.33 6.57 -2.27 6.57 -2.2 6.57 -2.14 6.57 -2.08 6.57 -2.02 6.57 -1.96 6.57 -1.9 6.57 -1.84 6.57 -1.78 6.57 -1.72 6.57 -1.66 6.57 -1.6 6.57 -1.54 6.57 -1.48 6.57 -1.42 6.57 -1.36 6.57 -1.3 6.57 -1.24 6.57 -1.18 6.57 -1.12 6.57 -1.06 6.57 -1 6.57 -0.94 6.57 -0.88 6.57 -0.82 6.57 -0.76 6.57 -0.69 6.57 -0.63 6.57 -0.57 6.57 -0.51 6.57 -0.45 6.57 -0.39 6.57 -0.33 6.57 -0.27 6.57 -0.21 6.57 -0.15 6.57 -0.09 6.57 -0.03 6.57 0.03 6.57 0.09 6.57 0.15 6.57 0.21 6.57 0.27 6.57 0.33 6.57 0.39 6.57 0.45 6.57 0.51 6.57 0.57 6.57 0.63 6.57 0.69 6.57 0.76 6.57 0.82 6.57 0.88 6.57 0.94 6.57 1 6.57 1.06 6.57 1.12 6.57 1.18 6.57 1.24 6.57 1.3 6.57 1.36 6.57 1.42 6.57 1.48 6.57 1.54 6.57 1.6 6.57 1.66 6.57 1.72 6.57 1.78 6.57 1.84 6.57 1.9 6.57 1.96 6.57 2.02 6.57 2.08 6.57 2.14 6.57 2.2 6.57 2.27 6.57 2.33 6.57 2.39 6.57 2.45 6.57 2.51 6.57 2.57 6.57 2.63 6.57 2.69 6.57 2.75 6.57 2.81 6.57 2.87 6.57 2.93 6.57 2.99 6.57 3.05 6.57 3.11 6.57 3.17 6.57 3.23 6.57 3.29 6.57 3.35 6.57 3.41 6.57 3.47 6.57 3.53 6.57 3.59 6.57 3.65 6.57 3.72 6.57 3.78 6.57 3.84 6.57 3.9 6.57 3.96 6.57 4.02 6.57 4.08 6.57 4.14 6.57 4.2 6.57 4.26 6.57 4.32 6.57 4.38 6.57 4.44 6.57 4.5 6.57 4.56 6.57 4.62 6.57 4.68 6.57 4.74 6.57 4.8 6.57 4.86 6.57 4.92 6.57 4.98 6.57 5.04 6.57 5.1 6.57 5.16 6.57 5.23 6.57 5.29 6.57 5.35 6.57 5.41 6.57 5.47 6.57 5.53 6.57 5.59 6.57 5.65 6.57 5.71 6.57 5.77 6.57 5.83 6.57 5.89 6.57 5.95 6.57 6.01 6.57 6.07 6.57 6.13 6.57 6.19 6.57 6.25 6.57 6.31 6.57 6.37 6.57 6.43 6.57 6.49 6.57 6.55 6.57 6.61 6.57 6.68 6.57 6.74 6.57 6.8 6.58 6.86 6.58 6.92 6.58 6.98 6.58 7.04 6.58 7.1 6.58 7.16 6.58 7.22 6.58 7.28 6.58 7.34 6.58 7.4 6.58 7.46 6.58 7.52 6.58 7.58 6.58 7.64 6.58 7.7 6.58 7.76 6.58 7.82 6.58 7.88 6.58 7.94 6.58 8 6.58 8.06 6.58 8.12 6.58 8.19 6.58 8.25 6.58 8.31 6.58 8.37 6.58 8.43 6.58 8.49 6.58 8.55 6.58 8.61 6.58 8.67 6.58 8.73 6.58 8.79 6.58 8.85 6.58 8.91 6.58 8.97 6.58 9.03 6.58 9.09 6.58 9.15 6.58 9.21 6.58 9.27 6.58 9.33 6.58 9.39 6.58 9.45 6.58 9.51 6.58 9.57 6.58 9.64 6.58 9.7 6.58 9.76 6.58 9.82 6.58 9.88 6.58 9.94 6.58 10 6.58 10.06 6.58 10.12 6.58 10.18 6.58 10.24 6.58 10.3 6.58 10.36 6.58 10.42 6.58 10.48 6.58 10.54 6.58 10.6 6.58 10.66 6.58 10.72 6.58 10.78 6.58 10.84 6.58 10.9 6.58 10.96 6.58 11.02 6.58 11.08 6.58 11.15 6.58 11.21 6.58 11.27 6.58 11.33 6.58 11.39 6.58 11.45 6.58 11.51 6.58 11.57 6.58 11.63 6.58 11.69 6.58 11.75 6.58 11.81 6.58 11.87 6.58 11.93 6.58 11.99 6.58 12.05 6.58 12.11 6.58 12.17 6.58 12.23 6.58 12.29 6.58 12.35 6.58 12.41 6.58 12.47 6.58 12.53 6.58 12.6 6.58 12.66 6.58 12.72 6.58 12.78 6.58 12.84 6.58 12.9 6.58 12.96 6.58 13.02 6.58 13.08 6.58 13.14 6.58 13.2 6.58 13.26 6.58 13.32 6.58 13.38 6.58 13.44 6.58 13.5 6.58 13.56 6.58 13.62 6.58 13.68 6.58 13.74 6.58 13.8 6.58 13.86 6.58 13.92 6.58 13.98 6.58 14.04 6.58 14.11 6.58 14.17 6.58 14.23 6.58 14.29 6.58 14.35 6.58 14.41 6.58 14.47 6.58 14.53 6.58 14.59 6.58 14.65 6.58 14.71 6.58 14.77 6.58 14.83 6.58 14.89 6.58 14.95 6.58 15.01 6.58 15.07 6.58 15.13 6.58 15.19 6.58 15.25 6.58 15.31 6.58 15.37 6.58 15.43 6.58 15.49 6.58 15.56 6.58 15.62 6.58 15.68 6.58 15.74 6.58 15.8 6.58 15.86 6.58 15.92 6.58 15.98 6.58 16.04 6.58 16.1 6.58 16.16 6.58 16.22 6.58 16.28 6.58 16.34 6.58 16.4 6.58 16.46 6.58 16.52 6.58 16.58 6.58 16.64 6.58 16.7 6.58 16.76 6.58 16.82 6.58 16.88 6.58 16.94 6.58 17 6.58 17.07 6.58 17.13 6.58 17.19 6.58 17.25 6.58 17.31 6.58 17.37 6.58 17.43 6.58 17.49 6.58 17.55 6.58 17.61 6.58 17.67 6.58 17.73 6.58 17.79 6.58 17.85 6.58 17.91 6.58 17.97 6.58 18.03 6.58 18.09 6.58 18.15 6.58 18.21 6.58 18.27 6.58 18.33 6.58 18.39 6.58 18.45 6.58 18.52 6.58 18.58 6.58 18.64 6.58 18.7 6.58 18.76 6.58 18.82 6.58 18.88 6.58 18.94 6.58 19 6.58 19.06 6.58 19.12 6.58 19.18 6.58 19.24 6.58 19.3 6.58 19.36 6.58 19.42 6.58 19.48 6.58 19.54 6.58 19.6 6.58 19.66 6.58 19.72 6.58 19.78 6.58 19.84 6.58 19.9 6.58 19.96 6.58 20.03 6.58 20.09 6.58 20.15 6.58 20.21 6.58 20.27 6.58 20.33 6.58 20.39 6.58 20.45 6.58 20.51 6.58 20.57 6.58 20.63 6.58 20.69 6.58 20.75 6.58 20.81 6.58 20.87 6.58 20.93 6.58 20.99 6.58 21.05 6.58 21.11 6.58 21.17 6.58 21.23 6.58 21.29 6.58 21.35 6.58 21.41 6.58 21.48 6.58 21.54 6.58 21.6 6.58 21.66 6.58 21.72 6.58 21.78 6.58 21.84 6.58 21.9 6.58 21.96 6.58 22.02 6.58 22.08 6.58 22.14 6.58 22.2 6.58 22.26 6.58 22.32 6.58 22.38 6.58 22.44 6.58 22.5 6.58 22.56 6.58 22.62 6.58 22.68 6.58 22.74 6.58 22.8 6.58 22.86 6.58 22.92 6.58 22.99 6.58 23.05 6.58 23.11 6.58 23.17 6.58 23.23 6.58 23.29 6.58 23.35 6.58 23.41 6.58 23.47 6.58 23.53 6.58 23.59 6.58 23.65 6.58 23.71 6.58 23.77 6.58 23.83 6.58 23.89 6.58 23.95 6.58 24.01 6.58 24.07 6.58 24.13 6.58\" class=\"primitive\"/>\n",
       "            </g>\n",
       "          </g>\n",
       "        </g>\n",
       "      </g>\n",
       "    </g>\n",
       "  </g>\n",
       "  <g class=\"guide ylabels\" font-size=\"2.82\" font-family=\"'PT Sans Caption','Helvetica Neue','Helvetica',sans-serif\" fill=\"#6C606B\" id=\"img-357ab52a-97\">\n",
       "    <g transform=\"translate(93.83,54.91)\" id=\"img-357ab52a-98\">\n",
       "      <g class=\"primitive\">\n",
       "        <text text-anchor=\"end\" dy=\"0.35em\">0.5</text>\n",
       "      </g>\n",
       "    </g>\n",
       "    <g transform=\"translate(93.83,45.33)\" id=\"img-357ab52a-99\">\n",
       "      <g class=\"primitive\">\n",
       "        <text text-anchor=\"end\" dy=\"0.35em\">0.6</text>\n",
       "      </g>\n",
       "    </g>\n",
       "    <g transform=\"translate(93.83,35.75)\" id=\"img-357ab52a-100\">\n",
       "      <g class=\"primitive\">\n",
       "        <text text-anchor=\"end\" dy=\"0.35em\">0.7</text>\n",
       "      </g>\n",
       "    </g>\n",
       "    <g transform=\"translate(93.83,26.17)\" id=\"img-357ab52a-101\">\n",
       "      <g class=\"primitive\">\n",
       "        <text text-anchor=\"end\" dy=\"0.35em\">0.8</text>\n",
       "      </g>\n",
       "    </g>\n",
       "    <g transform=\"translate(93.83,16.58)\" id=\"img-357ab52a-102\">\n",
       "      <g class=\"primitive\">\n",
       "        <text text-anchor=\"end\" dy=\"0.35em\">0.9</text>\n",
       "      </g>\n",
       "    </g>\n",
       "    <g transform=\"translate(93.83,7)\" id=\"img-357ab52a-103\">\n",
       "      <g class=\"primitive\">\n",
       "        <text text-anchor=\"end\" dy=\"0.35em\">1.0</text>\n",
       "      </g>\n",
       "    </g>\n",
       "  </g>\n",
       "  <g font-size=\"3.88\" font-family=\"'PT Sans','Helvetica Neue','Helvetica',sans-serif\" fill=\"#564A55\" stroke=\"#000000\" stroke-opacity=\"0.000\" id=\"img-357ab52a-104\">\n",
       "    <g transform=\"translate(85.01,28.96)\" id=\"img-357ab52a-105\">\n",
       "      <g class=\"primitive\">\n",
       "        <text text-anchor=\"middle\" dy=\"0.35em\" transform=\"rotate(-90,0, 2)\">Mass</text>\n",
       "      </g>\n",
       "    </g>\n",
       "  </g>\n",
       "</g>\n",
       "<g class=\"plotroot xscalable yscalable\" id=\"img-357ab52a-106\">\n",
       "  <g font-size=\"3.88\" font-family=\"'PT Sans','Helvetica Neue','Helvetica',sans-serif\" fill=\"#564A55\" stroke=\"#000000\" stroke-opacity=\"0.000\" id=\"img-357ab52a-107\">\n",
       "    <g transform=\"translate(46.59,64.59)\" id=\"img-357ab52a-108\">\n",
       "      <g class=\"primitive\">\n",
       "        <text text-anchor=\"middle\" dy=\"0.6em\">Time (s)</text>\n",
       "      </g>\n",
       "    </g>\n",
       "  </g>\n",
       "  <g class=\"guide xlabels\" font-size=\"2.82\" font-family=\"'PT Sans Caption','Helvetica Neue','Helvetica',sans-serif\" fill=\"#6C606B\" id=\"img-357ab52a-109\">\n",
       "    <g transform=\"translate(23.98,57.91)\" id=\"img-357ab52a-110\">\n",
       "      <g class=\"primitive\">\n",
       "        <text text-anchor=\"middle\" dy=\"0.6em\">0.00</text>\n",
       "      </g>\n",
       "    </g>\n",
       "    <g transform=\"translate(35.28,57.91)\" id=\"img-357ab52a-111\">\n",
       "      <g class=\"primitive\">\n",
       "        <text text-anchor=\"middle\" dy=\"0.6em\">0.05</text>\n",
       "      </g>\n",
       "    </g>\n",
       "    <g transform=\"translate(46.59,57.91)\" id=\"img-357ab52a-112\">\n",
       "      <g class=\"primitive\">\n",
       "        <text text-anchor=\"middle\" dy=\"0.6em\">0.10</text>\n",
       "      </g>\n",
       "    </g>\n",
       "    <g transform=\"translate(57.89,57.91)\" id=\"img-357ab52a-113\">\n",
       "      <g class=\"primitive\">\n",
       "        <text text-anchor=\"middle\" dy=\"0.6em\">0.15</text>\n",
       "      </g>\n",
       "    </g>\n",
       "    <g transform=\"translate(69.2,57.91)\" id=\"img-357ab52a-114\">\n",
       "      <g class=\"primitive\">\n",
       "        <text text-anchor=\"middle\" dy=\"0.6em\">0.20</text>\n",
       "      </g>\n",
       "    </g>\n",
       "  </g>\n",
       "  <g clip-path=\"url(#img-357ab52a-115)\">\n",
       "    <g id=\"img-357ab52a-116\">\n",
       "      <g pointer-events=\"visible\" stroke-width=\"0.3\" fill=\"#000000\" fill-opacity=\"0.000\" stroke=\"#000000\" stroke-opacity=\"0.000\" class=\"guide background\" id=\"img-357ab52a-117\">\n",
       "        <g transform=\"translate(46.59,30.96)\" id=\"img-357ab52a-118\">\n",
       "          <path d=\"M-24.61,-25.96 L 24.61 -25.96 24.61 25.96 -24.61 25.96 z\" class=\"primitive\"/>\n",
       "        </g>\n",
       "      </g>\n",
       "      <g class=\"guide ygridlines xfixed\" stroke-dasharray=\"0.5,0.5\" stroke-width=\"0.2\" stroke=\"#D0D0E0\" id=\"img-357ab52a-119\">\n",
       "        <g transform=\"translate(46.59,54.91)\" id=\"img-357ab52a-120\">\n",
       "          <path fill=\"none\" d=\"M-24.61,0 L 24.61 0\" class=\"primitive\"/>\n",
       "        </g>\n",
       "        <g transform=\"translate(46.59,38.94)\" id=\"img-357ab52a-121\">\n",
       "          <path fill=\"none\" d=\"M-24.61,0 L 24.61 0\" class=\"primitive\"/>\n",
       "        </g>\n",
       "        <g transform=\"translate(46.59,22.97)\" id=\"img-357ab52a-122\">\n",
       "          <path fill=\"none\" d=\"M-24.61,0 L 24.61 0\" class=\"primitive\"/>\n",
       "        </g>\n",
       "        <g transform=\"translate(46.59,7)\" id=\"img-357ab52a-123\">\n",
       "          <path fill=\"none\" d=\"M-24.61,0 L 24.61 0\" class=\"primitive\"/>\n",
       "        </g>\n",
       "      </g>\n",
       "      <g class=\"guide xgridlines yfixed\" stroke-dasharray=\"0.5,0.5\" stroke-width=\"0.2\" stroke=\"#D0D0E0\" id=\"img-357ab52a-124\">\n",
       "        <g transform=\"translate(23.98,30.96)\" id=\"img-357ab52a-125\">\n",
       "          <path fill=\"none\" d=\"M0,-25.96 L 0 25.96\" class=\"primitive\"/>\n",
       "        </g>\n",
       "        <g transform=\"translate(35.28,30.96)\" id=\"img-357ab52a-126\">\n",
       "          <path fill=\"none\" d=\"M0,-25.96 L 0 25.96\" class=\"primitive\"/>\n",
       "        </g>\n",
       "        <g transform=\"translate(46.59,30.96)\" id=\"img-357ab52a-127\">\n",
       "          <path fill=\"none\" d=\"M0,-25.96 L 0 25.96\" class=\"primitive\"/>\n",
       "        </g>\n",
       "        <g transform=\"translate(57.89,30.96)\" id=\"img-357ab52a-128\">\n",
       "          <path fill=\"none\" d=\"M0,-25.96 L 0 25.96\" class=\"primitive\"/>\n",
       "        </g>\n",
       "        <g transform=\"translate(69.2,30.96)\" id=\"img-357ab52a-129\">\n",
       "          <path fill=\"none\" d=\"M0,-25.96 L 0 25.96\" class=\"primitive\"/>\n",
       "        </g>\n",
       "      </g>\n",
       "      <g class=\"plotpanel\" id=\"img-357ab52a-130\">\n",
       "        <metadata>\n",
       "          <boundingbox value=\"21.97833333333333mm 5.0mm 49.22166666666666mm 51.91499999999999mm\"/>\n",
       "          <unitbox value=\"-0.008845317510043122 1.0156261087342169 0.21769063502008623 -0.016252217468433822\"/>\n",
       "        </metadata>\n",
       "        <g stroke-width=\"0.3\" fill=\"#000000\" fill-opacity=\"0.000\" class=\"geometry\" id=\"img-357ab52a-131\">\n",
       "          <g class=\"color_LCHab{Float32}(70.0f0,60.0f0,240.0f0)\" stroke-dasharray=\"none\" stroke=\"#00BFFF\" id=\"img-357ab52a-132\">\n",
       "            <g transform=\"translate(46.5,32.12)\" id=\"img-357ab52a-133\">\n",
       "              <path fill=\"none\" d=\"M-22.47,22.8 L -22.41 22.8 -22.36 22.8 -22.3 22.8 -22.25 22.79 -22.19 22.79 -22.13 22.79 -22.08 22.79 -22.02 22.78 -21.96 22.78 -21.91 22.77 -21.85 22.77 -21.8 22.76 -21.74 22.76 -21.68 22.75 -21.63 22.74 -21.57 22.73 -21.51 22.73 -21.46 22.72 -21.4 22.71 -21.35 22.7 -21.29 22.69 -21.23 22.68 -21.18 22.66 -21.12 22.65 -21.06 22.64 -21.01 22.63 -20.95 22.61 -20.9 22.6 -20.84 22.59 -20.78 22.57 -20.73 22.56 -20.67 22.54 -20.61 22.52 -20.56 22.51 -20.5 22.49 -20.45 22.47 -20.39 22.45 -20.33 22.43 -20.28 22.41 -20.22 22.39 -20.16 22.37 -20.11 22.35 -20.05 22.33 -20 22.31 -19.94 22.29 -19.88 22.26 -19.83 22.24 -19.77 22.22 -19.71 22.19 -19.66 22.17 -19.6 22.14 -19.55 22.12 -19.49 22.09 -19.43 22.06 -19.38 22.03 -19.32 22.01 -19.26 21.98 -19.21 21.95 -19.15 21.92 -19.1 21.89 -19.04 21.86 -18.98 21.83 -18.93 21.8 -18.87 21.76 -18.81 21.73 -18.76 21.7 -18.7 21.67 -18.65 21.63 -18.59 21.6 -18.53 21.56 -18.48 21.53 -18.42 21.49 -18.36 21.46 -18.31 21.42 -18.25 21.38 -18.2 21.34 -18.14 21.31 -18.08 21.27 -18.03 21.23 -17.97 21.19 -17.91 21.15 -17.86 21.11 -17.8 21.07 -17.75 21.03 -17.69 20.98 -17.63 20.94 -17.58 20.9 -17.52 20.86 -17.46 20.81 -17.41 20.77 -17.35 20.72 -17.3 20.68 -17.24 20.63 -17.18 20.59 -17.13 20.54 -17.07 20.5 -17.01 20.45 -16.96 20.4 -16.9 20.35 -16.85 20.31 -16.79 20.26 -16.73 20.21 -16.68 20.17 -16.62 20.12 -16.56 20.07 -16.51 20.02 -16.45 19.97 -16.4 19.93 -16.34 19.88 -16.28 19.83 -16.23 19.78 -16.17 19.73 -16.11 19.68 -16.06 19.63 -16 19.58 -15.95 19.54 -15.89 19.49 -15.83 19.44 -15.78 19.39 -15.72 19.34 -15.66 19.29 -15.61 19.24 -15.55 19.19 -15.5 19.13 -15.44 19.08 -15.38 19.03 -15.33 18.98 -15.27 18.93 -15.21 18.88 -15.16 18.83 -15.1 18.78 -15.05 18.72 -14.99 18.67 -14.93 18.62 -14.88 18.57 -14.82 18.51 -14.76 18.46 -14.71 18.41 -14.65 18.36 -14.6 18.3 -14.54 18.25 -14.48 18.2 -14.43 18.14 -14.37 18.09 -14.31 18.03 -14.26 17.98 -14.2 17.92 -14.15 17.87 -14.09 17.82 -14.03 17.76 -13.98 17.71 -13.92 17.65 -13.86 17.59 -13.81 17.54 -13.75 17.48 -13.7 17.43 -13.64 17.37 -13.58 17.31 -13.53 17.26 -13.47 17.2 -13.41 17.14 -13.36 17.08 -13.3 17.03 -13.25 16.97 -13.19 16.91 -13.13 16.85 -13.08 16.79 -13.02 16.74 -12.96 16.68 -12.91 16.62 -12.85 16.56 -12.8 16.5 -12.74 16.44 -12.68 16.38 -12.63 16.32 -12.57 16.26 -12.51 16.2 -12.46 16.14 -12.4 16.08 -12.35 16.02 -12.29 15.95 -12.23 15.89 -12.18 15.83 -12.12 15.77 -12.06 15.71 -12.01 15.64 -11.95 15.58 -11.9 15.52 -11.84 15.45 -11.78 15.39 -11.73 15.33 -11.67 15.26 -11.61 15.2 -11.56 15.13 -11.5 15.07 -11.45 15 -11.39 14.94 -11.33 14.87 -11.28 14.81 -11.22 14.74 -11.16 14.67 -11.11 14.61 -11.05 14.54 -11 14.47 -10.94 14.4 -10.88 14.34 -10.83 14.27 -10.77 14.2 -10.71 14.13 -10.66 14.06 -10.6 13.99 -10.55 13.92 -10.49 13.85 -10.43 13.78 -10.38 13.71 -10.32 13.64 -10.26 13.57 -10.21 13.5 -10.15 13.43 -10.1 13.35 -10.04 13.28 -9.98 13.21 -9.93 13.13 -9.87 13.06 -9.81 12.99 -9.76 12.91 -9.7 12.84 -9.65 12.76 -9.59 12.69 -9.53 12.61 -9.48 12.54 -9.42 12.46 -9.36 12.38 -9.31 12.31 -9.25 12.23 -9.2 12.15 -9.14 12.07 -9.08 12 -9.03 11.92 -8.97 11.84 -8.91 11.76 -8.86 11.68 -8.8 11.6 -8.75 11.52 -8.69 11.44 -8.63 11.36 -8.58 11.27 -8.52 11.19 -8.47 11.11 -8.41 11.03 -8.35 10.94 -8.3 10.86 -8.24 10.77 -8.18 10.69 -8.13 10.6 -8.07 10.52 -8.02 10.43 -7.96 10.34 -7.9 10.26 -7.85 10.17 -7.79 10.08 -7.73 9.99 -7.68 9.9 -7.62 9.81 -7.57 9.72 -7.51 9.63 -7.45 9.54 -7.4 9.45 -7.34 9.36 -7.28 9.27 -7.23 9.17 -7.17 9.08 -7.12 8.99 -7.06 8.89 -7 8.8 -6.95 8.7 -6.89 8.61 -6.83 8.51 -6.78 8.41 -6.72 8.31 -6.67 8.21 -6.61 8.12 -6.55 8.02 -6.5 7.92 -6.44 7.81 -6.38 7.71 -6.33 7.61 -6.27 7.51 -6.22 7.41 -6.16 7.3 -6.1 7.2 -6.05 7.09 -5.99 6.99 -5.93 6.88 -5.88 6.78 -5.82 6.67 -5.77 6.57 -5.71 6.47 -5.65 6.36 -5.6 6.26 -5.54 6.16 -5.48 6.05 -5.43 5.95 -5.37 5.85 -5.32 5.75 -5.26 5.65 -5.2 5.55 -5.15 5.44 -5.09 5.34 -5.03 5.24 -4.98 5.14 -4.92 5.04 -4.87 4.94 -4.81 4.85 -4.75 4.75 -4.7 4.65 -4.64 4.55 -4.58 4.45 -4.53 4.35 -4.47 4.26 -4.42 4.16 -4.36 4.06 -4.3 3.97 -4.25 3.87 -4.19 3.77 -4.13 3.68 -4.08 3.58 -4.02 3.49 -3.97 3.39 -3.91 3.3 -3.85 3.2 -3.8 3.11 -3.74 3.02 -3.68 2.92 -3.63 2.83 -3.57 2.74 -3.52 2.64 -3.46 2.55 -3.4 2.46 -3.35 2.37 -3.29 2.27 -3.23 2.18 -3.18 2.09 -3.12 2 -3.07 1.91 -3.01 1.82 -2.95 1.73 -2.9 1.64 -2.84 1.55 -2.78 1.46 -2.73 1.37 -2.67 1.28 -2.62 1.19 -2.56 1.1 -2.5 1.01 -2.45 0.93 -2.39 0.84 -2.33 0.75 -2.28 0.66 -2.22 0.58 -2.17 0.49 -2.11 0.4 -2.05 0.32 -2 0.23 -1.94 0.14 -1.88 0.06 -1.83 -0.03 -1.77 -0.11 -1.72 -0.2 -1.66 -0.28 -1.6 -0.37 -1.55 -0.45 -1.49 -0.54 -1.43 -0.62 -1.38 -0.71 -1.32 -0.79 -1.27 -0.87 -1.21 -0.96 -1.15 -1.04 -1.1 -1.12 -1.04 -1.2 -0.98 -1.29 -0.93 -1.37 -0.87 -1.45 -0.82 -1.53 -0.76 -1.61 -0.7 -1.69 -0.65 -1.78 -0.59 -1.86 -0.53 -1.94 -0.48 -2.02 -0.42 -2.1 -0.37 -2.18 -0.31 -2.26 -0.25 -2.34 -0.2 -2.42 -0.14 -2.49 -0.08 -2.57 -0.03 -2.65 0.03 -2.73 0.08 -2.81 0.14 -2.89 0.2 -2.96 0.25 -3.04 0.31 -3.12 0.37 -3.2 0.42 -3.27 0.48 -3.35 0.53 -3.43 0.59 -3.5 0.65 -3.58 0.7 -3.66 0.76 -3.73 0.82 -3.81 0.87 -3.88 0.93 -3.96 0.98 -4.03 1.04 -4.11 1.1 -4.18 1.15 -4.25 1.21 -4.33 1.27 -4.4 1.32 -4.48 1.38 -4.55 1.43 -4.62 1.49 -4.7 1.55 -4.77 1.6 -4.84 1.66 -4.91 1.72 -4.99 1.77 -5.06 1.83 -5.13 1.88 -5.2 1.94 -5.27 2 -5.34 2.05 -5.41 2.11 -5.48 2.17 -5.56 2.22 -5.63 2.28 -5.7 2.33 -5.77 2.39 -5.84 2.45 -5.9 2.5 -5.97 2.56 -6.04 2.62 -6.11 2.67 -6.18 2.73 -6.25 2.78 -6.32 2.84 -6.39 2.9 -6.45 2.95 -6.52 3.01 -6.59 3.07 -6.66 3.12 -6.72 3.18 -6.79 3.23 -6.86 3.29 -6.92 3.35 -6.99 3.4 -7.06 3.46 -7.12 3.52 -7.19 3.57 -7.25 3.63 -7.32 3.68 -7.38 3.74 -7.45 3.8 -7.51 3.85 -7.58 3.91 -7.64 3.97 -7.7 4.02 -7.77 4.08 -7.83 4.13 -7.9 4.19 -7.96 4.25 -8.02 4.3 -8.09 4.36 -8.15 4.42 -8.21 4.47 -8.27 4.53 -8.33 4.58 -8.4 4.64 -8.46 4.7 -8.52 4.75 -8.58 4.81 -8.64 4.87 -8.7 4.92 -8.76 4.98 -8.82 5.03 -8.88 5.09 -8.94 5.15 -9 5.2 -9.06 5.26 -9.12 5.32 -9.18 5.37 -9.24 5.43 -9.3 5.48 -9.36 5.54 -9.42 5.6 -9.48 5.65 -9.53 5.71 -9.59 5.77 -9.65 5.82 -9.71 5.88 -9.77 5.93 -9.82 5.99 -9.88 6.05 -9.94 6.1 -9.99 6.16 -10.05 6.22 -10.11 6.27 -10.16 6.33 -10.22 6.38 -10.27 6.44 -10.33 6.5 -10.38 6.55 -10.44 6.61 -10.49 6.67 -10.55 6.72 -10.6 6.78 -10.66 6.83 -10.71 6.89 -10.76 6.95 -10.82 7 -10.87 7.06 -10.92 7.12 -10.98 7.17 -11.03 7.23 -11.08 7.28 -11.13 7.34 -11.19 7.4 -11.24 7.45 -11.29 7.51 -11.34 7.57 -11.39 7.62 -11.45 7.68 -11.5 7.73 -11.55 7.79 -11.6 7.85 -11.65 7.9 -11.7 7.96 -11.75 8.02 -11.8 8.07 -11.85 8.13 -11.9 8.18 -11.95 8.24 -12 8.3 -12.04 8.35 -12.09 8.41 -12.14 8.47 -12.19 8.52 -12.24 8.58 -12.29 8.63 -12.33 8.69 -12.38 8.75 -12.43 8.8 -12.48 8.86 -12.52 8.91 -12.57 8.97 -12.62 9.03 -12.66 9.08 -12.71 9.14 -12.76 9.2 -12.8 9.25 -12.85 9.31 -12.89 9.36 -12.94 9.42 -12.98 9.48 -13.03 9.53 -13.07 9.59 -13.12 9.65 -13.16 9.7 -13.2 9.76 -13.25 9.81 -13.29 9.87 -13.34 9.93 -13.38 9.98 -13.42 10.04 -13.46 10.1 -13.51 10.15 -13.55 10.21 -13.59 10.26 -13.63 10.32 -13.68 10.38 -13.72 10.43 -13.76 10.49 -13.8 10.55 -13.84 10.6 -13.88 10.66 -13.92 10.71 -13.96 10.77 -14 10.83 -14.04 10.88 -14.08 10.94 -14.12 11 -14.16 11.05 -14.2 11.11 -14.24 11.16 -14.28 11.22 -14.32 11.28 -14.36 11.33 -14.4 11.39 -14.44 11.45 -14.47 11.5 -14.51 11.56 -14.55 11.61 -14.59 11.67 -14.62 11.73 -14.66 11.78 -14.7 11.84 -14.73 11.9 -14.77 11.95 -14.81 12.01 -14.84 12.06 -14.88 12.12 -14.91 12.18 -14.95 12.23 -14.99 12.29 -15.02 12.35 -15.06 12.4 -15.09 12.46 -15.13 12.51 -15.16 12.57 -15.19 12.63 -15.23 12.68 -15.26 12.74 -15.29 12.8 -15.33 12.85 -15.36 12.91 -15.39 12.96 -15.43 13.02 -15.46 13.08 -15.49 13.13 -15.52 13.19 -15.56 13.25 -15.59 13.3 -15.62 13.36 -15.65 13.41 -15.68 13.47 -15.71 13.53 -15.74 13.58 -15.78 13.64 -15.81 13.7 -15.84 13.75 -15.87 13.81 -15.9 13.86 -15.93 13.92 -15.96 13.98 -15.98 14.03 -16.01 14.09 -16.04 14.15 -16.07 14.2 -16.1 14.26 -16.13 14.31 -16.16 14.37 -16.18 14.43 -16.21 14.48 -16.24 14.54 -16.27 14.6 -16.29 14.65 -16.32 14.71 -16.35 14.76 -16.37 14.82 -16.4 14.88 -16.43 14.93 -16.45 14.99 -16.48 15.05 -16.51 15.1 -16.53 15.16 -16.56 15.21 -16.58 15.27 -16.61 15.33 -16.63 15.38 -16.65 15.44 -16.68 15.5 -16.7 15.55 -16.73 15.61 -16.75 15.66 -16.77 15.72 -16.8 15.78 -16.82 15.83 -16.84 15.89 -16.87 15.95 -16.89 16 -16.91 16.06 -16.93 16.11 -16.96 16.17 -16.98 16.23 -17 16.28 -17.02 16.34 -17.04 16.4 -17.06 16.45 -17.08 16.51 -17.1 16.56 -17.12 16.62 -17.15 16.68 -17.17 16.73 -17.18 16.79 -17.2 16.85 -17.22 16.9 -17.24 16.96 -17.26 17.01 -17.28 17.07 -17.3 17.13 -17.32 17.18 -17.34 17.24 -17.36 17.3 -17.37 17.35 -17.39 17.41 -17.41 17.46 -17.43 17.52 -17.44 17.58 -17.46 17.63 -17.48 17.69 -17.49 17.75 -17.51 17.8 -17.53 17.86 -17.54 17.91 -17.56 17.97 -17.57 18.03 -17.59 18.08 -17.6 18.14 -17.62 18.2 -17.63 18.25 -17.65 18.31 -17.66 18.36 -17.68 18.42 -17.69 18.48 -17.71 18.53 -17.72 18.59 -17.73 18.65 -17.75 18.7 -17.76 18.76 -17.77 18.81 -17.78 18.87 -17.8 18.93 -17.81 18.98 -17.82 19.04 -17.83 19.1 -17.85 19.15 -17.86 19.21 -17.87 19.26 -17.88 19.32 -17.89 19.38 -17.9 19.43 -17.91 19.49 -17.92 19.55 -17.93 19.6 -17.94 19.66 -17.95 19.71 -17.96 19.77 -17.97 19.83 -17.98 19.88 -17.99 19.94 -18 20 -18.01 20.05 -18.02 20.11 -18.02 20.16 -18.03 20.22 -18.04 20.28 -18.05 20.33 -18.06 20.39 -18.06 20.45 -18.07 20.5 -18.08 20.56 -18.08 20.61 -18.09 20.67 -18.1 20.73 -18.1 20.78 -18.11 20.84 -18.11 20.9 -18.12 20.95 -18.13 21.01 -18.13 21.06 -18.14 21.12 -18.14 21.18 -18.15 21.23 -18.15 21.29 -18.15 21.35 -18.16 21.4 -18.16 21.46 -18.17 21.51 -18.17 21.57 -18.17 21.63 -18.18 21.68 -18.18 21.74 -18.18 21.8 -18.18 21.85 -18.19 21.91 -18.19 21.96 -18.19 22.02 -18.19 22.08 -18.19 22.13 -18.19 22.19 -18.2 22.25 -18.2 22.3 -18.2 22.36 -18.2 22.41 -18.2 22.47 -18.2\" class=\"primitive\"/>\n",
       "            </g>\n",
       "          </g>\n",
       "        </g>\n",
       "      </g>\n",
       "    </g>\n",
       "  </g>\n",
       "  <g class=\"guide ylabels\" font-size=\"2.82\" font-family=\"'PT Sans Caption','Helvetica Neue','Helvetica',sans-serif\" fill=\"#6C606B\" id=\"img-357ab52a-134\">\n",
       "    <g transform=\"translate(20.98,54.91)\" id=\"img-357ab52a-135\">\n",
       "      <g class=\"primitive\">\n",
       "        <text text-anchor=\"end\" dy=\"0.35em\">1.000</text>\n",
       "      </g>\n",
       "    </g>\n",
       "    <g transform=\"translate(20.98,38.94)\" id=\"img-357ab52a-136\">\n",
       "      <g class=\"primitive\">\n",
       "        <text text-anchor=\"end\" dy=\"0.35em\">1.005</text>\n",
       "      </g>\n",
       "    </g>\n",
       "    <g transform=\"translate(20.98,22.97)\" id=\"img-357ab52a-137\">\n",
       "      <g class=\"primitive\">\n",
       "        <text text-anchor=\"end\" dy=\"0.35em\">1.010</text>\n",
       "      </g>\n",
       "    </g>\n",
       "    <g transform=\"translate(20.98,7)\" id=\"img-357ab52a-138\">\n",
       "      <g class=\"primitive\">\n",
       "        <text text-anchor=\"end\" dy=\"0.35em\">1.015</text>\n",
       "      </g>\n",
       "    </g>\n",
       "  </g>\n",
       "  <g font-size=\"3.88\" font-family=\"'PT Sans','Helvetica Neue','Helvetica',sans-serif\" fill=\"#564A55\" stroke=\"#000000\" stroke-opacity=\"0.000\" id=\"img-357ab52a-139\">\n",
       "    <g transform=\"translate(8.81,28.96)\" id=\"img-357ab52a-140\">\n",
       "      <g class=\"primitive\">\n",
       "        <text text-anchor=\"middle\" dy=\"0.35em\" transform=\"rotate(-90,0, 2)\">Altitude</text>\n",
       "      </g>\n",
       "    </g>\n",
       "  </g>\n",
       "</g>\n",
       "<defs>\n",
       "  <clipPath id=\"img-357ab52a-4\">\n",
       "    <path d=\"M92.48,81.2 L 147.4 81.2 147.4 133.11 92.48 133.11\" />\n",
       "  </clipPath>\n",
       "  <clipPath id=\"img-357ab52a-41\">\n",
       "    <path d=\"M20.3,81.2 L 71.2 81.2 71.2 133.11 20.3 133.11\" />\n",
       "  </clipPath>\n",
       "  <clipPath id=\"img-357ab52a-76\">\n",
       "    <path d=\"M94.83,5 L 147.4 5 147.4 56.91 94.83 56.91\" />\n",
       "  </clipPath>\n",
       "  <clipPath id=\"img-357ab52a-115\">\n",
       "    <path d=\"M21.98,5 L 71.2 5 71.2 56.91 21.98 56.91\" />\n",
       "  </clipPath>\n",
       "</defs>\n",
       "</svg>\n"
      ],
      "text/html": [
       "<?xml version=\"1.0\" encoding=\"UTF-8\"?>\n",
       "<svg xmlns=\"http://www.w3.org/2000/svg\"\n",
       "     xmlns:xlink=\"http://www.w3.org/1999/xlink\"\n",
       "     xmlns:gadfly=\"http://www.gadflyjl.org/ns\"\n",
       "     version=\"1.2\"\n",
       "     width=\"152.4mm\" height=\"152.4mm\" viewBox=\"0 0 152.4 152.4\"\n",
       "     stroke=\"none\"\n",
       "     fill=\"#000000\"\n",
       "     stroke-width=\"0.3\"\n",
       "     font-size=\"3.88\"\n",
       ">\n",
       "<defs>\n",
       "  <marker id=\"arrow\" markerWidth=\"15\" markerHeight=\"7\" refX=\"5\" refY=\"3.5\" orient=\"auto\" markerUnits=\"strokeWidth\">\n",
       "    <path d=\"M0,0 L15,3.5 L0,7 z\" stroke=\"context-stroke\" fill=\"context-stroke\"/>\n",
       "  </marker>\n",
       "</defs>\n",
       "<g class=\"plotroot xscalable yscalable\" id=\"img-357ab52a-1\">\n",
       "  <g font-size=\"3.88\" font-family=\"'PT Sans','Helvetica Neue','Helvetica',sans-serif\" fill=\"#564A55\" stroke=\"#000000\" stroke-opacity=\"0.000\" id=\"img-357ab52a-2\">\n",
       "    <g transform=\"translate(119.94,140.79)\">\n",
       "      <g class=\"primitive\">\n",
       "        <text text-anchor=\"middle\" dy=\"0.6em\">Time (s)</text>\n",
       "      </g>\n",
       "    </g>\n",
       "  </g>\n",
       "  <g class=\"guide xlabels\" font-size=\"2.82\" font-family=\"'PT Sans Caption','Helvetica Neue','Helvetica',sans-serif\" fill=\"#6C606B\" id=\"img-357ab52a-3\">\n",
       "    <g transform=\"translate(94.48,134.11)\">\n",
       "      <g class=\"primitive\">\n",
       "        <text text-anchor=\"middle\" dy=\"0.6em\">0.00</text>\n",
       "      </g>\n",
       "    </g>\n",
       "    <g transform=\"translate(107.21,134.11)\">\n",
       "      <g class=\"primitive\">\n",
       "        <text text-anchor=\"middle\" dy=\"0.6em\">0.05</text>\n",
       "      </g>\n",
       "    </g>\n",
       "    <g transform=\"translate(119.94,134.11)\">\n",
       "      <g class=\"primitive\">\n",
       "        <text text-anchor=\"middle\" dy=\"0.6em\">0.10</text>\n",
       "      </g>\n",
       "    </g>\n",
       "    <g transform=\"translate(132.67,134.11)\">\n",
       "      <g class=\"primitive\">\n",
       "        <text text-anchor=\"middle\" dy=\"0.6em\">0.15</text>\n",
       "      </g>\n",
       "    </g>\n",
       "    <g transform=\"translate(145.4,134.11)\">\n",
       "      <g class=\"primitive\">\n",
       "        <text text-anchor=\"middle\" dy=\"0.6em\">0.20</text>\n",
       "      </g>\n",
       "    </g>\n",
       "  </g>\n",
       "  <g clip-path=\"url(#img-357ab52a-4)\">\n",
       "    <g id=\"img-357ab52a-5\">\n",
       "      <g pointer-events=\"visible\" stroke-width=\"0.3\" fill=\"#000000\" fill-opacity=\"0.000\" stroke=\"#000000\" stroke-opacity=\"0.000\" class=\"guide background\" id=\"img-357ab52a-6\">\n",
       "        <g transform=\"translate(119.94,107.16)\" id=\"img-357ab52a-7\">\n",
       "          <path d=\"M-27.46,-25.96 L 27.46 -25.96 27.46 25.96 -27.46 25.96 z\" class=\"primitive\"/>\n",
       "        </g>\n",
       "      </g>\n",
       "      <g class=\"guide ygridlines xfixed\" stroke-dasharray=\"0.5,0.5\" stroke-width=\"0.2\" stroke=\"#D0D0E0\" id=\"img-357ab52a-8\">\n",
       "        <g transform=\"translate(119.94,131.11)\" id=\"img-357ab52a-9\">\n",
       "          <path fill=\"none\" d=\"M-27.46,0 L 27.46 0\" class=\"primitive\"/>\n",
       "        </g>\n",
       "        <g transform=\"translate(119.94,119.14)\" id=\"img-357ab52a-10\">\n",
       "          <path fill=\"none\" d=\"M-27.46,0 L 27.46 0\" class=\"primitive\"/>\n",
       "        </g>\n",
       "        <g transform=\"translate(119.94,107.16)\" id=\"img-357ab52a-11\">\n",
       "          <path fill=\"none\" d=\"M-27.46,0 L 27.46 0\" class=\"primitive\"/>\n",
       "        </g>\n",
       "        <g transform=\"translate(119.94,95.18)\" id=\"img-357ab52a-12\">\n",
       "          <path fill=\"none\" d=\"M-27.46,0 L 27.46 0\" class=\"primitive\"/>\n",
       "        </g>\n",
       "        <g transform=\"translate(119.94,83.2)\" id=\"img-357ab52a-13\">\n",
       "          <path fill=\"none\" d=\"M-27.46,0 L 27.46 0\" class=\"primitive\"/>\n",
       "        </g>\n",
       "      </g>\n",
       "      <g class=\"guide xgridlines yfixed\" stroke-dasharray=\"0.5,0.5\" stroke-width=\"0.2\" stroke=\"#D0D0E0\" id=\"img-357ab52a-14\">\n",
       "        <g transform=\"translate(94.48,107.16)\" id=\"img-357ab52a-15\">\n",
       "          <path fill=\"none\" d=\"M0,-25.96 L 0 25.96\" class=\"primitive\"/>\n",
       "        </g>\n",
       "        <g transform=\"translate(107.21,107.16)\" id=\"img-357ab52a-16\">\n",
       "          <path fill=\"none\" d=\"M0,-25.96 L 0 25.96\" class=\"primitive\"/>\n",
       "        </g>\n",
       "        <g transform=\"translate(119.94,107.16)\" id=\"img-357ab52a-17\">\n",
       "          <path fill=\"none\" d=\"M0,-25.96 L 0 25.96\" class=\"primitive\"/>\n",
       "        </g>\n",
       "        <g transform=\"translate(132.67,107.16)\" id=\"img-357ab52a-18\">\n",
       "          <path fill=\"none\" d=\"M0,-25.96 L 0 25.96\" class=\"primitive\"/>\n",
       "        </g>\n",
       "        <g transform=\"translate(145.4,107.16)\" id=\"img-357ab52a-19\">\n",
       "          <path fill=\"none\" d=\"M0,-25.96 L 0 25.96\" class=\"primitive\"/>\n",
       "        </g>\n",
       "      </g>\n",
       "      <g class=\"plotpanel\" id=\"img-357ab52a-20\">\n",
       "        <metadata>\n",
       "          <boundingbox value=\"92.48499999999999mm 81.19999999999999mm 54.91499999999999mm 51.91499999999999mm\"/>\n",
       "          <unitbox value=\"-0.007856230973190614 4.166962329124491 0.21571246194638125 -4.333924658248983\"/>\n",
       "        </metadata>\n",
       "        <g stroke-width=\"0.3\" fill=\"#000000\" fill-opacity=\"0.000\" class=\"geometry\" id=\"img-357ab52a-21\">\n",
       "          <g class=\"color_LCHab{Float32}(70.0f0,60.0f0,240.0f0)\" stroke-dasharray=\"none\" stroke=\"#00BFFF\" id=\"img-357ab52a-22\">\n",
       "            <g transform=\"translate(119.85,119.05)\" id=\"img-357ab52a-23\">\n",
       "              <path fill=\"none\" d=\"M-25.3,-29.86 L -25.24 -29.86 -25.17 -29.86 -25.11 -29.86 -25.05 -29.86 -24.98 -29.86 -24.92 -29.86 -24.86 -29.86 -24.79 -29.86 -24.73 -29.86 -24.67 -29.86 -24.6 -29.86 -24.54 -29.86 -24.48 -29.86 -24.41 -29.86 -24.35 -29.86 -24.29 -29.86 -24.22 -29.86 -24.16 -29.86 -24.1 -29.86 -24.03 -29.86 -23.97 -29.86 -23.91 -29.86 -23.84 -29.86 -23.78 -29.86 -23.72 -29.86 -23.65 -29.86 -23.59 -29.86 -23.53 -29.86 -23.46 -29.86 -23.4 -29.86 -23.34 -29.86 -23.27 -29.85 -23.21 -29.85 -23.15 -29.85 -23.08 -29.85 -23.02 -29.85 -22.96 -29.85 -22.89 -29.85 -22.83 -29.85 -22.77 -29.85 -22.7 -29.85 -22.64 -29.85 -22.58 -29.85 -22.51 -29.85 -22.45 -29.85 -22.39 -29.85 -22.32 -29.85 -22.26 -29.85 -22.2 -29.85 -22.13 -29.85 -22.07 -29.85 -22.01 -29.85 -21.94 -29.85 -21.88 -29.85 -21.82 -29.85 -21.75 -29.84 -21.69 -29.84 -21.63 -29.84 -21.56 -29.84 -21.5 -29.84 -21.44 -29.84 -21.37 -29.84 -21.31 -29.84 -21.25 -29.84 -21.18 -29.83 -21.12 -29.83 -21.06 -29.83 -20.99 -29.83 -20.93 -29.82 -20.87 -29.82 -20.8 -29.82 -20.74 -29.81 -20.68 -29.81 -20.61 -29.8 -20.55 -29.8 -20.49 -29.79 -20.42 -29.78 -20.36 -29.77 -20.3 -29.76 -20.23 -29.75 -20.17 -29.73 -20.11 -29.71 -20.04 -29.69 -19.98 -29.66 -19.92 -29.61 -19.85 -29.56 -19.79 -29.48 -19.73 -29.37 -19.66 -29.22 -19.6 -28.98 -19.54 -28.59 -19.47 -27.94 -19.41 -26.77 -19.35 -24.68 -19.28 -21.39 -19.22 -17.75 -19.16 -15.32 -19.09 -14.21 -19.03 -13.79 -18.97 -13.64 -18.9 -13.59 -18.84 -13.58 -18.78 -13.57 -18.71 -13.58 -18.65 -13.58 -18.59 -13.59 -18.52 -13.59 -18.46 -13.6 -18.4 -13.61 -18.33 -13.61 -18.27 -13.62 -18.21 -13.63 -18.14 -13.63 -18.08 -13.64 -18.02 -13.65 -17.95 -13.66 -17.89 -13.67 -17.83 -13.68 -17.76 -13.69 -17.7 -13.69 -17.64 -13.7 -17.57 -13.71 -17.51 -13.72 -17.45 -13.74 -17.38 -13.75 -17.32 -13.76 -17.26 -13.77 -17.19 -13.78 -17.13 -13.79 -17.07 -13.81 -17 -13.82 -16.94 -13.83 -16.88 -13.84 -16.81 -13.86 -16.75 -13.87 -16.69 -13.89 -16.62 -13.9 -16.56 -13.92 -16.5 -13.93 -16.43 -13.95 -16.37 -13.96 -16.31 -13.98 -16.24 -14 -16.18 -14.01 -16.12 -14.03 -16.05 -14.05 -15.99 -14.07 -15.93 -14.09 -15.86 -14.11 -15.8 -14.12 -15.74 -14.14 -15.67 -14.16 -15.61 -14.18 -15.55 -14.21 -15.48 -14.23 -15.42 -14.25 -15.36 -14.27 -15.29 -14.29 -15.23 -14.32 -15.17 -14.34 -15.1 -14.36 -15.04 -14.39 -14.98 -14.41 -14.91 -14.44 -14.85 -14.46 -14.79 -14.49 -14.72 -14.52 -14.66 -14.54 -14.6 -14.57 -14.53 -14.6 -14.47 -14.63 -14.41 -14.66 -14.34 -14.69 -14.28 -14.72 -14.22 -14.75 -14.15 -14.78 -14.09 -14.81 -14.03 -14.84 -13.96 -14.88 -13.9 -14.91 -13.84 -14.94 -13.77 -14.98 -13.71 -15.01 -13.65 -15.05 -13.58 -15.09 -13.52 -15.12 -13.46 -15.16 -13.39 -15.2 -13.33 -15.24 -13.27 -15.27 -13.2 -15.31 -13.14 -15.36 -13.08 -15.4 -13.01 -15.44 -12.95 -15.48 -12.89 -15.52 -12.82 -15.57 -12.76 -15.61 -12.7 -15.66 -12.63 -15.7 -12.57 -15.75 -12.51 -15.8 -12.44 -15.85 -12.38 -15.89 -12.32 -15.94 -12.25 -15.99 -12.19 -16.05 -12.13 -16.1 -12.06 -16.15 -12 -16.2 -11.94 -16.26 -11.87 -16.31 -11.81 -16.37 -11.75 -16.43 -11.68 -16.48 -11.62 -16.54 -11.56 -16.6 -11.49 -16.66 -11.43 -16.72 -11.37 -16.79 -11.3 -16.85 -11.24 -16.91 -11.18 -16.98 -11.11 -17.04 -11.05 -17.11 -10.99 -17.18 -10.92 -17.25 -10.86 -17.32 -10.8 -17.39 -10.73 -17.46 -10.67 -17.54 -10.61 -17.61 -10.54 -17.69 -10.48 -17.76 -10.42 -17.84 -10.35 -17.92 -10.29 -18 -10.23 -18.08 -10.16 -18.17 -10.1 -18.25 -10.04 -18.33 -9.97 -18.42 -9.91 -18.51 -9.85 -18.6 -9.78 -18.69 -9.72 -18.78 -9.66 -18.87 -9.59 -18.97 -9.53 -19.06 -9.47 -19.16 -9.4 -19.26 -9.34 -19.36 -9.28 -19.46 -9.21 -19.57 -9.15 -19.67 -9.09 -19.78 -9.02 -19.89 -8.96 -20 -8.9 -20.11 -8.83 -20.22 -8.77 -20.34 -8.71 -20.45 -8.64 -20.57 -8.58 -20.69 -8.52 -20.82 -8.45 -20.94 -8.39 -21.06 -8.33 -21.19 -8.26 -21.32 -8.2 -21.45 -8.14 -21.58 -8.07 -21.7 -8.01 -21.83 -7.95 -21.96 -7.88 -22.09 -7.82 -22.21 -7.76 -22.33 -7.69 -22.43 -7.63 -22.53 -7.57 -22.62 -7.5 -22.69 -7.44 -22.73 -7.38 -22.74 -7.31 -22.71 -7.25 -22.61 -7.19 -22.43 -7.12 -22.13 -7.06 -21.63 -7 -20.78 -6.93 -19.29 -6.87 -16.33 -6.81 -9.72 -6.74 0.09 -6.68 5.85 -6.62 8.49 -6.55 9.79 -6.49 10.51 -6.43 10.94 -6.36 11.22 -6.3 11.4 -6.24 11.53 -6.17 11.63 -6.11 11.7 -6.05 11.76 -5.98 11.8 -5.92 11.84 -5.86 11.86 -5.79 11.89 -5.73 11.91 -5.67 11.92 -5.6 11.94 -5.54 11.95 -5.48 11.96 -5.41 11.97 -5.35 11.98 -5.29 11.98 -5.22 11.99 -5.16 11.99 -5.1 12 -5.03 12 -4.97 12.01 -4.91 12.01 -4.84 12.01 -4.78 12.02 -4.72 12.02 -4.65 12.02 -4.59 12.02 -4.53 12.03 -4.46 12.03 -4.4 12.03 -4.34 12.03 -4.27 12.03 -4.21 12.03 -4.15 12.04 -4.08 12.04 -4.02 12.04 -3.96 12.04 -3.89 12.04 -3.83 12.04 -3.77 12.04 -3.7 12.04 -3.64 12.04 -3.58 12.04 -3.51 12.04 -3.45 12.04 -3.39 12.05 -3.32 12.05 -3.26 12.05 -3.2 12.05 -3.13 12.05 -3.07 12.05 -3.01 12.05 -2.94 12.05 -2.88 12.05 -2.82 12.05 -2.75 12.05 -2.69 12.05 -2.63 12.05 -2.56 12.05 -2.5 12.05 -2.44 12.05 -2.37 12.05 -2.31 12.05 -2.25 12.05 -2.18 12.05 -2.12 12.05 -2.06 12.05 -1.99 12.05 -1.93 12.05 -1.87 12.05 -1.8 12.05 -1.74 12.05 -1.68 12.05 -1.61 12.06 -1.55 12.06 -1.49 12.06 -1.42 12.06 -1.36 12.06 -1.3 12.06 -1.23 12.06 -1.17 12.06 -1.11 12.06 -1.04 12.06 -0.98 12.06 -0.92 12.06 -0.85 12.06 -0.79 12.06 -0.73 12.06 -0.66 12.06 -0.6 12.06 -0.54 12.06 -0.47 12.06 -0.41 12.06 -0.35 12.06 -0.28 12.06 -0.22 12.06 -0.16 12.06 -0.09 12.06 -0.03 12.06 0.03 12.06 0.09 12.06 0.16 12.06 0.22 12.06 0.28 12.06 0.35 12.06 0.41 12.06 0.47 12.06 0.54 12.06 0.6 12.06 0.66 12.06 0.73 12.06 0.79 12.06 0.85 12.06 0.92 12.06 0.98 12.06 1.04 12.06 1.11 12.06 1.17 12.06 1.23 12.06 1.3 12.06 1.36 12.06 1.42 12.06 1.49 12.06 1.55 12.06 1.61 12.06 1.68 12.06 1.74 12.06 1.8 12.06 1.87 12.06 1.93 12.06 1.99 12.06 2.06 12.06 2.12 12.06 2.18 12.06 2.25 12.06 2.31 12.06 2.37 12.06 2.44 12.06 2.5 12.06 2.56 12.06 2.63 12.06 2.69 12.06 2.75 12.06 2.82 12.06 2.88 12.06 2.94 12.06 3.01 12.06 3.07 12.06 3.13 12.06 3.2 12.06 3.26 12.06 3.32 12.06 3.39 12.06 3.45 12.06 3.51 12.06 3.58 12.06 3.64 12.06 3.7 12.06 3.77 12.06 3.83 12.06 3.89 12.06 3.96 12.06 4.02 12.06 4.08 12.06 4.15 12.06 4.21 12.06 4.27 12.06 4.34 12.06 4.4 12.06 4.46 12.06 4.53 12.06 4.59 12.06 4.65 12.06 4.72 12.06 4.78 12.06 4.84 12.06 4.91 12.06 4.97 12.06 5.03 12.06 5.1 12.06 5.16 12.06 5.22 12.06 5.29 12.06 5.35 12.06 5.41 12.06 5.48 12.06 5.54 12.06 5.6 12.06 5.67 12.06 5.73 12.06 5.79 12.06 5.86 12.06 5.92 12.06 5.98 12.06 6.05 12.06 6.11 12.06 6.17 12.06 6.24 12.06 6.3 12.06 6.36 12.06 6.43 12.06 6.49 12.06 6.55 12.06 6.62 12.06 6.68 12.06 6.74 12.06 6.81 12.06 6.87 12.06 6.93 12.06 7 12.06 7.06 12.06 7.12 12.06 7.19 12.06 7.25 12.06 7.31 12.06 7.38 12.06 7.44 12.06 7.5 12.06 7.57 12.06 7.63 12.06 7.69 12.06 7.76 12.06 7.82 12.06 7.88 12.06 7.95 12.06 8.01 12.06 8.07 12.06 8.14 12.06 8.2 12.06 8.26 12.06 8.33 12.06 8.39 12.06 8.45 12.06 8.52 12.06 8.58 12.06 8.64 12.06 8.71 12.06 8.77 12.06 8.83 12.06 8.9 12.06 8.96 12.06 9.02 12.06 9.09 12.06 9.15 12.06 9.21 12.06 9.28 12.06 9.34 12.06 9.4 12.06 9.47 12.06 9.53 12.06 9.59 12.06 9.66 12.06 9.72 12.06 9.78 12.06 9.85 12.06 9.91 12.06 9.97 12.06 10.04 12.06 10.1 12.06 10.16 12.06 10.23 12.06 10.29 12.06 10.35 12.06 10.42 12.06 10.48 12.06 10.54 12.06 10.61 12.06 10.67 12.06 10.73 12.06 10.8 12.06 10.86 12.06 10.92 12.06 10.99 12.06 11.05 12.06 11.11 12.06 11.18 12.06 11.24 12.06 11.3 12.06 11.37 12.06 11.43 12.06 11.49 12.06 11.56 12.06 11.62 12.06 11.68 12.06 11.75 12.06 11.81 12.06 11.87 12.06 11.94 12.06 12 12.06 12.06 12.06 12.13 12.06 12.19 12.06 12.25 12.06 12.32 12.06 12.38 12.06 12.44 12.06 12.51 12.06 12.57 12.06 12.63 12.06 12.7 12.06 12.76 12.06 12.82 12.06 12.89 12.06 12.95 12.06 13.01 12.06 13.08 12.06 13.14 12.06 13.2 12.06 13.27 12.06 13.33 12.06 13.39 12.06 13.46 12.06 13.52 12.06 13.58 12.06 13.65 12.06 13.71 12.06 13.77 12.06 13.84 12.06 13.9 12.06 13.96 12.06 14.03 12.06 14.09 12.06 14.15 12.06 14.22 12.06 14.28 12.06 14.34 12.06 14.41 12.06 14.47 12.06 14.53 12.06 14.6 12.06 14.66 12.06 14.72 12.06 14.79 12.06 14.85 12.06 14.91 12.06 14.98 12.06 15.04 12.06 15.1 12.06 15.17 12.06 15.23 12.06 15.29 12.06 15.36 12.06 15.42 12.06 15.48 12.06 15.55 12.06 15.61 12.06 15.67 12.06 15.74 12.06 15.8 12.06 15.86 12.06 15.93 12.06 15.99 12.06 16.05 12.06 16.12 12.06 16.18 12.06 16.24 12.06 16.31 12.06 16.37 12.06 16.43 12.06 16.5 12.06 16.56 12.06 16.62 12.06 16.69 12.06 16.75 12.06 16.81 12.06 16.88 12.06 16.94 12.06 17 12.06 17.07 12.06 17.13 12.06 17.19 12.06 17.26 12.06 17.32 12.06 17.38 12.06 17.45 12.06 17.51 12.06 17.57 12.06 17.64 12.06 17.7 12.06 17.76 12.06 17.83 12.06 17.89 12.06 17.95 12.06 18.02 12.06 18.08 12.06 18.14 12.06 18.21 12.06 18.27 12.06 18.33 12.06 18.4 12.06 18.46 12.06 18.52 12.06 18.59 12.06 18.65 12.06 18.71 12.06 18.78 12.06 18.84 12.06 18.9 12.06 18.97 12.06 19.03 12.06 19.09 12.06 19.16 12.06 19.22 12.06 19.28 12.06 19.35 12.06 19.41 12.06 19.47 12.06 19.54 12.06 19.6 12.06 19.66 12.06 19.73 12.06 19.79 12.06 19.85 12.06 19.92 12.06 19.98 12.06 20.04 12.06 20.11 12.06 20.17 12.06 20.23 12.06 20.3 12.06 20.36 12.06 20.42 12.06 20.49 12.06 20.55 12.06 20.61 12.06 20.68 12.06 20.74 12.06 20.8 12.06 20.87 12.06 20.93 12.06 20.99 12.06 21.06 12.06 21.12 12.06 21.18 12.06 21.25 12.06 21.31 12.06 21.37 12.06 21.44 12.06 21.5 12.06 21.56 12.06 21.63 12.06 21.69 12.06 21.75 12.06 21.82 12.06 21.88 12.06 21.94 12.06 22.01 12.06 22.07 12.06 22.13 12.06 22.2 12.06 22.26 12.06 22.32 12.06 22.39 12.06 22.45 12.06 22.51 12.06 22.58 12.06 22.64 12.06 22.7 12.06 22.77 12.06 22.83 12.06 22.89 12.06 22.96 12.06 23.02 12.06 23.08 12.06 23.15 12.06 23.21 12.06 23.27 12.06 23.34 12.06 23.4 12.06 23.46 12.06 23.53 12.06 23.59 12.06 23.65 12.06 23.72 12.06 23.78 12.06 23.84 12.06 23.91 12.06 23.97 12.06 24.03 12.06 24.1 12.06 24.16 12.06 24.22 12.06 24.29 12.06 24.35 12.06 24.41 12.06 24.48 12.06 24.54 12.06 24.6 12.06 24.67 12.06 24.73 12.06 24.79 12.06 24.86 12.06 24.92 12.06 24.98 12.06 25.05 12.06 25.11 12.06 25.17 12.06 25.24 12.05 25.3 12.04\" class=\"primitive\"/>\n",
       "            </g>\n",
       "          </g>\n",
       "        </g>\n",
       "      </g>\n",
       "    </g>\n",
       "  </g>\n",
       "  <g class=\"guide ylabels\" font-size=\"2.82\" font-family=\"'PT Sans Caption','Helvetica Neue','Helvetica',sans-serif\" fill=\"#6C606B\" id=\"img-357ab52a-24\">\n",
       "    <g transform=\"translate(91.48,131.11)\" id=\"img-357ab52a-25\">\n",
       "      <g class=\"primitive\">\n",
       "        <text text-anchor=\"end\" dy=\"0.35em\">0</text>\n",
       "      </g>\n",
       "    </g>\n",
       "    <g transform=\"translate(91.48,119.14)\" id=\"img-357ab52a-26\">\n",
       "      <g class=\"primitive\">\n",
       "        <text text-anchor=\"end\" dy=\"0.35em\">1</text>\n",
       "      </g>\n",
       "    </g>\n",
       "    <g transform=\"translate(91.48,107.16)\" id=\"img-357ab52a-27\">\n",
       "      <g class=\"primitive\">\n",
       "        <text text-anchor=\"end\" dy=\"0.35em\">2</text>\n",
       "      </g>\n",
       "    </g>\n",
       "    <g transform=\"translate(91.48,95.18)\" id=\"img-357ab52a-28\">\n",
       "      <g class=\"primitive\">\n",
       "        <text text-anchor=\"end\" dy=\"0.35em\">3</text>\n",
       "      </g>\n",
       "    </g>\n",
       "    <g transform=\"translate(91.48,83.2)\" id=\"img-357ab52a-29\">\n",
       "      <g class=\"primitive\">\n",
       "        <text text-anchor=\"end\" dy=\"0.35em\">4</text>\n",
       "      </g>\n",
       "    </g>\n",
       "  </g>\n",
       "  <g font-size=\"3.88\" font-family=\"'PT Sans','Helvetica Neue','Helvetica',sans-serif\" fill=\"#564A55\" stroke=\"#000000\" stroke-opacity=\"0.000\" id=\"img-357ab52a-30\">\n",
       "    <g transform=\"translate(85.01,105.16)\" id=\"img-357ab52a-31\">\n",
       "      <g class=\"primitive\">\n",
       "        <text text-anchor=\"middle\" dy=\"0.35em\" transform=\"rotate(-90,0, 2)\">Thrust</text>\n",
       "      </g>\n",
       "    </g>\n",
       "  </g>\n",
       "</g>\n",
       "<g class=\"plotroot xscalable yscalable\" id=\"img-357ab52a-32\">\n",
       "  <g font-size=\"3.88\" font-family=\"'PT Sans','Helvetica Neue','Helvetica',sans-serif\" fill=\"#564A55\" stroke=\"#000000\" stroke-opacity=\"0.000\" id=\"img-357ab52a-33\">\n",
       "    <g transform=\"translate(45.75,140.79)\" id=\"img-357ab52a-34\">\n",
       "      <g class=\"primitive\">\n",
       "        <text text-anchor=\"middle\" dy=\"0.6em\">Time (s)</text>\n",
       "      </g>\n",
       "    </g>\n",
       "  </g>\n",
       "  <g class=\"guide xlabels\" font-size=\"2.82\" font-family=\"'PT Sans Caption','Helvetica Neue','Helvetica',sans-serif\" fill=\"#6C606B\" id=\"img-357ab52a-35\">\n",
       "    <g transform=\"translate(22.3,134.11)\" id=\"img-357ab52a-36\">\n",
       "      <g class=\"primitive\">\n",
       "        <text text-anchor=\"middle\" dy=\"0.6em\">0.00</text>\n",
       "      </g>\n",
       "    </g>\n",
       "    <g transform=\"translate(34.03,134.11)\" id=\"img-357ab52a-37\">\n",
       "      <g class=\"primitive\">\n",
       "        <text text-anchor=\"middle\" dy=\"0.6em\">0.05</text>\n",
       "      </g>\n",
       "    </g>\n",
       "    <g transform=\"translate(45.75,134.11)\" id=\"img-357ab52a-38\">\n",
       "      <g class=\"primitive\">\n",
       "        <text text-anchor=\"middle\" dy=\"0.6em\">0.10</text>\n",
       "      </g>\n",
       "    </g>\n",
       "    <g transform=\"translate(57.48,134.11)\" id=\"img-357ab52a-39\">\n",
       "      <g class=\"primitive\">\n",
       "        <text text-anchor=\"middle\" dy=\"0.6em\">0.15</text>\n",
       "      </g>\n",
       "    </g>\n",
       "    <g transform=\"translate(69.2,134.11)\" id=\"img-357ab52a-40\">\n",
       "      <g class=\"primitive\">\n",
       "        <text text-anchor=\"middle\" dy=\"0.6em\">0.20</text>\n",
       "      </g>\n",
       "    </g>\n",
       "  </g>\n",
       "  <g clip-path=\"url(#img-357ab52a-41)\">\n",
       "    <g id=\"img-357ab52a-42\">\n",
       "      <g pointer-events=\"visible\" stroke-width=\"0.3\" fill=\"#000000\" fill-opacity=\"0.000\" stroke=\"#000000\" stroke-opacity=\"0.000\" class=\"guide background\" id=\"img-357ab52a-43\">\n",
       "        <g transform=\"translate(45.75,107.16)\" id=\"img-357ab52a-44\">\n",
       "          <path d=\"M-25.45,-25.96 L 25.45 -25.96 25.45 25.96 -25.45 25.96 z\" class=\"primitive\"/>\n",
       "        </g>\n",
       "      </g>\n",
       "      <g class=\"guide ygridlines xfixed\" stroke-dasharray=\"0.5,0.5\" stroke-width=\"0.2\" stroke=\"#D0D0E0\" id=\"img-357ab52a-45\">\n",
       "        <g transform=\"translate(45.75,131.11)\" id=\"img-357ab52a-46\">\n",
       "          <path fill=\"none\" d=\"M-25.45,0 L 25.45 0\" class=\"primitive\"/>\n",
       "        </g>\n",
       "        <g transform=\"translate(45.75,115.14)\" id=\"img-357ab52a-47\">\n",
       "          <path fill=\"none\" d=\"M-25.45,0 L 25.45 0\" class=\"primitive\"/>\n",
       "        </g>\n",
       "        <g transform=\"translate(45.75,99.17)\" id=\"img-357ab52a-48\">\n",
       "          <path fill=\"none\" d=\"M-25.45,0 L 25.45 0\" class=\"primitive\"/>\n",
       "        </g>\n",
       "        <g transform=\"translate(45.75,83.2)\" id=\"img-357ab52a-49\">\n",
       "          <path fill=\"none\" d=\"M-25.45,0 L 25.45 0\" class=\"primitive\"/>\n",
       "        </g>\n",
       "      </g>\n",
       "      <g class=\"guide xgridlines yfixed\" stroke-dasharray=\"0.5,0.5\" stroke-width=\"0.2\" stroke=\"#D0D0E0\" id=\"img-357ab52a-50\">\n",
       "        <g transform=\"translate(22.3,107.16)\" id=\"img-357ab52a-51\">\n",
       "          <path fill=\"none\" d=\"M0,-25.96 L 0 25.96\" class=\"primitive\"/>\n",
       "        </g>\n",
       "        <g transform=\"translate(34.03,107.16)\" id=\"img-357ab52a-52\">\n",
       "          <path fill=\"none\" d=\"M0,-25.96 L 0 25.96\" class=\"primitive\"/>\n",
       "        </g>\n",
       "        <g transform=\"translate(45.75,107.16)\" id=\"img-357ab52a-53\">\n",
       "          <path fill=\"none\" d=\"M0,-25.96 L 0 25.96\" class=\"primitive\"/>\n",
       "        </g>\n",
       "        <g transform=\"translate(57.48,107.16)\" id=\"img-357ab52a-54\">\n",
       "          <path fill=\"none\" d=\"M0,-25.96 L 0 25.96\" class=\"primitive\"/>\n",
       "        </g>\n",
       "        <g transform=\"translate(69.2,107.16)\" id=\"img-357ab52a-55\">\n",
       "          <path fill=\"none\" d=\"M0,-25.96 L 0 25.96\" class=\"primitive\"/>\n",
       "        </g>\n",
       "      </g>\n",
       "      <g class=\"plotpanel\" id=\"img-357ab52a-56\">\n",
       "        <metadata>\n",
       "          <boundingbox value=\"20.305mm 81.19999999999999mm 50.89499999999999mm 51.91499999999999mm\"/>\n",
       "          <unitbox value=\"-0.008529693997227852 0.15626108734216845 0.2170593879944557 -0.16252217468433688\"/>\n",
       "        </metadata>\n",
       "        <g stroke-width=\"0.3\" fill=\"#000000\" fill-opacity=\"0.000\" class=\"geometry\" id=\"img-357ab52a-57\">\n",
       "          <g class=\"color_LCHab{Float32}(70.0f0,60.0f0,240.0f0)\" stroke-dasharray=\"none\" stroke=\"#00BFFF\" id=\"img-357ab52a-58\">\n",
       "            <g transform=\"translate(45.67,110.51)\" id=\"img-357ab52a-59\">\n",
       "              <path fill=\"none\" d=\"M-23.3,20.6 L -23.24 20.4 -23.19 20.2 -23.13 20 -23.07 19.8 -23.01 19.6 -22.95 19.4 -22.89 19.2 -22.84 19 -22.78 18.8 -22.72 18.59 -22.66 18.39 -22.6 18.19 -22.54 17.98 -22.49 17.78 -22.43 17.58 -22.37 17.37 -22.31 17.17 -22.25 16.96 -22.19 16.76 -22.14 16.56 -22.08 16.35 -22.02 16.15 -21.96 15.94 -21.9 15.74 -21.84 15.53 -21.79 15.33 -21.73 15.12 -21.67 14.92 -21.61 14.71 -21.55 14.51 -21.49 14.3 -21.44 14.1 -21.38 13.89 -21.32 13.69 -21.26 13.48 -21.2 13.28 -21.14 13.08 -21.09 12.87 -21.03 12.67 -20.97 12.46 -20.91 12.26 -20.85 12.06 -20.79 11.86 -20.74 11.65 -20.68 11.45 -20.62 11.25 -20.56 11.05 -20.5 10.85 -20.44 10.65 -20.39 10.45 -20.33 10.24 -20.27 10.05 -20.21 9.85 -20.15 9.65 -20.09 9.45 -20.04 9.25 -19.98 9.05 -19.92 8.85 -19.86 8.66 -19.8 8.46 -19.74 8.26 -19.69 8.07 -19.63 7.87 -19.57 7.68 -19.51 7.48 -19.45 7.29 -19.39 7.09 -19.34 6.9 -19.28 6.71 -19.22 6.52 -19.16 6.32 -19.1 6.13 -19.04 5.94 -18.99 5.75 -18.93 5.56 -18.87 5.37 -18.81 5.18 -18.75 5 -18.69 4.81 -18.64 4.62 -18.58 4.43 -18.52 4.25 -18.46 4.06 -18.4 3.88 -18.34 3.69 -18.29 3.51 -18.23 3.32 -18.17 3.14 -18.11 2.96 -18.05 2.78 -17.99 2.61 -17.94 2.44 -17.88 2.27 -17.82 2.12 -17.76 1.99 -17.7 1.89 -17.64 1.82 -17.59 1.75 -17.53 1.69 -17.47 1.64 -17.41 1.58 -17.35 1.53 -17.29 1.47 -17.24 1.42 -17.18 1.36 -17.12 1.3 -17.06 1.25 -17 1.19 -16.94 1.13 -16.89 1.07 -16.83 1.02 -16.77 0.96 -16.71 0.9 -16.65 0.84 -16.59 0.78 -16.54 0.72 -16.48 0.66 -16.42 0.6 -16.36 0.54 -16.3 0.48 -16.24 0.41 -16.19 0.35 -16.13 0.29 -16.07 0.23 -16.01 0.16 -15.95 0.1 -15.89 0.03 -15.84 -0.03 -15.78 -0.1 -15.72 -0.16 -15.66 -0.23 -15.6 -0.29 -15.54 -0.36 -15.49 -0.43 -15.43 -0.5 -15.37 -0.56 -15.31 -0.63 -15.25 -0.7 -15.19 -0.77 -15.14 -0.84 -15.08 -0.91 -15.02 -0.98 -14.96 -1.05 -14.9 -1.13 -14.84 -1.2 -14.79 -1.27 -14.73 -1.35 -14.67 -1.42 -14.61 -1.49 -14.55 -1.57 -14.49 -1.64 -14.44 -1.72 -14.38 -1.8 -14.32 -1.87 -14.26 -1.95 -14.2 -2.03 -14.14 -2.11 -14.09 -2.19 -14.03 -2.27 -13.97 -2.35 -13.91 -2.43 -13.85 -2.51 -13.79 -2.59 -13.74 -2.67 -13.68 -2.76 -13.62 -2.84 -13.56 -2.93 -13.5 -3.01 -13.44 -3.1 -13.39 -3.18 -13.33 -3.27 -13.27 -3.36 -13.21 -3.44 -13.15 -3.53 -13.09 -3.62 -13.04 -3.71 -12.98 -3.8 -12.92 -3.9 -12.86 -3.99 -12.8 -4.08 -12.74 -4.17 -12.69 -4.27 -12.63 -4.36 -12.57 -4.46 -12.51 -4.56 -12.45 -4.65 -12.39 -4.75 -12.34 -4.85 -12.28 -4.95 -12.22 -5.05 -12.16 -5.15 -12.1 -5.25 -12.04 -5.36 -11.99 -5.46 -11.93 -5.56 -11.87 -5.67 -11.81 -5.77 -11.75 -5.88 -11.69 -5.99 -11.64 -6.1 -11.58 -6.21 -11.52 -6.32 -11.46 -6.43 -11.4 -6.54 -11.34 -6.65 -11.29 -6.77 -11.23 -6.88 -11.17 -7 -11.11 -7.12 -11.05 -7.23 -10.99 -7.35 -10.94 -7.47 -10.88 -7.59 -10.82 -7.72 -10.76 -7.84 -10.7 -7.96 -10.64 -8.09 -10.59 -8.21 -10.53 -8.34 -10.47 -8.47 -10.41 -8.6 -10.35 -8.73 -10.29 -8.86 -10.24 -8.99 -10.18 -9.13 -10.12 -9.26 -10.06 -9.4 -10 -9.54 -9.94 -9.68 -9.89 -9.82 -9.83 -9.96 -9.77 -10.1 -9.71 -10.25 -9.65 -10.39 -9.59 -10.54 -9.54 -10.69 -9.48 -10.84 -9.42 -10.99 -9.36 -11.14 -9.3 -11.29 -9.24 -11.45 -9.19 -11.6 -9.13 -11.76 -9.07 -11.92 -9.01 -12.08 -8.95 -12.25 -8.89 -12.41 -8.84 -12.58 -8.78 -12.75 -8.72 -12.91 -8.66 -13.09 -8.6 -13.26 -8.54 -13.43 -8.49 -13.61 -8.43 -13.79 -8.37 -13.97 -8.31 -14.15 -8.25 -14.33 -8.19 -14.52 -8.14 -14.7 -8.08 -14.89 -8.02 -15.08 -7.96 -15.28 -7.9 -15.47 -7.85 -15.67 -7.79 -15.87 -7.73 -16.07 -7.67 -16.27 -7.61 -16.48 -7.55 -16.69 -7.5 -16.9 -7.44 -17.11 -7.38 -17.32 -7.32 -17.54 -7.26 -17.76 -7.2 -17.98 -7.15 -18.2 -7.09 -18.43 -7.03 -18.65 -6.97 -18.88 -6.91 -19.11 -6.85 -19.35 -6.8 -19.58 -6.74 -19.82 -6.68 -20.05 -6.62 -20.29 -6.56 -20.52 -6.5 -20.75 -6.45 -20.97 -6.39 -21.18 -6.33 -21.37 -6.27 -21.51 -6.21 -21.56 -6.15 -21.52 -6.1 -21.43 -6.04 -21.33 -5.98 -21.22 -5.92 -21.1 -5.86 -20.98 -5.8 -20.85 -5.75 -20.73 -5.69 -20.61 -5.63 -20.48 -5.57 -20.36 -5.51 -20.24 -5.45 -20.12 -5.4 -20 -5.34 -19.87 -5.28 -19.75 -5.22 -19.64 -5.16 -19.52 -5.1 -19.4 -5.05 -19.28 -4.99 -19.17 -4.93 -19.05 -4.87 -18.94 -4.81 -18.82 -4.75 -18.71 -4.7 -18.6 -4.64 -18.48 -4.58 -18.37 -4.52 -18.26 -4.46 -18.15 -4.4 -18.04 -4.35 -17.93 -4.29 -17.83 -4.23 -17.72 -4.17 -17.61 -4.11 -17.51 -4.05 -17.4 -4 -17.29 -3.94 -17.19 -3.88 -17.09 -3.82 -16.98 -3.76 -16.88 -3.7 -16.78 -3.65 -16.67 -3.59 -16.57 -3.53 -16.47 -3.47 -16.37 -3.41 -16.27 -3.35 -16.17 -3.3 -16.07 -3.24 -15.97 -3.18 -15.87 -3.12 -15.77 -3.06 -15.68 -3 -15.58 -2.95 -15.48 -2.89 -15.38 -2.83 -15.29 -2.77 -15.19 -2.71 -15.1 -2.65 -15 -2.6 -14.9 -2.54 -14.81 -2.48 -14.72 -2.42 -14.62 -2.36 -14.53 -2.3 -14.43 -2.25 -14.34 -2.19 -14.25 -2.13 -14.15 -2.07 -14.06 -2.01 -13.97 -1.95 -13.88 -1.9 -13.79 -1.84 -13.69 -1.78 -13.6 -1.72 -13.51 -1.66 -13.42 -1.6 -13.33 -1.55 -13.24 -1.49 -13.15 -1.43 -13.06 -1.37 -12.97 -1.31 -12.88 -1.25 -12.79 -1.2 -12.7 -1.14 -12.62 -1.08 -12.53 -1.02 -12.44 -0.96 -12.35 -0.9 -12.26 -0.85 -12.17 -0.79 -12.09 -0.73 -12 -0.67 -11.91 -0.61 -11.82 -0.55 -11.74 -0.5 -11.65 -0.44 -11.56 -0.38 -11.48 -0.32 -11.39 -0.26 -11.3 -0.2 -11.22 -0.15 -11.13 -0.09 -11.05 -0.03 -10.96 0.03 -10.88 0.09 -10.79 0.15 -10.7 0.2 -10.62 0.26 -10.53 0.32 -10.45 0.38 -10.37 0.44 -10.28 0.5 -10.2 0.55 -10.11 0.61 -10.03 0.67 -9.94 0.73 -9.86 0.79 -9.77 0.85 -9.69 0.9 -9.61 0.96 -9.52 1.02 -9.44 1.08 -9.36 1.14 -9.27 1.2 -9.19 1.25 -9.11 1.31 -9.02 1.37 -8.94 1.43 -8.86 1.49 -8.77 1.55 -8.69 1.6 -8.61 1.66 -8.53 1.72 -8.44 1.78 -8.36 1.84 -8.28 1.9 -8.2 1.95 -8.11 2.01 -8.03 2.07 -7.95 2.13 -7.87 2.19 -7.79 2.25 -7.7 2.3 -7.62 2.36 -7.54 2.42 -7.46 2.48 -7.38 2.54 -7.3 2.6 -7.21 2.65 -7.13 2.71 -7.05 2.77 -6.97 2.83 -6.89 2.89 -6.81 2.95 -6.73 3 -6.65 3.06 -6.57 3.12 -6.48 3.18 -6.4 3.24 -6.32 3.3 -6.24 3.35 -6.16 3.41 -6.08 3.47 -6 3.53 -5.92 3.59 -5.84 3.65 -5.76 3.7 -5.68 3.76 -5.6 3.82 -5.52 3.88 -5.44 3.94 -5.36 4 -5.28 4.05 -5.2 4.11 -5.11 4.17 -5.03 4.23 -4.95 4.29 -4.87 4.35 -4.79 4.4 -4.71 4.46 -4.63 4.52 -4.55 4.58 -4.47 4.64 -4.39 4.7 -4.32 4.75 -4.24 4.81 -4.16 4.87 -4.08 4.93 -4 4.99 -3.92 5.05 -3.84 5.1 -3.76 5.16 -3.68 5.22 -3.6 5.28 -3.52 5.34 -3.44 5.4 -3.36 5.45 -3.28 5.51 -3.2 5.57 -3.12 5.63 -3.04 5.69 -2.96 5.75 -2.88 5.8 -2.8 5.86 -2.72 5.92 -2.65 5.98 -2.57 6.04 -2.49 6.1 -2.41 6.15 -2.33 6.21 -2.25 6.27 -2.17 6.33 -2.09 6.39 -2.01 6.45 -1.93 6.5 -1.85 6.56 -1.78 6.62 -1.7 6.68 -1.62 6.74 -1.54 6.8 -1.46 6.85 -1.38 6.91 -1.3 6.97 -1.22 7.03 -1.14 7.09 -1.07 7.15 -0.99 7.2 -0.91 7.26 -0.83 7.32 -0.75 7.38 -0.67 7.44 -0.59 7.5 -0.51 7.55 -0.44 7.61 -0.36 7.67 -0.28 7.73 -0.2 7.79 -0.12 7.85 -0.04 7.9 0.04 7.96 0.11 8.02 0.19 8.08 0.27 8.14 0.35 8.19 0.43 8.25 0.51 8.31 0.58 8.37 0.66 8.43 0.74 8.49 0.82 8.54 0.9 8.6 0.98 8.66 1.06 8.72 1.13 8.78 1.21 8.84 1.29 8.89 1.37 8.95 1.45 9.01 1.53 9.07 1.6 9.13 1.68 9.19 1.76 9.24 1.84 9.3 1.92 9.36 2 9.42 2.07 9.48 2.15 9.54 2.23 9.59 2.31 9.65 2.39 9.71 2.46 9.77 2.54 9.83 2.62 9.89 2.7 9.94 2.78 10 2.86 10.06 2.93 10.12 3.01 10.18 3.09 10.24 3.17 10.29 3.25 10.35 3.32 10.41 3.4 10.47 3.48 10.53 3.56 10.59 3.64 10.64 3.71 10.7 3.79 10.76 3.87 10.82 3.95 10.88 4.03 10.94 4.1 10.99 4.18 11.05 4.26 11.11 4.34 11.17 4.42 11.23 4.49 11.29 4.57 11.34 4.65 11.4 4.73 11.46 4.81 11.52 4.88 11.58 4.96 11.64 5.04 11.69 5.12 11.75 5.2 11.81 5.27 11.87 5.35 11.93 5.43 11.99 5.51 12.04 5.59 12.1 5.66 12.16 5.74 12.22 5.82 12.28 5.9 12.34 5.97 12.39 6.05 12.45 6.13 12.51 6.21 12.57 6.29 12.63 6.36 12.69 6.44 12.74 6.52 12.8 6.6 12.86 6.67 12.92 6.75 12.98 6.83 13.04 6.91 13.09 6.99 13.15 7.06 13.21 7.14 13.27 7.22 13.33 7.3 13.39 7.37 13.44 7.45 13.5 7.53 13.56 7.61 13.62 7.69 13.68 7.76 13.74 7.84 13.79 7.92 13.85 8 13.91 8.07 13.97 8.15 14.03 8.23 14.09 8.31 14.14 8.39 14.2 8.46 14.26 8.54 14.32 8.62 14.38 8.7 14.44 8.77 14.49 8.85 14.55 8.93 14.61 9.01 14.67 9.08 14.73 9.16 14.79 9.24 14.84 9.32 14.9 9.39 14.96 9.47 15.02 9.55 15.08 9.63 15.14 9.71 15.19 9.78 15.25 9.86 15.31 9.94 15.37 10.02 15.43 10.09 15.49 10.17 15.54 10.25 15.6 10.33 15.66 10.4 15.72 10.48 15.78 10.56 15.84 10.64 15.89 10.71 15.95 10.79 16.01 10.87 16.07 10.95 16.13 11.02 16.19 11.1 16.24 11.18 16.3 11.26 16.36 11.34 16.42 11.41 16.48 11.49 16.54 11.57 16.59 11.65 16.65 11.72 16.71 11.8 16.77 11.88 16.83 11.96 16.89 12.03 16.94 12.11 17 12.19 17.06 12.27 17.12 12.34 17.18 12.42 17.24 12.5 17.29 12.58 17.35 12.65 17.41 12.73 17.47 12.81 17.53 12.89 17.59 12.96 17.64 13.04 17.7 13.12 17.76 13.2 17.82 13.27 17.88 13.35 17.94 13.43 17.99 13.51 18.05 13.58 18.11 13.66 18.17 13.74 18.23 13.82 18.29 13.89 18.34 13.97 18.4 14.05 18.46 14.13 18.52 14.2 18.58 14.28 18.64 14.36 18.69 14.44 18.75 14.51 18.81 14.59 18.87 14.67 18.93 14.75 18.99 14.82 19.04 14.9 19.1 14.98 19.16 15.06 19.22 15.13 19.28 15.21 19.34 15.29 19.39 15.37 19.45 15.44 19.51 15.52 19.57 15.6 19.63 15.68 19.69 15.75 19.74 15.83 19.8 15.91 19.86 15.99 19.92 16.06 19.98 16.14 20.04 16.22 20.09 16.3 20.15 16.37 20.21 16.45 20.27 16.53 20.33 16.61 20.39 16.68 20.44 16.76 20.5 16.84 20.56 16.92 20.62 16.99 20.68 17.07 20.74 17.15 20.79 17.23 20.85 17.3 20.91 17.38 20.97 17.46 21.03 17.54 21.09 17.61 21.14 17.69 21.2 17.77 21.26 17.85 21.32 17.92 21.38 18 21.44 18.08 21.49 18.15 21.55 18.23 21.61 18.31 21.67 18.39 21.73 18.46 21.79 18.54 21.84 18.62 21.9 18.7 21.96 18.77 22.02 18.85 22.08 18.93 22.14 19.01 22.19 19.08 22.25 19.16 22.31 19.24 22.37 19.32 22.43 19.39 22.49 19.47 22.54 19.55 22.6 19.63 22.66 19.7 22.72 19.78 22.78 19.86 22.84 19.94 22.89 20.01 22.95 20.09 23.01 20.17 23.07 20.25 23.13 20.32 23.19 20.4 23.24 20.48 23.3 20.55\" class=\"primitive\"/>\n",
       "            </g>\n",
       "          </g>\n",
       "        </g>\n",
       "      </g>\n",
       "    </g>\n",
       "  </g>\n",
       "  <g class=\"guide ylabels\" font-size=\"2.82\" font-family=\"'PT Sans Caption','Helvetica Neue','Helvetica',sans-serif\" fill=\"#6C606B\" id=\"img-357ab52a-60\">\n",
       "    <g transform=\"translate(19.3,131.11)\" id=\"img-357ab52a-61\">\n",
       "      <g class=\"primitive\">\n",
       "        <text text-anchor=\"end\" dy=\"0.35em\">0.00</text>\n",
       "      </g>\n",
       "    </g>\n",
       "    <g transform=\"translate(19.3,115.14)\" id=\"img-357ab52a-62\">\n",
       "      <g class=\"primitive\">\n",
       "        <text text-anchor=\"end\" dy=\"0.35em\">0.05</text>\n",
       "      </g>\n",
       "    </g>\n",
       "    <g transform=\"translate(19.3,99.17)\" id=\"img-357ab52a-63\">\n",
       "      <g class=\"primitive\">\n",
       "        <text text-anchor=\"end\" dy=\"0.35em\">0.10</text>\n",
       "      </g>\n",
       "    </g>\n",
       "    <g transform=\"translate(19.3,83.2)\" id=\"img-357ab52a-64\">\n",
       "      <g class=\"primitive\">\n",
       "        <text text-anchor=\"end\" dy=\"0.35em\">0.15</text>\n",
       "      </g>\n",
       "    </g>\n",
       "  </g>\n",
       "  <g font-size=\"3.88\" font-family=\"'PT Sans','Helvetica Neue','Helvetica',sans-serif\" fill=\"#564A55\" stroke=\"#000000\" stroke-opacity=\"0.000\" id=\"img-357ab52a-65\">\n",
       "    <g transform=\"translate(8.81,105.16)\" id=\"img-357ab52a-66\">\n",
       "      <g class=\"primitive\">\n",
       "        <text text-anchor=\"middle\" dy=\"0.35em\" transform=\"rotate(-90,0, 2)\">Velocity</text>\n",
       "      </g>\n",
       "    </g>\n",
       "  </g>\n",
       "</g>\n",
       "<g class=\"plotroot xscalable yscalable\" id=\"img-357ab52a-67\">\n",
       "  <g font-size=\"3.88\" font-family=\"'PT Sans','Helvetica Neue','Helvetica',sans-serif\" fill=\"#564A55\" stroke=\"#000000\" stroke-opacity=\"0.000\" id=\"img-357ab52a-68\">\n",
       "    <g transform=\"translate(121.12,64.59)\" id=\"img-357ab52a-69\">\n",
       "      <g class=\"primitive\">\n",
       "        <text text-anchor=\"middle\" dy=\"0.6em\">Time (s)</text>\n",
       "      </g>\n",
       "    </g>\n",
       "  </g>\n",
       "  <g class=\"guide xlabels\" font-size=\"2.82\" font-family=\"'PT Sans Caption','Helvetica Neue','Helvetica',sans-serif\" fill=\"#6C606B\" id=\"img-357ab52a-70\">\n",
       "    <g transform=\"translate(96.83,57.91)\" id=\"img-357ab52a-71\">\n",
       "      <g class=\"primitive\">\n",
       "        <text text-anchor=\"middle\" dy=\"0.6em\">0.00</text>\n",
       "      </g>\n",
       "    </g>\n",
       "    <g transform=\"translate(108.97,57.91)\" id=\"img-357ab52a-72\">\n",
       "      <g class=\"primitive\">\n",
       "        <text text-anchor=\"middle\" dy=\"0.6em\">0.05</text>\n",
       "      </g>\n",
       "    </g>\n",
       "    <g transform=\"translate(121.12,57.91)\" id=\"img-357ab52a-73\">\n",
       "      <g class=\"primitive\">\n",
       "        <text text-anchor=\"middle\" dy=\"0.6em\">0.10</text>\n",
       "      </g>\n",
       "    </g>\n",
       "    <g transform=\"translate(133.26,57.91)\" id=\"img-357ab52a-74\">\n",
       "      <g class=\"primitive\">\n",
       "        <text text-anchor=\"middle\" dy=\"0.6em\">0.15</text>\n",
       "      </g>\n",
       "    </g>\n",
       "    <g transform=\"translate(145.4,57.91)\" id=\"img-357ab52a-75\">\n",
       "      <g class=\"primitive\">\n",
       "        <text text-anchor=\"middle\" dy=\"0.6em\">0.20</text>\n",
       "      </g>\n",
       "    </g>\n",
       "  </g>\n",
       "  <g clip-path=\"url(#img-357ab52a-76)\">\n",
       "    <g id=\"img-357ab52a-77\">\n",
       "      <g pointer-events=\"visible\" stroke-width=\"0.3\" fill=\"#000000\" fill-opacity=\"0.000\" stroke=\"#000000\" stroke-opacity=\"0.000\" class=\"guide background\" id=\"img-357ab52a-78\">\n",
       "        <g transform=\"translate(121.12,30.96)\" id=\"img-357ab52a-79\">\n",
       "          <path d=\"M-26.28,-25.96 L 26.28 -25.96 26.28 25.96 -26.28 25.96 z\" class=\"primitive\"/>\n",
       "        </g>\n",
       "      </g>\n",
       "      <g class=\"guide ygridlines xfixed\" stroke-dasharray=\"0.5,0.5\" stroke-width=\"0.2\" stroke=\"#D0D0E0\" id=\"img-357ab52a-80\">\n",
       "        <g transform=\"translate(121.12,54.91)\" id=\"img-357ab52a-81\">\n",
       "          <path fill=\"none\" d=\"M-26.28,0 L 26.28 0\" class=\"primitive\"/>\n",
       "        </g>\n",
       "        <g transform=\"translate(121.12,45.33)\" id=\"img-357ab52a-82\">\n",
       "          <path fill=\"none\" d=\"M-26.28,0 L 26.28 0\" class=\"primitive\"/>\n",
       "        </g>\n",
       "        <g transform=\"translate(121.12,35.75)\" id=\"img-357ab52a-83\">\n",
       "          <path fill=\"none\" d=\"M-26.28,0 L 26.28 0\" class=\"primitive\"/>\n",
       "        </g>\n",
       "        <g transform=\"translate(121.12,26.17)\" id=\"img-357ab52a-84\">\n",
       "          <path fill=\"none\" d=\"M-26.28,0 L 26.28 0\" class=\"primitive\"/>\n",
       "        </g>\n",
       "        <g transform=\"translate(121.12,16.58)\" id=\"img-357ab52a-85\">\n",
       "          <path fill=\"none\" d=\"M-26.28,0 L 26.28 0\" class=\"primitive\"/>\n",
       "        </g>\n",
       "        <g transform=\"translate(121.12,7)\" id=\"img-357ab52a-86\">\n",
       "          <path fill=\"none\" d=\"M-26.28,0 L 26.28 0\" class=\"primitive\"/>\n",
       "        </g>\n",
       "      </g>\n",
       "      <g class=\"guide xgridlines yfixed\" stroke-dasharray=\"0.5,0.5\" stroke-width=\"0.2\" stroke=\"#D0D0E0\" id=\"img-357ab52a-87\">\n",
       "        <g transform=\"translate(96.83,30.96)\" id=\"img-357ab52a-88\">\n",
       "          <path fill=\"none\" d=\"M0,-25.96 L 0 25.96\" class=\"primitive\"/>\n",
       "        </g>\n",
       "        <g transform=\"translate(108.97,30.96)\" id=\"img-357ab52a-89\">\n",
       "          <path fill=\"none\" d=\"M0,-25.96 L 0 25.96\" class=\"primitive\"/>\n",
       "        </g>\n",
       "        <g transform=\"translate(121.12,30.96)\" id=\"img-357ab52a-90\">\n",
       "          <path fill=\"none\" d=\"M0,-25.96 L 0 25.96\" class=\"primitive\"/>\n",
       "        </g>\n",
       "        <g transform=\"translate(133.26,30.96)\" id=\"img-357ab52a-91\">\n",
       "          <path fill=\"none\" d=\"M0,-25.96 L 0 25.96\" class=\"primitive\"/>\n",
       "        </g>\n",
       "        <g transform=\"translate(145.4,30.96)\" id=\"img-357ab52a-92\">\n",
       "          <path fill=\"none\" d=\"M0,-25.96 L 0 25.96\" class=\"primitive\"/>\n",
       "        </g>\n",
       "      </g>\n",
       "      <g class=\"plotpanel\" id=\"img-357ab52a-93\">\n",
       "        <metadata>\n",
       "          <boundingbox value=\"94.83166666666665mm 5.0mm 52.56833333333332mm 51.91499999999999mm\"/>\n",
       "          <unitbox value=\"-0.008235818949246769 1.0208702911405614 0.21647163789849355 -0.5417405822811229\"/>\n",
       "        </metadata>\n",
       "        <g stroke-width=\"0.3\" fill=\"#000000\" fill-opacity=\"0.000\" class=\"geometry\" id=\"img-357ab52a-94\">\n",
       "          <g class=\"color_LCHab{Float32}(70.0f0,60.0f0,240.0f0)\" stroke-dasharray=\"none\" stroke=\"#00BFFF\" id=\"img-357ab52a-95\">\n",
       "            <g transform=\"translate(121.03,38.75)\" id=\"img-357ab52a-96\">\n",
       "              <path fill=\"none\" d=\"M-24.13,-31.75 L -24.07 -31.59 -24.01 -31.42 -23.95 -31.25 -23.89 -31.09 -23.83 -30.92 -23.77 -30.75 -23.71 -30.59 -23.65 -30.42 -23.59 -30.25 -23.53 -30.09 -23.47 -29.92 -23.41 -29.75 -23.35 -29.59 -23.29 -29.42 -23.23 -29.25 -23.17 -29.08 -23.11 -28.92 -23.05 -28.75 -22.99 -28.58 -22.92 -28.42 -22.86 -28.25 -22.8 -28.08 -22.74 -27.92 -22.68 -27.75 -22.62 -27.58 -22.56 -27.42 -22.5 -27.25 -22.44 -27.08 -22.38 -26.92 -22.32 -26.75 -22.26 -26.58 -22.2 -26.42 -22.14 -26.25 -22.08 -26.08 -22.02 -25.91 -21.96 -25.75 -21.9 -25.58 -21.84 -25.41 -21.78 -25.25 -21.72 -25.08 -21.66 -24.91 -21.6 -24.75 -21.54 -24.58 -21.48 -24.41 -21.41 -24.25 -21.35 -24.08 -21.29 -23.91 -21.23 -23.75 -21.17 -23.58 -21.11 -23.41 -21.05 -23.25 -20.99 -23.08 -20.93 -22.91 -20.87 -22.74 -20.81 -22.58 -20.75 -22.41 -20.69 -22.24 -20.63 -22.08 -20.57 -21.91 -20.51 -21.74 -20.45 -21.58 -20.39 -21.41 -20.33 -21.24 -20.27 -21.08 -20.21 -20.91 -20.15 -20.74 -20.09 -20.58 -20.03 -20.41 -19.96 -20.24 -19.9 -20.08 -19.84 -19.91 -19.78 -19.74 -19.72 -19.58 -19.66 -19.41 -19.6 -19.24 -19.54 -19.08 -19.48 -18.91 -19.42 -18.74 -19.36 -18.58 -19.3 -18.41 -19.24 -18.24 -19.18 -18.08 -19.12 -17.91 -19.06 -17.75 -19 -17.58 -18.94 -17.41 -18.88 -17.25 -18.82 -17.08 -18.76 -16.92 -18.7 -16.75 -18.64 -16.59 -18.58 -16.43 -18.52 -16.27 -18.45 -16.12 -18.39 -15.98 -18.33 -15.86 -18.27 -15.74 -18.21 -15.64 -18.15 -15.53 -18.09 -15.43 -18.03 -15.33 -17.97 -15.23 -17.91 -15.13 -17.85 -15.02 -17.79 -14.92 -17.73 -14.82 -17.67 -14.72 -17.61 -14.61 -17.55 -14.51 -17.49 -14.41 -17.43 -14.31 -17.37 -14.21 -17.31 -14.1 -17.25 -14 -17.19 -13.9 -17.13 -13.8 -17.07 -13.69 -17 -13.59 -16.94 -13.49 -16.88 -13.39 -16.82 -13.28 -16.76 -13.18 -16.7 -13.08 -16.64 -12.98 -16.58 -12.87 -16.52 -12.77 -16.46 -12.67 -16.4 -12.57 -16.34 -12.46 -16.28 -12.36 -16.22 -12.26 -16.16 -12.15 -16.1 -12.05 -16.04 -11.95 -15.98 -11.84 -15.92 -11.74 -15.86 -11.64 -15.8 -11.53 -15.74 -11.43 -15.68 -11.33 -15.62 -11.22 -15.56 -11.12 -15.49 -11.02 -15.43 -10.91 -15.37 -10.81 -15.31 -10.7 -15.25 -10.6 -15.19 -10.5 -15.13 -10.39 -15.07 -10.29 -15.01 -10.18 -14.95 -10.08 -14.89 -9.98 -14.83 -9.87 -14.77 -9.77 -14.71 -9.66 -14.65 -9.56 -14.59 -9.45 -14.53 -9.35 -14.47 -9.24 -14.41 -9.14 -14.35 -9.03 -14.29 -8.93 -14.23 -8.82 -14.17 -8.72 -14.11 -8.61 -14.04 -8.5 -13.98 -8.4 -13.92 -8.29 -13.86 -8.19 -13.8 -8.08 -13.74 -7.97 -13.68 -7.87 -13.62 -7.76 -13.56 -7.65 -13.5 -7.55 -13.44 -7.44 -13.38 -7.33 -13.32 -7.23 -13.26 -7.12 -13.2 -7.01 -13.14 -6.9 -13.08 -6.8 -13.02 -6.69 -12.96 -6.58 -12.9 -6.47 -12.84 -6.36 -12.78 -6.26 -12.72 -6.15 -12.66 -6.04 -12.6 -5.93 -12.53 -5.82 -12.47 -5.71 -12.41 -5.6 -12.35 -5.49 -12.29 -5.38 -12.23 -5.27 -12.17 -5.16 -12.11 -5.05 -12.05 -4.94 -11.99 -4.83 -11.93 -4.72 -11.87 -4.61 -11.81 -4.5 -11.75 -4.39 -11.69 -4.28 -11.63 -4.16 -11.57 -4.05 -11.51 -3.94 -11.45 -3.83 -11.39 -3.71 -11.33 -3.6 -11.27 -3.49 -11.21 -3.37 -11.15 -3.26 -11.08 -3.15 -11.02 -3.03 -10.96 -2.92 -10.9 -2.8 -10.84 -2.69 -10.78 -2.58 -10.72 -2.46 -10.66 -2.34 -10.6 -2.23 -10.54 -2.11 -10.48 -2 -10.42 -1.88 -10.36 -1.76 -10.3 -1.65 -10.24 -1.53 -10.18 -1.41 -10.12 -1.29 -10.06 -1.17 -10 -1.06 -9.94 -0.94 -9.88 -0.82 -9.82 -0.7 -9.76 -0.58 -9.7 -0.46 -9.64 -0.34 -9.57 -0.22 -9.51 -0.1 -9.45 0.03 -9.39 0.15 -9.33 0.27 -9.27 0.39 -9.21 0.51 -9.15 0.64 -9.09 0.76 -9.03 0.89 -8.97 1.01 -8.91 1.14 -8.85 1.26 -8.79 1.39 -8.73 1.51 -8.67 1.64 -8.61 1.77 -8.55 1.89 -8.49 2.02 -8.43 2.15 -8.37 2.28 -8.31 2.41 -8.25 2.54 -8.19 2.67 -8.12 2.8 -8.06 2.93 -8 3.06 -7.94 3.19 -7.88 3.33 -7.82 3.46 -7.76 3.59 -7.7 3.73 -7.64 3.86 -7.58 4 -7.52 4.13 -7.46 4.27 -7.4 4.4 -7.34 4.54 -7.28 4.68 -7.22 4.82 -7.16 4.96 -7.1 5.09 -7.04 5.23 -6.98 5.37 -6.92 5.51 -6.86 5.65 -6.8 5.78 -6.74 5.92 -6.68 6.05 -6.61 6.18 -6.55 6.3 -6.49 6.4 -6.43 6.46 -6.37 6.5 -6.31 6.52 -6.25 6.53 -6.19 6.54 -6.13 6.54 -6.07 6.55 -6.01 6.55 -5.95 6.55 -5.89 6.56 -5.83 6.56 -5.77 6.56 -5.71 6.56 -5.65 6.56 -5.59 6.56 -5.53 6.56 -5.47 6.56 -5.41 6.56 -5.35 6.56 -5.29 6.56 -5.23 6.57 -5.16 6.57 -5.1 6.57 -5.04 6.57 -4.98 6.57 -4.92 6.57 -4.86 6.57 -4.8 6.57 -4.74 6.57 -4.68 6.57 -4.62 6.57 -4.56 6.57 -4.5 6.57 -4.44 6.57 -4.38 6.57 -4.32 6.57 -4.26 6.57 -4.2 6.57 -4.14 6.57 -4.08 6.57 -4.02 6.57 -3.96 6.57 -3.9 6.57 -3.84 6.57 -3.78 6.57 -3.72 6.57 -3.65 6.57 -3.59 6.57 -3.53 6.57 -3.47 6.57 -3.41 6.57 -3.35 6.57 -3.29 6.57 -3.23 6.57 -3.17 6.57 -3.11 6.57 -3.05 6.57 -2.99 6.57 -2.93 6.57 -2.87 6.57 -2.81 6.57 -2.75 6.57 -2.69 6.57 -2.63 6.57 -2.57 6.57 -2.51 6.57 -2.45 6.57 -2.39 6.57 -2.33 6.57 -2.27 6.57 -2.2 6.57 -2.14 6.57 -2.08 6.57 -2.02 6.57 -1.96 6.57 -1.9 6.57 -1.84 6.57 -1.78 6.57 -1.72 6.57 -1.66 6.57 -1.6 6.57 -1.54 6.57 -1.48 6.57 -1.42 6.57 -1.36 6.57 -1.3 6.57 -1.24 6.57 -1.18 6.57 -1.12 6.57 -1.06 6.57 -1 6.57 -0.94 6.57 -0.88 6.57 -0.82 6.57 -0.76 6.57 -0.69 6.57 -0.63 6.57 -0.57 6.57 -0.51 6.57 -0.45 6.57 -0.39 6.57 -0.33 6.57 -0.27 6.57 -0.21 6.57 -0.15 6.57 -0.09 6.57 -0.03 6.57 0.03 6.57 0.09 6.57 0.15 6.57 0.21 6.57 0.27 6.57 0.33 6.57 0.39 6.57 0.45 6.57 0.51 6.57 0.57 6.57 0.63 6.57 0.69 6.57 0.76 6.57 0.82 6.57 0.88 6.57 0.94 6.57 1 6.57 1.06 6.57 1.12 6.57 1.18 6.57 1.24 6.57 1.3 6.57 1.36 6.57 1.42 6.57 1.48 6.57 1.54 6.57 1.6 6.57 1.66 6.57 1.72 6.57 1.78 6.57 1.84 6.57 1.9 6.57 1.96 6.57 2.02 6.57 2.08 6.57 2.14 6.57 2.2 6.57 2.27 6.57 2.33 6.57 2.39 6.57 2.45 6.57 2.51 6.57 2.57 6.57 2.63 6.57 2.69 6.57 2.75 6.57 2.81 6.57 2.87 6.57 2.93 6.57 2.99 6.57 3.05 6.57 3.11 6.57 3.17 6.57 3.23 6.57 3.29 6.57 3.35 6.57 3.41 6.57 3.47 6.57 3.53 6.57 3.59 6.57 3.65 6.57 3.72 6.57 3.78 6.57 3.84 6.57 3.9 6.57 3.96 6.57 4.02 6.57 4.08 6.57 4.14 6.57 4.2 6.57 4.26 6.57 4.32 6.57 4.38 6.57 4.44 6.57 4.5 6.57 4.56 6.57 4.62 6.57 4.68 6.57 4.74 6.57 4.8 6.57 4.86 6.57 4.92 6.57 4.98 6.57 5.04 6.57 5.1 6.57 5.16 6.57 5.23 6.57 5.29 6.57 5.35 6.57 5.41 6.57 5.47 6.57 5.53 6.57 5.59 6.57 5.65 6.57 5.71 6.57 5.77 6.57 5.83 6.57 5.89 6.57 5.95 6.57 6.01 6.57 6.07 6.57 6.13 6.57 6.19 6.57 6.25 6.57 6.31 6.57 6.37 6.57 6.43 6.57 6.49 6.57 6.55 6.57 6.61 6.57 6.68 6.57 6.74 6.57 6.8 6.58 6.86 6.58 6.92 6.58 6.98 6.58 7.04 6.58 7.1 6.58 7.16 6.58 7.22 6.58 7.28 6.58 7.34 6.58 7.4 6.58 7.46 6.58 7.52 6.58 7.58 6.58 7.64 6.58 7.7 6.58 7.76 6.58 7.82 6.58 7.88 6.58 7.94 6.58 8 6.58 8.06 6.58 8.12 6.58 8.19 6.58 8.25 6.58 8.31 6.58 8.37 6.58 8.43 6.58 8.49 6.58 8.55 6.58 8.61 6.58 8.67 6.58 8.73 6.58 8.79 6.58 8.85 6.58 8.91 6.58 8.97 6.58 9.03 6.58 9.09 6.58 9.15 6.58 9.21 6.58 9.27 6.58 9.33 6.58 9.39 6.58 9.45 6.58 9.51 6.58 9.57 6.58 9.64 6.58 9.7 6.58 9.76 6.58 9.82 6.58 9.88 6.58 9.94 6.58 10 6.58 10.06 6.58 10.12 6.58 10.18 6.58 10.24 6.58 10.3 6.58 10.36 6.58 10.42 6.58 10.48 6.58 10.54 6.58 10.6 6.58 10.66 6.58 10.72 6.58 10.78 6.58 10.84 6.58 10.9 6.58 10.96 6.58 11.02 6.58 11.08 6.58 11.15 6.58 11.21 6.58 11.27 6.58 11.33 6.58 11.39 6.58 11.45 6.58 11.51 6.58 11.57 6.58 11.63 6.58 11.69 6.58 11.75 6.58 11.81 6.58 11.87 6.58 11.93 6.58 11.99 6.58 12.05 6.58 12.11 6.58 12.17 6.58 12.23 6.58 12.29 6.58 12.35 6.58 12.41 6.58 12.47 6.58 12.53 6.58 12.6 6.58 12.66 6.58 12.72 6.58 12.78 6.58 12.84 6.58 12.9 6.58 12.96 6.58 13.02 6.58 13.08 6.58 13.14 6.58 13.2 6.58 13.26 6.58 13.32 6.58 13.38 6.58 13.44 6.58 13.5 6.58 13.56 6.58 13.62 6.58 13.68 6.58 13.74 6.58 13.8 6.58 13.86 6.58 13.92 6.58 13.98 6.58 14.04 6.58 14.11 6.58 14.17 6.58 14.23 6.58 14.29 6.58 14.35 6.58 14.41 6.58 14.47 6.58 14.53 6.58 14.59 6.58 14.65 6.58 14.71 6.58 14.77 6.58 14.83 6.58 14.89 6.58 14.95 6.58 15.01 6.58 15.07 6.58 15.13 6.58 15.19 6.58 15.25 6.58 15.31 6.58 15.37 6.58 15.43 6.58 15.49 6.58 15.56 6.58 15.62 6.58 15.68 6.58 15.74 6.58 15.8 6.58 15.86 6.58 15.92 6.58 15.98 6.58 16.04 6.58 16.1 6.58 16.16 6.58 16.22 6.58 16.28 6.58 16.34 6.58 16.4 6.58 16.46 6.58 16.52 6.58 16.58 6.58 16.64 6.58 16.7 6.58 16.76 6.58 16.82 6.58 16.88 6.58 16.94 6.58 17 6.58 17.07 6.58 17.13 6.58 17.19 6.58 17.25 6.58 17.31 6.58 17.37 6.58 17.43 6.58 17.49 6.58 17.55 6.58 17.61 6.58 17.67 6.58 17.73 6.58 17.79 6.58 17.85 6.58 17.91 6.58 17.97 6.58 18.03 6.58 18.09 6.58 18.15 6.58 18.21 6.58 18.27 6.58 18.33 6.58 18.39 6.58 18.45 6.58 18.52 6.58 18.58 6.58 18.64 6.58 18.7 6.58 18.76 6.58 18.82 6.58 18.88 6.58 18.94 6.58 19 6.58 19.06 6.58 19.12 6.58 19.18 6.58 19.24 6.58 19.3 6.58 19.36 6.58 19.42 6.58 19.48 6.58 19.54 6.58 19.6 6.58 19.66 6.58 19.72 6.58 19.78 6.58 19.84 6.58 19.9 6.58 19.96 6.58 20.03 6.58 20.09 6.58 20.15 6.58 20.21 6.58 20.27 6.58 20.33 6.58 20.39 6.58 20.45 6.58 20.51 6.58 20.57 6.58 20.63 6.58 20.69 6.58 20.75 6.58 20.81 6.58 20.87 6.58 20.93 6.58 20.99 6.58 21.05 6.58 21.11 6.58 21.17 6.58 21.23 6.58 21.29 6.58 21.35 6.58 21.41 6.58 21.48 6.58 21.54 6.58 21.6 6.58 21.66 6.58 21.72 6.58 21.78 6.58 21.84 6.58 21.9 6.58 21.96 6.58 22.02 6.58 22.08 6.58 22.14 6.58 22.2 6.58 22.26 6.58 22.32 6.58 22.38 6.58 22.44 6.58 22.5 6.58 22.56 6.58 22.62 6.58 22.68 6.58 22.74 6.58 22.8 6.58 22.86 6.58 22.92 6.58 22.99 6.58 23.05 6.58 23.11 6.58 23.17 6.58 23.23 6.58 23.29 6.58 23.35 6.58 23.41 6.58 23.47 6.58 23.53 6.58 23.59 6.58 23.65 6.58 23.71 6.58 23.77 6.58 23.83 6.58 23.89 6.58 23.95 6.58 24.01 6.58 24.07 6.58 24.13 6.58\" class=\"primitive\"/>\n",
       "            </g>\n",
       "          </g>\n",
       "        </g>\n",
       "      </g>\n",
       "    </g>\n",
       "  </g>\n",
       "  <g class=\"guide ylabels\" font-size=\"2.82\" font-family=\"'PT Sans Caption','Helvetica Neue','Helvetica',sans-serif\" fill=\"#6C606B\" id=\"img-357ab52a-97\">\n",
       "    <g transform=\"translate(93.83,54.91)\" id=\"img-357ab52a-98\">\n",
       "      <g class=\"primitive\">\n",
       "        <text text-anchor=\"end\" dy=\"0.35em\">0.5</text>\n",
       "      </g>\n",
       "    </g>\n",
       "    <g transform=\"translate(93.83,45.33)\" id=\"img-357ab52a-99\">\n",
       "      <g class=\"primitive\">\n",
       "        <text text-anchor=\"end\" dy=\"0.35em\">0.6</text>\n",
       "      </g>\n",
       "    </g>\n",
       "    <g transform=\"translate(93.83,35.75)\" id=\"img-357ab52a-100\">\n",
       "      <g class=\"primitive\">\n",
       "        <text text-anchor=\"end\" dy=\"0.35em\">0.7</text>\n",
       "      </g>\n",
       "    </g>\n",
       "    <g transform=\"translate(93.83,26.17)\" id=\"img-357ab52a-101\">\n",
       "      <g class=\"primitive\">\n",
       "        <text text-anchor=\"end\" dy=\"0.35em\">0.8</text>\n",
       "      </g>\n",
       "    </g>\n",
       "    <g transform=\"translate(93.83,16.58)\" id=\"img-357ab52a-102\">\n",
       "      <g class=\"primitive\">\n",
       "        <text text-anchor=\"end\" dy=\"0.35em\">0.9</text>\n",
       "      </g>\n",
       "    </g>\n",
       "    <g transform=\"translate(93.83,7)\" id=\"img-357ab52a-103\">\n",
       "      <g class=\"primitive\">\n",
       "        <text text-anchor=\"end\" dy=\"0.35em\">1.0</text>\n",
       "      </g>\n",
       "    </g>\n",
       "  </g>\n",
       "  <g font-size=\"3.88\" font-family=\"'PT Sans','Helvetica Neue','Helvetica',sans-serif\" fill=\"#564A55\" stroke=\"#000000\" stroke-opacity=\"0.000\" id=\"img-357ab52a-104\">\n",
       "    <g transform=\"translate(85.01,28.96)\" id=\"img-357ab52a-105\">\n",
       "      <g class=\"primitive\">\n",
       "        <text text-anchor=\"middle\" dy=\"0.35em\" transform=\"rotate(-90,0, 2)\">Mass</text>\n",
       "      </g>\n",
       "    </g>\n",
       "  </g>\n",
       "</g>\n",
       "<g class=\"plotroot xscalable yscalable\" id=\"img-357ab52a-106\">\n",
       "  <g font-size=\"3.88\" font-family=\"'PT Sans','Helvetica Neue','Helvetica',sans-serif\" fill=\"#564A55\" stroke=\"#000000\" stroke-opacity=\"0.000\" id=\"img-357ab52a-107\">\n",
       "    <g transform=\"translate(46.59,64.59)\" id=\"img-357ab52a-108\">\n",
       "      <g class=\"primitive\">\n",
       "        <text text-anchor=\"middle\" dy=\"0.6em\">Time (s)</text>\n",
       "      </g>\n",
       "    </g>\n",
       "  </g>\n",
       "  <g class=\"guide xlabels\" font-size=\"2.82\" font-family=\"'PT Sans Caption','Helvetica Neue','Helvetica',sans-serif\" fill=\"#6C606B\" id=\"img-357ab52a-109\">\n",
       "    <g transform=\"translate(23.98,57.91)\" id=\"img-357ab52a-110\">\n",
       "      <g class=\"primitive\">\n",
       "        <text text-anchor=\"middle\" dy=\"0.6em\">0.00</text>\n",
       "      </g>\n",
       "    </g>\n",
       "    <g transform=\"translate(35.28,57.91)\" id=\"img-357ab52a-111\">\n",
       "      <g class=\"primitive\">\n",
       "        <text text-anchor=\"middle\" dy=\"0.6em\">0.05</text>\n",
       "      </g>\n",
       "    </g>\n",
       "    <g transform=\"translate(46.59,57.91)\" id=\"img-357ab52a-112\">\n",
       "      <g class=\"primitive\">\n",
       "        <text text-anchor=\"middle\" dy=\"0.6em\">0.10</text>\n",
       "      </g>\n",
       "    </g>\n",
       "    <g transform=\"translate(57.89,57.91)\" id=\"img-357ab52a-113\">\n",
       "      <g class=\"primitive\">\n",
       "        <text text-anchor=\"middle\" dy=\"0.6em\">0.15</text>\n",
       "      </g>\n",
       "    </g>\n",
       "    <g transform=\"translate(69.2,57.91)\" id=\"img-357ab52a-114\">\n",
       "      <g class=\"primitive\">\n",
       "        <text text-anchor=\"middle\" dy=\"0.6em\">0.20</text>\n",
       "      </g>\n",
       "    </g>\n",
       "  </g>\n",
       "  <g clip-path=\"url(#img-357ab52a-115)\">\n",
       "    <g id=\"img-357ab52a-116\">\n",
       "      <g pointer-events=\"visible\" stroke-width=\"0.3\" fill=\"#000000\" fill-opacity=\"0.000\" stroke=\"#000000\" stroke-opacity=\"0.000\" class=\"guide background\" id=\"img-357ab52a-117\">\n",
       "        <g transform=\"translate(46.59,30.96)\" id=\"img-357ab52a-118\">\n",
       "          <path d=\"M-24.61,-25.96 L 24.61 -25.96 24.61 25.96 -24.61 25.96 z\" class=\"primitive\"/>\n",
       "        </g>\n",
       "      </g>\n",
       "      <g class=\"guide ygridlines xfixed\" stroke-dasharray=\"0.5,0.5\" stroke-width=\"0.2\" stroke=\"#D0D0E0\" id=\"img-357ab52a-119\">\n",
       "        <g transform=\"translate(46.59,54.91)\" id=\"img-357ab52a-120\">\n",
       "          <path fill=\"none\" d=\"M-24.61,0 L 24.61 0\" class=\"primitive\"/>\n",
       "        </g>\n",
       "        <g transform=\"translate(46.59,38.94)\" id=\"img-357ab52a-121\">\n",
       "          <path fill=\"none\" d=\"M-24.61,0 L 24.61 0\" class=\"primitive\"/>\n",
       "        </g>\n",
       "        <g transform=\"translate(46.59,22.97)\" id=\"img-357ab52a-122\">\n",
       "          <path fill=\"none\" d=\"M-24.61,0 L 24.61 0\" class=\"primitive\"/>\n",
       "        </g>\n",
       "        <g transform=\"translate(46.59,7)\" id=\"img-357ab52a-123\">\n",
       "          <path fill=\"none\" d=\"M-24.61,0 L 24.61 0\" class=\"primitive\"/>\n",
       "        </g>\n",
       "      </g>\n",
       "      <g class=\"guide xgridlines yfixed\" stroke-dasharray=\"0.5,0.5\" stroke-width=\"0.2\" stroke=\"#D0D0E0\" id=\"img-357ab52a-124\">\n",
       "        <g transform=\"translate(23.98,30.96)\" id=\"img-357ab52a-125\">\n",
       "          <path fill=\"none\" d=\"M0,-25.96 L 0 25.96\" class=\"primitive\"/>\n",
       "        </g>\n",
       "        <g transform=\"translate(35.28,30.96)\" id=\"img-357ab52a-126\">\n",
       "          <path fill=\"none\" d=\"M0,-25.96 L 0 25.96\" class=\"primitive\"/>\n",
       "        </g>\n",
       "        <g transform=\"translate(46.59,30.96)\" id=\"img-357ab52a-127\">\n",
       "          <path fill=\"none\" d=\"M0,-25.96 L 0 25.96\" class=\"primitive\"/>\n",
       "        </g>\n",
       "        <g transform=\"translate(57.89,30.96)\" id=\"img-357ab52a-128\">\n",
       "          <path fill=\"none\" d=\"M0,-25.96 L 0 25.96\" class=\"primitive\"/>\n",
       "        </g>\n",
       "        <g transform=\"translate(69.2,30.96)\" id=\"img-357ab52a-129\">\n",
       "          <path fill=\"none\" d=\"M0,-25.96 L 0 25.96\" class=\"primitive\"/>\n",
       "        </g>\n",
       "      </g>\n",
       "      <g class=\"plotpanel\" id=\"img-357ab52a-130\">\n",
       "        <metadata>\n",
       "          <boundingbox value=\"21.97833333333333mm 5.0mm 49.22166666666666mm 51.91499999999999mm\"/>\n",
       "          <unitbox value=\"-0.008845317510043122 1.0156261087342169 0.21769063502008623 -0.016252217468433822\"/>\n",
       "        </metadata>\n",
       "        <g stroke-width=\"0.3\" fill=\"#000000\" fill-opacity=\"0.000\" class=\"geometry\" id=\"img-357ab52a-131\">\n",
       "          <g class=\"color_LCHab{Float32}(70.0f0,60.0f0,240.0f0)\" stroke-dasharray=\"none\" stroke=\"#00BFFF\" id=\"img-357ab52a-132\">\n",
       "            <g transform=\"translate(46.5,32.12)\" id=\"img-357ab52a-133\">\n",
       "              <path fill=\"none\" d=\"M-22.47,22.8 L -22.41 22.8 -22.36 22.8 -22.3 22.8 -22.25 22.79 -22.19 22.79 -22.13 22.79 -22.08 22.79 -22.02 22.78 -21.96 22.78 -21.91 22.77 -21.85 22.77 -21.8 22.76 -21.74 22.76 -21.68 22.75 -21.63 22.74 -21.57 22.73 -21.51 22.73 -21.46 22.72 -21.4 22.71 -21.35 22.7 -21.29 22.69 -21.23 22.68 -21.18 22.66 -21.12 22.65 -21.06 22.64 -21.01 22.63 -20.95 22.61 -20.9 22.6 -20.84 22.59 -20.78 22.57 -20.73 22.56 -20.67 22.54 -20.61 22.52 -20.56 22.51 -20.5 22.49 -20.45 22.47 -20.39 22.45 -20.33 22.43 -20.28 22.41 -20.22 22.39 -20.16 22.37 -20.11 22.35 -20.05 22.33 -20 22.31 -19.94 22.29 -19.88 22.26 -19.83 22.24 -19.77 22.22 -19.71 22.19 -19.66 22.17 -19.6 22.14 -19.55 22.12 -19.49 22.09 -19.43 22.06 -19.38 22.03 -19.32 22.01 -19.26 21.98 -19.21 21.95 -19.15 21.92 -19.1 21.89 -19.04 21.86 -18.98 21.83 -18.93 21.8 -18.87 21.76 -18.81 21.73 -18.76 21.7 -18.7 21.67 -18.65 21.63 -18.59 21.6 -18.53 21.56 -18.48 21.53 -18.42 21.49 -18.36 21.46 -18.31 21.42 -18.25 21.38 -18.2 21.34 -18.14 21.31 -18.08 21.27 -18.03 21.23 -17.97 21.19 -17.91 21.15 -17.86 21.11 -17.8 21.07 -17.75 21.03 -17.69 20.98 -17.63 20.94 -17.58 20.9 -17.52 20.86 -17.46 20.81 -17.41 20.77 -17.35 20.72 -17.3 20.68 -17.24 20.63 -17.18 20.59 -17.13 20.54 -17.07 20.5 -17.01 20.45 -16.96 20.4 -16.9 20.35 -16.85 20.31 -16.79 20.26 -16.73 20.21 -16.68 20.17 -16.62 20.12 -16.56 20.07 -16.51 20.02 -16.45 19.97 -16.4 19.93 -16.34 19.88 -16.28 19.83 -16.23 19.78 -16.17 19.73 -16.11 19.68 -16.06 19.63 -16 19.58 -15.95 19.54 -15.89 19.49 -15.83 19.44 -15.78 19.39 -15.72 19.34 -15.66 19.29 -15.61 19.24 -15.55 19.19 -15.5 19.13 -15.44 19.08 -15.38 19.03 -15.33 18.98 -15.27 18.93 -15.21 18.88 -15.16 18.83 -15.1 18.78 -15.05 18.72 -14.99 18.67 -14.93 18.62 -14.88 18.57 -14.82 18.51 -14.76 18.46 -14.71 18.41 -14.65 18.36 -14.6 18.3 -14.54 18.25 -14.48 18.2 -14.43 18.14 -14.37 18.09 -14.31 18.03 -14.26 17.98 -14.2 17.92 -14.15 17.87 -14.09 17.82 -14.03 17.76 -13.98 17.71 -13.92 17.65 -13.86 17.59 -13.81 17.54 -13.75 17.48 -13.7 17.43 -13.64 17.37 -13.58 17.31 -13.53 17.26 -13.47 17.2 -13.41 17.14 -13.36 17.08 -13.3 17.03 -13.25 16.97 -13.19 16.91 -13.13 16.85 -13.08 16.79 -13.02 16.74 -12.96 16.68 -12.91 16.62 -12.85 16.56 -12.8 16.5 -12.74 16.44 -12.68 16.38 -12.63 16.32 -12.57 16.26 -12.51 16.2 -12.46 16.14 -12.4 16.08 -12.35 16.02 -12.29 15.95 -12.23 15.89 -12.18 15.83 -12.12 15.77 -12.06 15.71 -12.01 15.64 -11.95 15.58 -11.9 15.52 -11.84 15.45 -11.78 15.39 -11.73 15.33 -11.67 15.26 -11.61 15.2 -11.56 15.13 -11.5 15.07 -11.45 15 -11.39 14.94 -11.33 14.87 -11.28 14.81 -11.22 14.74 -11.16 14.67 -11.11 14.61 -11.05 14.54 -11 14.47 -10.94 14.4 -10.88 14.34 -10.83 14.27 -10.77 14.2 -10.71 14.13 -10.66 14.06 -10.6 13.99 -10.55 13.92 -10.49 13.85 -10.43 13.78 -10.38 13.71 -10.32 13.64 -10.26 13.57 -10.21 13.5 -10.15 13.43 -10.1 13.35 -10.04 13.28 -9.98 13.21 -9.93 13.13 -9.87 13.06 -9.81 12.99 -9.76 12.91 -9.7 12.84 -9.65 12.76 -9.59 12.69 -9.53 12.61 -9.48 12.54 -9.42 12.46 -9.36 12.38 -9.31 12.31 -9.25 12.23 -9.2 12.15 -9.14 12.07 -9.08 12 -9.03 11.92 -8.97 11.84 -8.91 11.76 -8.86 11.68 -8.8 11.6 -8.75 11.52 -8.69 11.44 -8.63 11.36 -8.58 11.27 -8.52 11.19 -8.47 11.11 -8.41 11.03 -8.35 10.94 -8.3 10.86 -8.24 10.77 -8.18 10.69 -8.13 10.6 -8.07 10.52 -8.02 10.43 -7.96 10.34 -7.9 10.26 -7.85 10.17 -7.79 10.08 -7.73 9.99 -7.68 9.9 -7.62 9.81 -7.57 9.72 -7.51 9.63 -7.45 9.54 -7.4 9.45 -7.34 9.36 -7.28 9.27 -7.23 9.17 -7.17 9.08 -7.12 8.99 -7.06 8.89 -7 8.8 -6.95 8.7 -6.89 8.61 -6.83 8.51 -6.78 8.41 -6.72 8.31 -6.67 8.21 -6.61 8.12 -6.55 8.02 -6.5 7.92 -6.44 7.81 -6.38 7.71 -6.33 7.61 -6.27 7.51 -6.22 7.41 -6.16 7.3 -6.1 7.2 -6.05 7.09 -5.99 6.99 -5.93 6.88 -5.88 6.78 -5.82 6.67 -5.77 6.57 -5.71 6.47 -5.65 6.36 -5.6 6.26 -5.54 6.16 -5.48 6.05 -5.43 5.95 -5.37 5.85 -5.32 5.75 -5.26 5.65 -5.2 5.55 -5.15 5.44 -5.09 5.34 -5.03 5.24 -4.98 5.14 -4.92 5.04 -4.87 4.94 -4.81 4.85 -4.75 4.75 -4.7 4.65 -4.64 4.55 -4.58 4.45 -4.53 4.35 -4.47 4.26 -4.42 4.16 -4.36 4.06 -4.3 3.97 -4.25 3.87 -4.19 3.77 -4.13 3.68 -4.08 3.58 -4.02 3.49 -3.97 3.39 -3.91 3.3 -3.85 3.2 -3.8 3.11 -3.74 3.02 -3.68 2.92 -3.63 2.83 -3.57 2.74 -3.52 2.64 -3.46 2.55 -3.4 2.46 -3.35 2.37 -3.29 2.27 -3.23 2.18 -3.18 2.09 -3.12 2 -3.07 1.91 -3.01 1.82 -2.95 1.73 -2.9 1.64 -2.84 1.55 -2.78 1.46 -2.73 1.37 -2.67 1.28 -2.62 1.19 -2.56 1.1 -2.5 1.01 -2.45 0.93 -2.39 0.84 -2.33 0.75 -2.28 0.66 -2.22 0.58 -2.17 0.49 -2.11 0.4 -2.05 0.32 -2 0.23 -1.94 0.14 -1.88 0.06 -1.83 -0.03 -1.77 -0.11 -1.72 -0.2 -1.66 -0.28 -1.6 -0.37 -1.55 -0.45 -1.49 -0.54 -1.43 -0.62 -1.38 -0.71 -1.32 -0.79 -1.27 -0.87 -1.21 -0.96 -1.15 -1.04 -1.1 -1.12 -1.04 -1.2 -0.98 -1.29 -0.93 -1.37 -0.87 -1.45 -0.82 -1.53 -0.76 -1.61 -0.7 -1.69 -0.65 -1.78 -0.59 -1.86 -0.53 -1.94 -0.48 -2.02 -0.42 -2.1 -0.37 -2.18 -0.31 -2.26 -0.25 -2.34 -0.2 -2.42 -0.14 -2.49 -0.08 -2.57 -0.03 -2.65 0.03 -2.73 0.08 -2.81 0.14 -2.89 0.2 -2.96 0.25 -3.04 0.31 -3.12 0.37 -3.2 0.42 -3.27 0.48 -3.35 0.53 -3.43 0.59 -3.5 0.65 -3.58 0.7 -3.66 0.76 -3.73 0.82 -3.81 0.87 -3.88 0.93 -3.96 0.98 -4.03 1.04 -4.11 1.1 -4.18 1.15 -4.25 1.21 -4.33 1.27 -4.4 1.32 -4.48 1.38 -4.55 1.43 -4.62 1.49 -4.7 1.55 -4.77 1.6 -4.84 1.66 -4.91 1.72 -4.99 1.77 -5.06 1.83 -5.13 1.88 -5.2 1.94 -5.27 2 -5.34 2.05 -5.41 2.11 -5.48 2.17 -5.56 2.22 -5.63 2.28 -5.7 2.33 -5.77 2.39 -5.84 2.45 -5.9 2.5 -5.97 2.56 -6.04 2.62 -6.11 2.67 -6.18 2.73 -6.25 2.78 -6.32 2.84 -6.39 2.9 -6.45 2.95 -6.52 3.01 -6.59 3.07 -6.66 3.12 -6.72 3.18 -6.79 3.23 -6.86 3.29 -6.92 3.35 -6.99 3.4 -7.06 3.46 -7.12 3.52 -7.19 3.57 -7.25 3.63 -7.32 3.68 -7.38 3.74 -7.45 3.8 -7.51 3.85 -7.58 3.91 -7.64 3.97 -7.7 4.02 -7.77 4.08 -7.83 4.13 -7.9 4.19 -7.96 4.25 -8.02 4.3 -8.09 4.36 -8.15 4.42 -8.21 4.47 -8.27 4.53 -8.33 4.58 -8.4 4.64 -8.46 4.7 -8.52 4.75 -8.58 4.81 -8.64 4.87 -8.7 4.92 -8.76 4.98 -8.82 5.03 -8.88 5.09 -8.94 5.15 -9 5.2 -9.06 5.26 -9.12 5.32 -9.18 5.37 -9.24 5.43 -9.3 5.48 -9.36 5.54 -9.42 5.6 -9.48 5.65 -9.53 5.71 -9.59 5.77 -9.65 5.82 -9.71 5.88 -9.77 5.93 -9.82 5.99 -9.88 6.05 -9.94 6.1 -9.99 6.16 -10.05 6.22 -10.11 6.27 -10.16 6.33 -10.22 6.38 -10.27 6.44 -10.33 6.5 -10.38 6.55 -10.44 6.61 -10.49 6.67 -10.55 6.72 -10.6 6.78 -10.66 6.83 -10.71 6.89 -10.76 6.95 -10.82 7 -10.87 7.06 -10.92 7.12 -10.98 7.17 -11.03 7.23 -11.08 7.28 -11.13 7.34 -11.19 7.4 -11.24 7.45 -11.29 7.51 -11.34 7.57 -11.39 7.62 -11.45 7.68 -11.5 7.73 -11.55 7.79 -11.6 7.85 -11.65 7.9 -11.7 7.96 -11.75 8.02 -11.8 8.07 -11.85 8.13 -11.9 8.18 -11.95 8.24 -12 8.3 -12.04 8.35 -12.09 8.41 -12.14 8.47 -12.19 8.52 -12.24 8.58 -12.29 8.63 -12.33 8.69 -12.38 8.75 -12.43 8.8 -12.48 8.86 -12.52 8.91 -12.57 8.97 -12.62 9.03 -12.66 9.08 -12.71 9.14 -12.76 9.2 -12.8 9.25 -12.85 9.31 -12.89 9.36 -12.94 9.42 -12.98 9.48 -13.03 9.53 -13.07 9.59 -13.12 9.65 -13.16 9.7 -13.2 9.76 -13.25 9.81 -13.29 9.87 -13.34 9.93 -13.38 9.98 -13.42 10.04 -13.46 10.1 -13.51 10.15 -13.55 10.21 -13.59 10.26 -13.63 10.32 -13.68 10.38 -13.72 10.43 -13.76 10.49 -13.8 10.55 -13.84 10.6 -13.88 10.66 -13.92 10.71 -13.96 10.77 -14 10.83 -14.04 10.88 -14.08 10.94 -14.12 11 -14.16 11.05 -14.2 11.11 -14.24 11.16 -14.28 11.22 -14.32 11.28 -14.36 11.33 -14.4 11.39 -14.44 11.45 -14.47 11.5 -14.51 11.56 -14.55 11.61 -14.59 11.67 -14.62 11.73 -14.66 11.78 -14.7 11.84 -14.73 11.9 -14.77 11.95 -14.81 12.01 -14.84 12.06 -14.88 12.12 -14.91 12.18 -14.95 12.23 -14.99 12.29 -15.02 12.35 -15.06 12.4 -15.09 12.46 -15.13 12.51 -15.16 12.57 -15.19 12.63 -15.23 12.68 -15.26 12.74 -15.29 12.8 -15.33 12.85 -15.36 12.91 -15.39 12.96 -15.43 13.02 -15.46 13.08 -15.49 13.13 -15.52 13.19 -15.56 13.25 -15.59 13.3 -15.62 13.36 -15.65 13.41 -15.68 13.47 -15.71 13.53 -15.74 13.58 -15.78 13.64 -15.81 13.7 -15.84 13.75 -15.87 13.81 -15.9 13.86 -15.93 13.92 -15.96 13.98 -15.98 14.03 -16.01 14.09 -16.04 14.15 -16.07 14.2 -16.1 14.26 -16.13 14.31 -16.16 14.37 -16.18 14.43 -16.21 14.48 -16.24 14.54 -16.27 14.6 -16.29 14.65 -16.32 14.71 -16.35 14.76 -16.37 14.82 -16.4 14.88 -16.43 14.93 -16.45 14.99 -16.48 15.05 -16.51 15.1 -16.53 15.16 -16.56 15.21 -16.58 15.27 -16.61 15.33 -16.63 15.38 -16.65 15.44 -16.68 15.5 -16.7 15.55 -16.73 15.61 -16.75 15.66 -16.77 15.72 -16.8 15.78 -16.82 15.83 -16.84 15.89 -16.87 15.95 -16.89 16 -16.91 16.06 -16.93 16.11 -16.96 16.17 -16.98 16.23 -17 16.28 -17.02 16.34 -17.04 16.4 -17.06 16.45 -17.08 16.51 -17.1 16.56 -17.12 16.62 -17.15 16.68 -17.17 16.73 -17.18 16.79 -17.2 16.85 -17.22 16.9 -17.24 16.96 -17.26 17.01 -17.28 17.07 -17.3 17.13 -17.32 17.18 -17.34 17.24 -17.36 17.3 -17.37 17.35 -17.39 17.41 -17.41 17.46 -17.43 17.52 -17.44 17.58 -17.46 17.63 -17.48 17.69 -17.49 17.75 -17.51 17.8 -17.53 17.86 -17.54 17.91 -17.56 17.97 -17.57 18.03 -17.59 18.08 -17.6 18.14 -17.62 18.2 -17.63 18.25 -17.65 18.31 -17.66 18.36 -17.68 18.42 -17.69 18.48 -17.71 18.53 -17.72 18.59 -17.73 18.65 -17.75 18.7 -17.76 18.76 -17.77 18.81 -17.78 18.87 -17.8 18.93 -17.81 18.98 -17.82 19.04 -17.83 19.1 -17.85 19.15 -17.86 19.21 -17.87 19.26 -17.88 19.32 -17.89 19.38 -17.9 19.43 -17.91 19.49 -17.92 19.55 -17.93 19.6 -17.94 19.66 -17.95 19.71 -17.96 19.77 -17.97 19.83 -17.98 19.88 -17.99 19.94 -18 20 -18.01 20.05 -18.02 20.11 -18.02 20.16 -18.03 20.22 -18.04 20.28 -18.05 20.33 -18.06 20.39 -18.06 20.45 -18.07 20.5 -18.08 20.56 -18.08 20.61 -18.09 20.67 -18.1 20.73 -18.1 20.78 -18.11 20.84 -18.11 20.9 -18.12 20.95 -18.13 21.01 -18.13 21.06 -18.14 21.12 -18.14 21.18 -18.15 21.23 -18.15 21.29 -18.15 21.35 -18.16 21.4 -18.16 21.46 -18.17 21.51 -18.17 21.57 -18.17 21.63 -18.18 21.68 -18.18 21.74 -18.18 21.8 -18.18 21.85 -18.19 21.91 -18.19 21.96 -18.19 22.02 -18.19 22.08 -18.19 22.13 -18.19 22.19 -18.2 22.25 -18.2 22.3 -18.2 22.36 -18.2 22.41 -18.2 22.47 -18.2\" class=\"primitive\"/>\n",
       "            </g>\n",
       "          </g>\n",
       "        </g>\n",
       "      </g>\n",
       "    </g>\n",
       "  </g>\n",
       "  <g class=\"guide ylabels\" font-size=\"2.82\" font-family=\"'PT Sans Caption','Helvetica Neue','Helvetica',sans-serif\" fill=\"#6C606B\" id=\"img-357ab52a-134\">\n",
       "    <g transform=\"translate(20.98,54.91)\" id=\"img-357ab52a-135\">\n",
       "      <g class=\"primitive\">\n",
       "        <text text-anchor=\"end\" dy=\"0.35em\">1.000</text>\n",
       "      </g>\n",
       "    </g>\n",
       "    <g transform=\"translate(20.98,38.94)\" id=\"img-357ab52a-136\">\n",
       "      <g class=\"primitive\">\n",
       "        <text text-anchor=\"end\" dy=\"0.35em\">1.005</text>\n",
       "      </g>\n",
       "    </g>\n",
       "    <g transform=\"translate(20.98,22.97)\" id=\"img-357ab52a-137\">\n",
       "      <g class=\"primitive\">\n",
       "        <text text-anchor=\"end\" dy=\"0.35em\">1.010</text>\n",
       "      </g>\n",
       "    </g>\n",
       "    <g transform=\"translate(20.98,7)\" id=\"img-357ab52a-138\">\n",
       "      <g class=\"primitive\">\n",
       "        <text text-anchor=\"end\" dy=\"0.35em\">1.015</text>\n",
       "      </g>\n",
       "    </g>\n",
       "  </g>\n",
       "  <g font-size=\"3.88\" font-family=\"'PT Sans','Helvetica Neue','Helvetica',sans-serif\" fill=\"#564A55\" stroke=\"#000000\" stroke-opacity=\"0.000\" id=\"img-357ab52a-139\">\n",
       "    <g transform=\"translate(8.81,28.96)\" id=\"img-357ab52a-140\">\n",
       "      <g class=\"primitive\">\n",
       "        <text text-anchor=\"middle\" dy=\"0.35em\" transform=\"rotate(-90,0, 2)\">Altitude</text>\n",
       "      </g>\n",
       "    </g>\n",
       "  </g>\n",
       "</g>\n",
       "<defs>\n",
       "  <clipPath id=\"img-357ab52a-4\">\n",
       "    <path d=\"M92.48,81.2 L 147.4 81.2 147.4 133.11 92.48 133.11\" />\n",
       "  </clipPath>\n",
       "  <clipPath id=\"img-357ab52a-41\">\n",
       "    <path d=\"M20.3,81.2 L 71.2 81.2 71.2 133.11 20.3 133.11\" />\n",
       "  </clipPath>\n",
       "  <clipPath id=\"img-357ab52a-76\">\n",
       "    <path d=\"M94.83,5 L 147.4 5 147.4 56.91 94.83 56.91\" />\n",
       "  </clipPath>\n",
       "  <clipPath id=\"img-357ab52a-115\">\n",
       "    <path d=\"M21.98,5 L 71.2 5 71.2 56.91 21.98 56.91\" />\n",
       "  </clipPath>\n",
       "</defs>\n",
       "</svg>\n"
      ],
      "text/plain": [
       "SVG(152.39999999999998mm, 152.39999999999998mm, IOBuffer(data=UInt8[...], readable=true, writable=true, seekable=true, append=false, size=61717, maxsize=Inf, ptr=61718, mark=-1), nothing, \"img-357ab52a\", 0, Compose.SVGPropertyFrame[], Dict{Type,Union{Nothing, Compose.Property}}(Compose.Property{Compose.FontSizePrimitive} => nothing,Compose.Property{Compose.FontPrimitive} => nothing,Compose.Property{Compose.StrokePrimitive} => nothing,Compose.Property{Compose.JSCallPrimitive} => nothing,Compose.Property{Compose.StrokeDashPrimitive} => nothing,Compose.Property{Compose.JSIncludePrimitive} => nothing,Compose.Property{Compose.SVGClassPrimitive} => nothing,Compose.Property{Compose.FillPrimitive} => nothing,Compose.Property{Compose.SVGAttributePrimitive} => nothing,Compose.Property{Compose.LineWidthPrimitive} => nothing…), OrderedCollections.OrderedDict{Compose.ClipPrimitive,String}(Compose.ClipPrimitive{Tuple{Measures.Length{:mm,Float64},Measures.Length{:mm,Float64}}}(Tuple{Measures.Length{:mm,Float64},Measures.Length{:mm,Float64}}[(92.48499999999999mm, 81.19999999999999mm), (147.39999999999998mm, 81.19999999999999mm), (147.39999999999998mm, 133.11499999999998mm), (92.48499999999999mm, 133.11499999999998mm)]) => \"img-357ab52a-4\",Compose.ClipPrimitive{Tuple{Measures.Length{:mm,Float64},Measures.Length{:mm,Float64}}}(Tuple{Measures.Length{:mm,Float64},Measures.Length{:mm,Float64}}[(20.305mm, 81.19999999999999mm), (71.19999999999999mm, 81.19999999999999mm), (71.19999999999999mm, 133.11499999999998mm), (20.305mm, 133.11499999999998mm)]) => \"img-357ab52a-41\",Compose.ClipPrimitive{Tuple{Measures.Length{:mm,Float64},Measures.Length{:mm,Float64}}}(Tuple{Measures.Length{:mm,Float64},Measures.Length{:mm,Float64}}[(94.83166666666665mm, 5.0mm), (147.39999999999998mm, 5.0mm), (147.39999999999998mm, 56.91499999999999mm), (94.83166666666665mm, 56.91499999999999mm)]) => \"img-357ab52a-76\",Compose.ClipPrimitive{Tuple{Measures.Length{:mm,Float64},Measures.Length{:mm,Float64}}}(Tuple{Measures.Length{:mm,Float64},Measures.Length{:mm,Float64}}[(21.97833333333333mm, 5.0mm), (71.19999999999999mm, 5.0mm), (71.19999999999999mm, 56.91499999999999mm), (21.97833333333333mm, 56.91499999999999mm)]) => \"img-357ab52a-115\"), Tuple{Compose.FormPrimitive,String}[], Set{AbstractString}(), true, false, nothing, true, \"img-357ab52a-140\", false, 140, Set(AbstractString[\"C:\\\\Users\\\\dpere\\\\.julia\\\\packages\\\\Gadfly\\\\USbaq\\\\src\\\\gadfly.js\"]), Set(Tuple{AbstractString,AbstractString}[(\"Snap.svg\", \"Snap\"), (\"Gadfly\", \"Gadfly\")]), AbstractString[\"fig.select(\\\"#img-357ab52a-5\\\")\\n   .init_gadfly();\", \"fig.select(\\\"#img-357ab52a-42\\\")\\n   .init_gadfly();\", \"fig.select(\\\"#img-357ab52a-77\\\")\\n   .init_gadfly();\", \"fig.select(\\\"#img-357ab52a-116\\\")\\n   .init_gadfly();\"], false, :none, (Measures.BoundingBox{Tuple{Measures.Length{:mm,Float64},Measures.Length{:mm,Float64}},Tuple{Measures.Length{:mm,Float64},Measures.Length{:mm,Float64}}}((21.97833333333333mm, 5.0mm), (49.22166666666666mm, 51.91499999999999mm)), Compose.UnitBox{Float64,Float64,Float64,Float64}(-0.008845317510043122, 1.0156261087342169, 0.21769063502008623, -0.016252217468433822, 0.0mm, 0.0mm, 0.0mm, 0.0mm), Compose.IdentityTransform()))"
      ]
     },
     "metadata": {},
     "output_type": "display_data"
    }
   ],
   "source": [
    "h_plot = plot(x = (1:n) * value.(Δt), y = value.(h)[:], Geom.line,\n",
    "                Guide.xlabel(\"Time (s)\"), Guide.ylabel(\"Altitude\"))\n",
    "m_plot = plot(x = (1:n) * value.(Δt), y = value.(m)[:], Geom.line,\n",
    "                Guide.xlabel(\"Time (s)\"), Guide.ylabel(\"Mass\"))\n",
    "v_plot = plot(x = (1:n) * value.(Δt), y = value.(v)[:], Geom.line,\n",
    "                Guide.xlabel(\"Time (s)\"), Guide.ylabel(\"Velocity\"))\n",
    "T_plot = plot(x = (1:n) * value.(Δt), y = value.(T)[:], Geom.line,\n",
    "                Guide.xlabel(\"Time (s)\"), Guide.ylabel(\"Thrust\"))\n",
    "draw(SVG(6inch, 6inch), vstack(hstack(h_plot, m_plot), hstack(v_plot, T_plot)))"
   ]
  },
  {
   "cell_type": "markdown",
   "metadata": {},
   "source": [
    "# Ejercicio: Sudoku"
   ]
  },
  {
   "attachments": {
    "Sudoku.png": {
     "image/png": "[encoded data removed]"
    }
   },
   "cell_type": "markdown",
   "metadata": {},
   "source": [
    "![Sudoku.png](attachment:Sudoku.png)"
   ]
  },
  {
   "cell_type": "markdown",
   "metadata": {},
   "source": [
    "Sudoku is a popular number puzzle. The goal is to place the digits 1,...,9 on a nine-by-nine grid, with some of the digits already filled in. Your solution must satisfy the following rules:\n",
    "\n",
    "- The numbers 1 to 9 must appear in each 3x3 square\n",
    "- The numbers 1 to 9 must appear in each row\n",
    "- The numbers 1 to 9 must appear in each column\n",
    "\n",
    "This isn't an optimization problem, its actually a feasibility problem: we wish to find a feasible solution that satsifies these rules. You can think of it as an optimization problem with an objective of 0.\n",
    "\n",
    "We can model this problem using 0-1 integer programming: a problem where all the decision variables are binary. We'll use JuMP to create the model, and then we can solve it with any integer programming solver."
   ]
  },
  {
   "cell_type": "code",
   "execution_count": 28,
   "metadata": {},
   "outputs": [],
   "source": [
    "using GLPK"
   ]
  },
  {
   "cell_type": "markdown",
   "metadata": {},
   "source": [
    "We will define a binary variable (a variable that is either $0$ or $1$) for each possible number in each possible cell. The meaning of each variable is as follows:\n",
    "\n",
    "$x[i,j,k] = 1$ if and only if cell $(i,j)$ has number $k$\n",
    "\n",
    "where `i` is the row and `j` is the colum"
   ]
  },
  {
   "cell_type": "code",
   "execution_count": 29,
   "metadata": {},
   "outputs": [],
   "source": [
    "# Create a model\n",
    "sudoku = Model(GLPK.Optimizer)\n",
    "\n",
    "# Create our variables\n",
    "@variable(sudoku, x[i=1:9, j=1:9, k=1:9], Bin);"
   ]
  },
  {
   "cell_type": "markdown",
   "metadata": {},
   "source": [
    "Now we can begin to add our constraints. We'll actually start with something obvious to us as humans, but what we need to enforce: that there can be only one number per cell."
   ]
  },
  {
   "cell_type": "code",
   "execution_count": null,
   "metadata": {},
   "outputs": [],
   "source": []
  },
  {
   "cell_type": "code",
   "execution_count": null,
   "metadata": {},
   "outputs": [],
   "source": []
  },
  {
   "cell_type": "code",
   "execution_count": null,
   "metadata": {},
   "outputs": [],
   "source": []
  },
  {
   "cell_type": "code",
   "execution_count": null,
   "metadata": {},
   "outputs": [],
   "source": []
  },
  {
   "cell_type": "code",
   "execution_count": null,
   "metadata": {},
   "outputs": [],
   "source": []
  },
  {
   "cell_type": "code",
   "execution_count": null,
   "metadata": {},
   "outputs": [],
   "source": []
  },
  {
   "cell_type": "code",
   "execution_count": null,
   "metadata": {},
   "outputs": [],
   "source": []
  },
  {
   "cell_type": "code",
   "execution_count": null,
   "metadata": {},
   "outputs": [],
   "source": []
  },
  {
   "cell_type": "code",
   "execution_count": null,
   "metadata": {},
   "outputs": [],
   "source": []
  },
  {
   "cell_type": "code",
   "execution_count": null,
   "metadata": {},
   "outputs": [],
   "source": []
  },
  {
   "cell_type": "code",
   "execution_count": 30,
   "metadata": {},
   "outputs": [],
   "source": [
    "for i = 1:9, j = 1:9  # Each row and each column\n",
    "    # Sum across all the possible digits\n",
    "    # One and only one of the digits can be in this cell, \n",
    "    # so the sum must be equal to one\n",
    "    @constraint(sudoku, sum(x[i,j,k] for k in 1:9) == 1)\n",
    "end"
   ]
  },
  {
   "cell_type": "code",
   "execution_count": null,
   "metadata": {},
   "outputs": [],
   "source": []
  },
  {
   "cell_type": "code",
   "execution_count": null,
   "metadata": {},
   "outputs": [],
   "source": []
  },
  {
   "cell_type": "code",
   "execution_count": null,
   "metadata": {},
   "outputs": [],
   "source": []
  },
  {
   "cell_type": "code",
   "execution_count": null,
   "metadata": {},
   "outputs": [],
   "source": []
  },
  {
   "cell_type": "code",
   "execution_count": null,
   "metadata": {},
   "outputs": [],
   "source": []
  },
  {
   "cell_type": "code",
   "execution_count": null,
   "metadata": {},
   "outputs": [],
   "source": []
  },
  {
   "cell_type": "markdown",
   "metadata": {},
   "source": [
    "Next we'll add the constraints for the rows and the columns. These constraints are all very similar, so much so that we can actually add them at the same time."
   ]
  },
  {
   "cell_type": "code",
   "execution_count": null,
   "metadata": {},
   "outputs": [],
   "source": []
  },
  {
   "cell_type": "code",
   "execution_count": null,
   "metadata": {},
   "outputs": [],
   "source": []
  },
  {
   "cell_type": "code",
   "execution_count": null,
   "metadata": {},
   "outputs": [],
   "source": []
  },
  {
   "cell_type": "code",
   "execution_count": null,
   "metadata": {},
   "outputs": [],
   "source": []
  },
  {
   "cell_type": "code",
   "execution_count": null,
   "metadata": {},
   "outputs": [],
   "source": []
  },
  {
   "cell_type": "code",
   "execution_count": null,
   "metadata": {},
   "outputs": [],
   "source": []
  },
  {
   "cell_type": "code",
   "execution_count": null,
   "metadata": {},
   "outputs": [],
   "source": []
  },
  {
   "cell_type": "code",
   "execution_count": null,
   "metadata": {},
   "outputs": [],
   "source": []
  },
  {
   "cell_type": "code",
   "execution_count": null,
   "metadata": {},
   "outputs": [],
   "source": []
  },
  {
   "cell_type": "code",
   "execution_count": null,
   "metadata": {},
   "outputs": [],
   "source": []
  },
  {
   "cell_type": "code",
   "execution_count": null,
   "metadata": {},
   "outputs": [],
   "source": []
  },
  {
   "cell_type": "code",
   "execution_count": null,
   "metadata": {},
   "outputs": [],
   "source": []
  },
  {
   "cell_type": "code",
   "execution_count": null,
   "metadata": {},
   "outputs": [],
   "source": []
  },
  {
   "cell_type": "code",
   "execution_count": 31,
   "metadata": {},
   "outputs": [],
   "source": [
    "for ind = 1:9  # Each row, OR each column\n",
    "    for k = 1:9  # Each digit\n",
    "        # Sum across columns (j) - row constraint\n",
    "        @constraint(sudoku, sum(x[ind,j,k] for j in 1:9) == 1)\n",
    "        # Sum across rows (i) - column constraint\n",
    "            @constraint(sudoku, sum(x[i,ind,k] for i in 1:9) == 1)\n",
    "    end\n",
    "end"
   ]
  },
  {
   "cell_type": "code",
   "execution_count": null,
   "metadata": {},
   "outputs": [],
   "source": []
  },
  {
   "cell_type": "code",
   "execution_count": null,
   "metadata": {},
   "outputs": [],
   "source": []
  },
  {
   "cell_type": "code",
   "execution_count": null,
   "metadata": {},
   "outputs": [],
   "source": []
  },
  {
   "cell_type": "code",
   "execution_count": null,
   "metadata": {},
   "outputs": [],
   "source": []
  },
  {
   "cell_type": "code",
   "execution_count": null,
   "metadata": {},
   "outputs": [],
   "source": []
  },
  {
   "cell_type": "code",
   "execution_count": null,
   "metadata": {},
   "outputs": [],
   "source": []
  },
  {
   "cell_type": "markdown",
   "metadata": {},
   "source": [
    "Finally, we have the to enforce the constraint that each digit appears once in each of the nine 3x3 sub-grids. Our strategy will be to index over the top-left corners of each 3x3 square with for loops, then sum over the squares."
   ]
  },
  {
   "cell_type": "code",
   "execution_count": null,
   "metadata": {},
   "outputs": [],
   "source": []
  },
  {
   "cell_type": "code",
   "execution_count": null,
   "metadata": {},
   "outputs": [],
   "source": []
  },
  {
   "cell_type": "code",
   "execution_count": null,
   "metadata": {},
   "outputs": [],
   "source": []
  },
  {
   "cell_type": "code",
   "execution_count": null,
   "metadata": {},
   "outputs": [],
   "source": []
  },
  {
   "cell_type": "code",
   "execution_count": null,
   "metadata": {},
   "outputs": [],
   "source": []
  },
  {
   "cell_type": "code",
   "execution_count": null,
   "metadata": {},
   "outputs": [],
   "source": []
  },
  {
   "cell_type": "code",
   "execution_count": null,
   "metadata": {},
   "outputs": [],
   "source": []
  },
  {
   "cell_type": "code",
   "execution_count": null,
   "metadata": {},
   "outputs": [],
   "source": []
  },
  {
   "cell_type": "code",
   "execution_count": null,
   "metadata": {},
   "outputs": [],
   "source": []
  },
  {
   "cell_type": "code",
   "execution_count": 32,
   "metadata": {},
   "outputs": [],
   "source": [
    "for i = 1:3:7, j = 1:3:7, k = 1:9\n",
    "    # i is the top left row, j is the top left column\n",
    "    # We'll sum from i to i+2, e.g. i=4, r=4, 5, 6\n",
    "    @constraint(sudoku, sum(x[r,c,k] for  r in i:i+2, c in j:j+2) == 1)\n",
    "end"
   ]
  },
  {
   "cell_type": "code",
   "execution_count": null,
   "metadata": {},
   "outputs": [],
   "source": []
  },
  {
   "cell_type": "code",
   "execution_count": null,
   "metadata": {},
   "outputs": [],
   "source": []
  },
  {
   "cell_type": "code",
   "execution_count": null,
   "metadata": {},
   "outputs": [],
   "source": []
  },
  {
   "cell_type": "code",
   "execution_count": null,
   "metadata": {},
   "outputs": [],
   "source": []
  },
  {
   "cell_type": "code",
   "execution_count": null,
   "metadata": {},
   "outputs": [],
   "source": []
  },
  {
   "cell_type": "code",
   "execution_count": null,
   "metadata": {},
   "outputs": [],
   "source": []
  },
  {
   "cell_type": "code",
   "execution_count": null,
   "metadata": {},
   "outputs": [],
   "source": []
  },
  {
   "cell_type": "markdown",
   "metadata": {},
   "source": [
    "The final step is to add the initial solution as a set of constraints. We'll solve the problem that is in the picture at the start of the notebook. We'll put a 0 if there is no digit in that location."
   ]
  },
  {
   "cell_type": "code",
   "execution_count": 33,
   "metadata": {},
   "outputs": [],
   "source": [
    "# The given digits\n",
    "init_sol = [ 5 3 0 0 7 0 0 0 0;\n",
    "             6 0 0 1 9 5 0 0 0;\n",
    "             0 9 8 0 0 0 0 6 0;\n",
    "             8 0 0 0 6 0 0 0 3;\n",
    "             4 0 0 8 0 3 0 0 1;\n",
    "             7 0 0 0 2 0 0 0 6;\n",
    "             0 6 0 0 0 0 2 8 0;\n",
    "             0 0 0 4 1 9 0 0 5;\n",
    "             0 0 0 0 8 0 0 7 9]\n",
    "for i = 1:9, j = 1:9\n",
    "    # If the space isn't empty\n",
    "    if init_sol[i,j] != 0\n",
    "        # Then the corresponding variable for that digit\n",
    "        # and location must be 1\n",
    "        @constraint(sudoku, x[i,j,init_sol[i,j]] == 1)\n",
    "    end\n",
    "end"
   ]
  },
  {
   "cell_type": "code",
   "execution_count": 34,
   "metadata": {},
   "outputs": [],
   "source": [
    "# solve problem\n",
    "optimize!(sudoku)"
   ]
  },
  {
   "cell_type": "code",
   "execution_count": 35,
   "metadata": {},
   "outputs": [
    {
     "data": {
      "text/plain": [
       "0.015000104904174805"
      ]
     },
     "execution_count": 35,
     "metadata": {},
     "output_type": "execute_result"
    }
   ],
   "source": [
    "solve_time(sudoku)"
   ]
  },
  {
   "cell_type": "code",
   "execution_count": 36,
   "metadata": {},
   "outputs": [
    {
     "data": {
      "text/plain": [
       "9×9 Array{Int64,2}:\n",
       " 5  3  4  6  7  8  9  1  2\n",
       " 6  7  2  1  9  5  3  4  8\n",
       " 1  9  8  3  4  2  5  6  7\n",
       " 8  5  9  7  6  1  4  2  3\n",
       " 4  2  6  8  5  3  7  9  1\n",
       " 7  1  3  9  2  4  8  5  6\n",
       " 9  6  1  5  3  7  2  8  4\n",
       " 2  8  7  4  1  9  6  3  5\n",
       " 3  4  5  2  8  6  1  7  9"
      ]
     },
     "execution_count": 36,
     "metadata": {},
     "output_type": "execute_result"
    }
   ],
   "source": [
    "# Extract the values of x\n",
    "x_val = value.(x)\n",
    "# Create a matrix to store the solution\n",
    "sol = zeros(Int,9,9)  # 9x9 matrix of integers\n",
    "for i in 1:9, j in 1:9, k in 1:9\n",
    "    # Integer programs are solved as a series of linear programs\n",
    "    # so the values might not be precisely 0 and 1. We can just\n",
    "    # round them to the nearest integer to make it easier\n",
    "    if round(Int,x_val[i,j,k]) == 1\n",
    "        sol[i,j] = k\n",
    "    end\n",
    "end\n",
    "# Display the solution\n",
    "sol"
   ]
  },
  {
   "attachments": {
    "SudokuSolved.png": {
     "image/png": "[encoded data removed]"
    }
   },
   "cell_type": "markdown",
   "metadata": {},
   "source": [
    "Which is the correct solution:\n",
    "\n",
    "![SudokuSolved.png](attachment:SudokuSolved.png)"
   ]
  }
 ],
 "metadata": {
  "@webio": {
   "lastCommId": null,
   "lastKernelId": null
  },
  "kernelspec": {
   "display_name": "Julia 1.5.0",
   "language": "julia",
   "name": "julia-1.5"
  },
  "language_info": {
   "file_extension": ".jl",
   "mimetype": "application/julia",
   "name": "julia",
   "version": "1.5.0"
  }
 },
 "nbformat": 4,
 "nbformat_minor": 4
}
