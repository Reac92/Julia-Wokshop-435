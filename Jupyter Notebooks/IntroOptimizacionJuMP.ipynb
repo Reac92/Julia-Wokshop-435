{
 "cells": [
  {
   "cell_type": "markdown",
   "metadata": {},
   "source": [
    "# El ecosistema JuMP para optimización matemática"
   ]
  },
  {
   "cell_type": "markdown",
   "metadata": {},
   "source": [
    "##  Ejemplo de motivación: Número mínimo de pasaportes necesarios para visitar todos los países sin necesidad de VISA.\n",
    "\n",
    "Utilizamos los datos provenientes de https://www.passportindex.org/. \"Become a global citizen\"."
   ]
  },
  {
   "cell_type": "code",
   "execution_count": 1,
   "metadata": {},
   "outputs": [
    {
     "name": "stderr",
     "output_type": "stream",
     "text": [
      "fatal: destination path 'passport-index-dataset' already exists and is not an empty directory.\n"
     ]
    }
   ],
   "source": [
    ";git clone https://github.com/ilyankou/passport-index-dataset.git"
   ]
  },
  {
   "cell_type": "code",
   "execution_count": 2,
   "metadata": {},
   "outputs": [
    {
     "data": {
      "text/plain": [
       "199×199 Array{Int64,2}:\n",
       " 1  0  0  0  0  0  0  0  0  0  0  0  0  …  0  0  0  0  0  0  0  0  0  0  0  0\n",
       " 0  1  0  1  0  1  0  1  0  1  0  0  0     0  0  0  0  0  0  1  0  0  0  0  0\n",
       " 0  0  1  0  0  0  0  0  0  0  0  0  0     0  0  0  0  0  0  0  0  0  0  0  0\n",
       " 0  1  0  1  0  1  1  1  0  1  0  1  0     1  1  0  1  1  1  1  1  0  0  0  0\n",
       " 0  0  0  0  1  0  0  0  0  0  0  0  0     0  0  0  0  0  0  0  0  0  0  1  1\n",
       " 0  1  0  1  0  1  0  0  0  1  0  1  0  …  0  1  0  0  0  1  1  1  0  0  1  1\n",
       " 0  1  0  1  0  1  1  1  0  1  0  1  0     1  1  0  1  1  1  1  1  0  0  0  0\n",
       " 0  1  0  0  0  1  1  1  0  0  0  1  0     0  0  0  1  1  0  0  0  0  0  0  0\n",
       " 0  1  0  1  0  1  1  1  1  1  0  1  0     1  1  0  1  1  1  1  1  0  0  0  0\n",
       " 0  1  0  1  0  1  1  1  0  1  0  1  0     1  1  0  1  1  1  1  1  0  0  0  0\n",
       " 0  1  0  0  0  1  0  0  0  0  1  1  0  …  0  0  0  0  1  1  0  0  0  0  0  0\n",
       " 0  1  0  1  0  1  0  0  0  1  0  1  0     1  1  1  1  0  1  1  0  0  0  1  1\n",
       " 0  0  0  0  0  0  0  0  0  0  0  1  1     1  0  0  0  0  1  0  0  0  0  0  0\n",
       " ⋮              ⋮              ⋮        ⋱           ⋮              ⋮        \n",
       " 0  1  0  1  0  1  1  1  0  1  0  1  1     1  0  0  1  1  1  1  0  0  0  0  0\n",
       " 0  1  0  1  0  1  1  1  0  1  0  1  0     1  1  0  1  1  1  1  1  1  0  0  0\n",
       " 0  1  0  1  0  1  1  1  0  1  0  1  0     1  1  1  1  0  1  1  0  0  0  0  0\n",
       " 0  1  0  1  0  0  1  1  0  1  0  1  0  …  1  1  0  1  0  1  1  1  0  0  0  0\n",
       " 0  0  0  0  0  1  0  1  0  0  1  0  0     0  0  0  0  1  0  0  0  0  0  0  0\n",
       " 0  0  0  1  0  1  0  0  0  1  0  1  0     0  1  0  0  0  1  1  0  0  0  1  1\n",
       " 0  1  0  1  0  1  1  1  0  1  0  1  0     1  1  0  1  1  1  1  0  0  0  0  0\n",
       " 0  1  0  1  0  1  1  0  0  1  0  1  0     0  0  0  1  0  0  1  1  0  0  0  0\n",
       " 0  0  0  0  0  0  0  0  0  0  0  0  0  …  0  0  0  0  0  0  0  0  1  0  0  0\n",
       " 0  0  0  0  0  0  0  0  0  0  0  0  0     0  0  0  0  0  0  0  0  0  1  0  0\n",
       " 0  0  0  0  1  1  0  0  0  0  0  1  0     0  0  0  0  0  1  0  0  0  0  1  1\n",
       " 0  0  0  0  1  0  0  0  0  0  0  1  0     0  0  0  0  0  1  0  0  0  0  1  1"
      ]
     },
     "execution_count": 2,
     "metadata": {},
     "output_type": "execute_result"
    }
   ],
   "source": [
    "using DelimitedFiles\n",
    "data = readdlm(joinpath(\"passport-index-dataset\\\\legacy\\\\2019-11-23\",\"passport-index-matrix.csv\"),',')\n",
    "cntr = data[2:end,1]\n",
    "vf = (x ->  x == -1 || x == 3 ? 1 : 0).(data[2:end,2:end])"
   ]
  },
  {
   "cell_type": "markdown",
   "metadata": {},
   "source": [
    "### (Constrained) Mathematical Optimization and JuMP"
   ]
  },
  {
   "cell_type": "markdown",
   "metadata": {},
   "source": [
    "$$ \\begin{align*} \\min_{x,y} &&\\quad \\sum_{\\operatorname{cntr} \\;\\in\\; \\operatorname{World}} \\operatorname{pass}_{\\,\\operatorname{cntr}} \\\\ \\text{s.t.}&&\\quad \\sum_{\\operatorname{cntr} \\;\\in\\; \\operatorname{World}}\\operatorname{vf}(\\operatorname{cntr},\\operatorname{dst}) \\cdot \\operatorname{pass}_{\\,\\operatorname{cntr}} &\\geq 1\\quad &\\quad& \\forall \\; \\operatorname{dst} \\;\\in \\; \\operatorname{World}\\\\ &&\\operatorname{pass}_{\\,\\operatorname{cntr}} &\\in \\{0,1\\}&\\quad& \\forall \\; \\operatorname{cntr}\\in \\; \\operatorname{World}. \\end{align*} $$"
   ]
  },
  {
   "cell_type": "code",
   "execution_count": 3,
   "metadata": {},
   "outputs": [
    {
     "name": "stdout",
     "output_type": "stream",
     "text": [
      "24.0 passports: Afghanistan, Angola, Australia, Austria, China, Comoros, Congo, Eritrea, Gambia, Georgia, Hong Kong, India, Iraq, Kenya, Madagascar, Maldives, North Korea, Papua New Guinea, Seychelles, Singapore, Somalia, Tunisia, United Arab Emirates, United States"
     ]
    }
   ],
   "source": [
    "using JuMP, GLPK\n",
    "model = Model(with_optimizer(GLPK.Optimizer))\n",
    "@variable(model, pass[1:length(cntr)], Bin)\n",
    "@constraint(model, [j=1:length(cntr)], sum( vf[i,j]*pass[i] for i in 1:length(cntr)) >= 1)\n",
    "@objective(model, Min, sum(pass))\n",
    "JuMP.optimize!(model)\n",
    "print(JuMP.objective_value(model),\" passports: \",join(cntr[findall(JuMP.value.(pass) .== 1)],\", \"))"
   ]
  },
  {
   "cell_type": "markdown",
   "metadata": {},
   "source": [
    "## Ejemplo paso a paso: Resolviendo un Problema Lineal\n",
    "\n",
    "Resolvamos el siguiente problema lineal de 2 variables\n",
    "\n",
    "$$\n",
    "\\begin{align*}\n",
    "\\max_{x,y} \\quad x + 2y \\\\\n",
    "\\text{s.t.} \\quad x + y\\leq 1 \\\\\n",
    "0\\leq x, y \\leq 1\n",
    "\\end{align*}\n",
    "$$\n",
    "\n",
    "Cargamos JuMP, MathOptInterface (MOI) y GLPK (GNU LP/MIP solver -gratuito-):"
   ]
  },
  {
   "cell_type": "code",
   "execution_count": 4,
   "metadata": {},
   "outputs": [],
   "source": [
    "using JuMP  \n",
    "using MathOptInterface # Replaces MathProgBase\n",
    "# shortcuts\n",
    "const MOI = MathOptInterface\n",
    "const MOIU = MathOptInterface.Utilities\n",
    "using GLPK # Loading the GLPK module for using its solver"
   ]
  },
  {
   "cell_type": "markdown",
   "metadata": {},
   "source": [
    "Construir un objeto tipo modelo (que contiene variables, restricciones, opciones del solver, etc):"
   ]
  },
  {
   "cell_type": "code",
   "execution_count": 5,
   "metadata": {},
   "outputs": [],
   "source": [
    "model = Model(with_optimizer(GLPK.Optimizer,msg_lev = 4));"
   ]
  },
  {
   "cell_type": "markdown",
   "metadata": {},
   "source": [
    "Definir las variables del modelo $0\\leq x, y \\leq 1$:"
   ]
  },
  {
   "cell_type": "code",
   "execution_count": 6,
   "metadata": {},
   "outputs": [
    {
     "data": {
      "text/latex": [
       "$$ y $$"
      ],
      "text/plain": [
       "y"
      ]
     },
     "execution_count": 6,
     "metadata": {},
     "output_type": "execute_result"
    }
   ],
   "source": [
    "@variable(model, 0 <= x <= 1)\n",
    "@variable(model, 0 <= y <= 1)"
   ]
  },
  {
   "cell_type": "markdown",
   "metadata": {},
   "source": [
    "Añadir restricción al modelo $x + y \\leq 1$:"
   ]
  },
  {
   "cell_type": "code",
   "execution_count": 7,
   "metadata": {},
   "outputs": [
    {
     "data": {
      "text/latex": [
       "$ x + y \\leq 1.0 $"
      ],
      "text/plain": [
       "x + y <= 1.0"
      ]
     },
     "execution_count": 7,
     "metadata": {},
     "output_type": "execute_result"
    }
   ],
   "source": [
    "@constraint(model, x + y <= 1)"
   ]
  },
  {
   "cell_type": "markdown",
   "metadata": {},
   "source": [
    "Añadir función objetivo al modelo $\\max x + 2y$:"
   ]
  },
  {
   "cell_type": "code",
   "execution_count": 8,
   "metadata": {},
   "outputs": [
    {
     "data": {
      "text/latex": [
       "$$ x + 2 y $$"
      ],
      "text/plain": [
       "x + 2 y"
      ]
     },
     "execution_count": 8,
     "metadata": {},
     "output_type": "execute_result"
    }
   ],
   "source": [
    "@objective(model, Max, x + 2y)"
   ]
  },
  {
   "cell_type": "markdown",
   "metadata": {},
   "source": [
    "Veamos cómo está quedando el modelo"
   ]
  },
  {
   "cell_type": "code",
   "execution_count": 9,
   "metadata": {},
   "outputs": [
    {
     "data": {
      "text/latex": [
       "$$ \\begin{alignat*}{1}\\max\\quad & x + 2 y\\\\\n",
       "\\text{Subject to} \\quad & x + y \\leq 1.0\\\\\n",
       " & x \\geq 0.0\\\\\n",
       " & y \\geq 0.0\\\\\n",
       " & x \\leq 1.0\\\\\n",
       " & y \\leq 1.0\\\\\n",
       "\\end{alignat*}\n",
       " $$"
      ],
      "text/plain": [
       "A JuMP Model\n",
       "Maximization problem with:\n",
       "Variables: 2\n",
       "Objective function type: GenericAffExpr{Float64,VariableRef}\n",
       "`GenericAffExpr{Float64,VariableRef}`-in-`MathOptInterface.LessThan{Float64}`: 1 constraint\n",
       "`VariableRef`-in-`MathOptInterface.GreaterThan{Float64}`: 2 constraints\n",
       "`VariableRef`-in-`MathOptInterface.LessThan{Float64}`: 2 constraints\n",
       "Model mode: AUTOMATIC\n",
       "CachingOptimizer state: EMPTY_OPTIMIZER\n",
       "Solver name: GLPK\n",
       "Names registered in the model: x, y"
      ]
     },
     "execution_count": 9,
     "metadata": {},
     "output_type": "execute_result"
    }
   ],
   "source": [
    "model"
   ]
  },
  {
   "cell_type": "markdown",
   "metadata": {},
   "source": [
    "El modelo está completo y ya hemos seleccionado un solver al comienzo. Solo queda llamar a la función `Optimize` para resolverlo"
   ]
  },
  {
   "cell_type": "code",
   "execution_count": 10,
   "metadata": {},
   "outputs": [
    {
     "name": "stdout",
     "output_type": "stream",
     "text": [
      "GLPK Simplex Optimizer, v4.64\n",
      "1 row, 2 columns, 2 non-zeros\n",
      "*     0: obj = -0.000000000e+000 inf =  0.000e+000 (2)\n",
      "*     2: obj =  2.000000000e+000 inf =  0.000e+000 (0)\n",
      "OPTIMAL LP SOLUTION FOUND\n"
     ]
    }
   ],
   "source": [
    "JuMP.optimize!(model)"
   ]
  },
  {
   "cell_type": "markdown",
   "metadata": {},
   "source": [
    "Podemos chequear el estado de la optimización:\n",
    "- ¿Obtuvimos valores óptimos para el primal?\n",
    "- ¿Se terminó el problema?\n",
    "- ¿Obtuvimos un punto factible?\n",
    "- ¿Qué pasa con el Dual?"
   ]
  },
  {
   "cell_type": "code",
   "execution_count": 11,
   "metadata": {},
   "outputs": [
    {
     "name": "stdout",
     "output_type": "stream",
     "text": [
      "JuMP.has_values(model) = true\n",
      "JuMP.termination_status(model) == MOI.OPTIMAL = true\n",
      "JuMP.primal_status(model) == MOI.FEASIBLE_POINT = true\n",
      "JuMP.dual_status(model) == MOI.FEASIBLE_POINT = true\n"
     ]
    },
    {
     "data": {
      "text/plain": [
       "true"
      ]
     },
     "execution_count": 11,
     "metadata": {},
     "output_type": "execute_result"
    }
   ],
   "source": [
    "@show JuMP.has_values(model)\n",
    "@show JuMP.termination_status(model) == MOI.OPTIMAL\n",
    "@show JuMP.primal_status(model) == MOI.FEASIBLE_POINT\n",
    "@show JuMP.dual_status(model) == MOI.FEASIBLE_POINT"
   ]
  },
  {
   "cell_type": "code",
   "execution_count": 12,
   "metadata": {},
   "outputs": [
    {
     "data": {
      "text/plain": [
       "Enum MathOptInterface.ResultStatusCode:\n",
       "NO_SOLUTION = 0\n",
       "FEASIBLE_POINT = 1\n",
       "NEARLY_FEASIBLE_POINT = 2\n",
       "INFEASIBLE_POINT = 3\n",
       "INFEASIBILITY_CERTIFICATE = 4\n",
       "NEARLY_INFEASIBILITY_CERTIFICATE = 5\n",
       "REDUCTION_CERTIFICATE = 6\n",
       "NEARLY_REDUCTION_CERTIFICATE = 7\n",
       "UNKNOWN_RESULT_STATUS = 8\n",
       "OTHER_RESULT_STATUS = 9"
      ]
     },
     "metadata": {},
     "output_type": "display_data"
    }
   ],
   "source": [
    "display(typeof(MOI.FEASIBLE_POINT))"
   ]
  },
  {
   "cell_type": "markdown",
   "metadata": {},
   "source": [
    "Recuperemos los valores que nos importan"
   ]
  },
  {
   "cell_type": "code",
   "execution_count": 13,
   "metadata": {},
   "outputs": [
    {
     "name": "stdout",
     "output_type": "stream",
     "text": [
      "JuMP.value(x) = 0.0\n",
      "JuMP.value(y) = 1.0\n",
      "JuMP.objective_value(model) = 2.0\n"
     ]
    }
   ],
   "source": [
    "@show JuMP.value(x)              # Old syntax: getvalue(x)\n",
    "@show JuMP.value(y)              # Old syntax: getvalue(y)\n",
    "@show JuMP.objective_value(model);       # Old syntax: getobjectivevalue(model)"
   ]
  },
  {
   "cell_type": "markdown",
   "metadata": {},
   "source": [
    "Podemos también ponerle nombre a alguna restricción para llamarla más adelante (o pedir calcular su multiplicador, eliminarla, etc)"
   ]
  },
  {
   "cell_type": "code",
   "execution_count": 14,
   "metadata": {},
   "outputs": [
    {
     "name": "stdout",
     "output_type": "stream",
     "text": [
      "JuMP.termination_status(model) == MOI.OPTIMAL = true\n"
     ]
    },
    {
     "data": {
      "text/plain": [
       "true"
      ]
     },
     "execution_count": 14,
     "metadata": {},
     "output_type": "execute_result"
    }
   ],
   "source": [
    "model = Model(with_optimizer(GLPK.Optimizer, msg_lev = 0))\n",
    "@variable(model, 0 <= x <= 1)\n",
    "@variable(model, 0 <= y <= 1)\n",
    "@constraint(model, inequality, x + y <= 1)     # <=============== constraint can be referenced later as \"inequality\"\n",
    "@objective(model, Max, x + 2y)\n",
    "JuMP.optimize!(model)\n",
    "@show JuMP.termination_status(model) == MOI.OPTIMAL"
   ]
  },
  {
   "cell_type": "code",
   "execution_count": 15,
   "metadata": {},
   "outputs": [
    {
     "data": {
      "text/plain": [
       "-1.0"
      ]
     },
     "execution_count": 15,
     "metadata": {},
     "output_type": "execute_result"
    }
   ],
   "source": [
    "λ = JuMP.dual(inequality)"
   ]
  },
  {
   "cell_type": "code",
   "execution_count": 16,
   "metadata": {},
   "outputs": [
    {
     "name": "stdout",
     "output_type": "stream",
     "text": [
      "JuMP.termination_status(model) == MOI.OPTIMAL = true\n",
      "JuMP.objective_value(model) = 3.0\n"
     ]
    }
   ],
   "source": [
    "JuMP.delete(model, inequality)\n",
    "JuMP.optimize!(model)\n",
    "@show JuMP.termination_status(model) == MOI.OPTIMAL\n",
    "@show JuMP.objective_value(model);"
   ]
  },
  {
   "cell_type": "markdown",
   "metadata": {},
   "source": [
    "# Restricciones no lineales"
   ]
  },
  {
   "cell_type": "code",
   "execution_count": 17,
   "metadata": {},
   "outputs": [
    {
     "name": "stdout",
     "output_type": "stream",
     "text": [
      "\n",
      "******************************************************************************\n",
      "This program contains Ipopt, a library for large-scale nonlinear optimization.\n",
      " Ipopt is released as open source code under the Eclipse Public License (EPL).\n",
      "         For more information visit http://projects.coin-or.org/Ipopt\n",
      "******************************************************************************\n",
      "\n",
      "This is Ipopt version 3.13.2, running with linear solver mumps.\n",
      "NOTE: Other linear solvers might be more efficient (see Ipopt documentation).\n",
      "\n",
      "Number of nonzeros in equality constraint Jacobian...:        0\n",
      "Number of nonzeros in inequality constraint Jacobian.:        1\n",
      "Number of nonzeros in Lagrangian Hessian.............:        4\n",
      "\n",
      "Total number of variables............................:        2\n",
      "                     variables with only lower bounds:        0\n",
      "                variables with lower and upper bounds:        0\n",
      "                     variables with only upper bounds:        0\n",
      "Total number of equality constraints.................:        0\n",
      "Total number of inequality constraints...............:        1\n",
      "        inequality constraints with only lower bounds:        0\n",
      "   inequality constraints with lower and upper bounds:        0\n",
      "        inequality constraints with only upper bounds:        1\n",
      "\n",
      "iter    objective    inf_pr   inf_du lg(mu)  ||d||  lg(rg) alpha_du alpha_pr  ls\n",
      "   0  1.0000000e+00 1.00e+00 0.00e+00  -1.0 0.00e+00    -  0.00e+00 0.00e+00   0\n",
      "   1  1.1271001e+01 6.01e-02 6.56e+01  -1.0 5.46e-01    -  1.00e+00 1.00e+00h  1\n",
      "   2  3.1638662e+00 4.28e-02 1.79e+01  -1.0 3.17e-01    -  1.00e+00 7.13e-01f  1\n",
      "   3  2.5851172e+00 0.00e+00 1.08e+00  -1.0 1.41e-01    -  1.00e+00 1.00e+00f  1\n",
      "   4  2.6099717e+00 0.00e+00 1.25e-02  -1.0 1.21e-02    -  1.00e+00 1.00e+00h  1\n",
      "   5  2.5289573e+00 0.00e+00 1.55e-01  -2.5 3.43e-02    -  1.00e+00 1.00e+00f  1\n",
      "   6  2.5262625e+00 0.00e+00 3.78e-04  -2.5 1.51e-03    -  1.00e+00 1.00e+00h  1\n",
      "   7  2.5235888e+00 0.00e+00 1.70e-04  -3.8 1.17e-03    -  1.00e+00 1.00e+00f  1\n",
      "   8  2.5234381e+00 0.00e+00 5.52e-07  -5.7 6.62e-05    -  1.00e+00 1.00e+00h  1\n",
      "   9  2.5234363e+00 0.00e+00 8.16e-11  -8.6 8.09e-07    -  1.00e+00 1.00e+00h  1\n",
      "\n",
      "Number of Iterations....: 9\n",
      "\n",
      "                                   (scaled)                 (unscaled)\n",
      "Objective...............:   2.5234362583018233e+00    2.5234362583018233e+00\n",
      "Dual infeasibility......:   8.1634699000687760e-11    8.1634699000687760e-11\n",
      "Constraint violation....:   0.0000000000000000e+00    0.0000000000000000e+00\n",
      "Complementarity.........:   2.5074330278896033e-09    2.5074330278896033e-09\n",
      "Overall NLP error.......:   2.5074330278896033e-09    2.5074330278896033e-09\n",
      "\n",
      "\n",
      "Number of objective function evaluations             = 10\n",
      "Number of objective gradient evaluations             = 10\n",
      "Number of equality constraint evaluations            = 0\n",
      "Number of inequality constraint evaluations          = 10\n",
      "Number of equality constraint Jacobian evaluations   = 0\n",
      "Number of inequality constraint Jacobian evaluations = 10\n",
      "Number of Lagrangian Hessian evaluations             = 9\n",
      "Total CPU secs in IPOPT (w/o function evaluations)   =      1.691\n",
      "Total CPU secs in NLP function evaluations           =      1.153\n",
      "\n",
      "EXIT: Optimal Solution Found.\n"
     ]
    }
   ],
   "source": [
    "using Ipopt\n",
    "\n",
    "model = Model(with_optimizer(Ipopt.Optimizer))\n",
    "@variable(model, x)\n",
    "@variable(model, y)\n",
    "\n",
    "@NLobjective(model, Min, (1-x)^2 + 100(y-x^2)^2)\n",
    "@NLconstraint(model, exp(x)+sin(x) <=0)\n",
    "\n",
    "JuMP.optimize!(model)"
   ]
  },
  {
   "cell_type": "markdown",
   "metadata": {},
   "source": [
    "# Optimización Cónica (Otro tipo de restricciones)\n",
    "\n",
    "¿Por qué Optimización Cónica?\n",
    "- Dualidad similar al caso de programación lineal.\n",
    "- Algoritmos más rápidos y estables\n",
    "    - Se evitan problemas con no diferenciabilidad, se explota la forma dual-primal, teoría fuerte en barreras y métodos de punto interior.\n",
    "    - Cambios en la industria en el 2018:\n",
    "        1. Knitro versión 11.0 añade soporte para restricciones SOCP.\n",
    "        2. Mosek version 9.0 desecha expresiones y formulaciones basadas en funciones por formulaciones puramente cónicas (lineal, SOCP, SOCP rotado, SDP, exp,etc)\n",
    "\n",
    "## Optimización Cónica\n",
    "\n",
    "Los problemas de programación cónica son problemas de optimización convexos en los cuales la función objetivo es minimizazda sobre la intersección de subespacios afines y conos convexos. Un ejemplo de formulación cónica de un problema es:\n",
    "\n",
    "\\begin{equation}\n",
    "\\min_{ x \\in \\mathbb{R}^n} a_0 ^\\top x + b_0\n",
    "\\end{equation}\n",
    "\n",
    "tal que:\n",
    "$$A_i x + b_i \\in \\mathcal{C}_i  \\quad \\text{for } i = 1 \\dotso m$$\n",
    "\n",
    "El problema dual correspondiente es:\n",
    "\n",
    "$$ \\max_{y_1, \\dotso , y_m} - \\sum_{i = 1}^{m} b_i ^T y_i + b_0$$\n",
    "\n",
    "tal que:\n",
    "$$ a_0 - \\sum_{i = 1}^{m} A_{i}^{T} y_{i} = 0 $$\n",
    "$$ y_i \\in \\mathcal{C}_i^*$$\n",
    "\n",
    "Donde cada $\\mathcal{C}_i$ es un cono cerrado convexo y $\\mathcal{C}_i^*$ es el cono dual."
   ]
  },
  {
   "cell_type": "markdown",
   "metadata": {},
   "source": [
    "### Cono de Segundo Orden\n",
    "\n",
    "El Cono de Segundo Orden (o Cono de Lorentz) de dimensión $n$ es de la forma:\n",
    "\n",
    "$$ Q^n = \\{ (t,x) \\in \\mathbb{R}^n: t \\ge \\lVert x \\rVert_2 \\} $$\n",
    "\n",
    "Un Cono de Segundo Orden rotado en $\\pi/4$ en el plano  $(x_1,x_2)$ es llamado \n",
    "Cono de Segundo Orden Rotado y es de la forma:\n",
    "\n",
    "$$ Q^n_r = \\{ (t,u,x) \\in \\mathbb{R}^n: 2tu \\ge \\lVert x \\rVert_2, t, u \\ge 0 \\} $$\n",
    "\n",
    "\n",
    "Estos conos se representan en `JuMP` usando conjuntos `MOI`, `SecondOrderCone` y `RotatedSecondOrderCone`\n",
    "\n",
    "#### Ejemplo: Proyección Euclideana en un Hiperplano\n",
    "\n",
    "Para un punto dado $u_0$ y un conjunto $K$, nos referiamos al punto $u \\in K$ que es lo más cercano a $u_0$ como la proyección de $u_0$ en $K$. La proyección de $u_0$ en un hiperplano $K = \\{ u : p'\\cdot u = q \\}$ está dado por:\n",
    "\n",
    "$$ \\begin{align}\n",
    "& \\displaystyle\\min_{x \\in \\mathbb{R}^n} & \\lVert u - u_0 \\rVert \\\\\\\\\n",
    "& \\text{s.t. } & p'\\cdot u = q \n",
    "\\end{align}$$\n",
    "\n",
    "Podemos modelar esto como un problema de optimización cónica:\n",
    "\n",
    "$$ \\begin{align}\n",
    "& \\displaystyle\\min & t \\\\\\\\\n",
    "& \\text{s.t. } & p'\\cdot u = q \\\\\\\\\n",
    "&  \\quad & (t, u - u_0) \\in Q^{n+1}\n",
    "\\end{align}$$\n",
    "\n",
    "Si lo transformamos identificando cada uno de los términos,\n",
    "\n",
    "$$ \\begin{align}\n",
    "x & = (t,u)\\\\\\\\\n",
    "a_0 & = e_1\\\\\\\\\n",
    "b_0 & = 0\\\\\\\\\n",
    "A_1 & =(0,p)\\\\\\\\\n",
    "b_1 & = -q \\\\\\\\\n",
    "C_1 & = \\mathbb{R}\\\\\\\\\n",
    "A_2 & = 1\\\\\\\\\n",
    "b_2 &= -(0,u_0)\\\\\\\\\n",
    "C_2 &= Q^{n+1}\n",
    "\\end{align}$$\n",
    "\n",
    "Entonces, el problema dual está dado por:\n",
    "\n",
    "$$ \\begin{align}\n",
    "& \\displaystyle\\max & y_1 + (0,u_0)^\\top y_2 \\\\\\\\\n",
    "& \\text{s.t. } & e_1 -(0,p)^\\top y_1 - y_2 = 0 \\\\\\\\\n",
    "&  \\quad & y_1 \\in \\mathbb{R}\\\\\\\\\n",
    "& \\quad & y_2 \\in Q^{n+1}\n",
    "\\end{align}$$"
   ]
  },
  {
   "cell_type": "markdown",
   "metadata": {},
   "source": [
    "En primer lugar, cargamos los paquetes `JuMP`, `LinearAlgebra`, `Random` y el solver `ECOS`."
   ]
  },
  {
   "cell_type": "code",
   "execution_count": 18,
   "metadata": {},
   "outputs": [],
   "source": [
    "using JuMP\n",
    "using ECOS\n",
    "using LinearAlgebra\n",
    "using Random\n",
    "Random.seed!(2020);"
   ]
  },
  {
   "cell_type": "markdown",
   "metadata": {},
   "source": [
    "Démosno algunos valores aleatorios para los inputs: $u_0$, $p$ y $q$"
   ]
  },
  {
   "cell_type": "code",
   "execution_count": 19,
   "metadata": {},
   "outputs": [],
   "source": [
    "u0 = rand(10)\n",
    "p = rand(10)\n",
    "q = rand();"
   ]
  },
  {
   "cell_type": "markdown",
   "metadata": {},
   "source": [
    "Podemos escribir el modelo como:"
   ]
  },
  {
   "cell_type": "code",
   "execution_count": 20,
   "metadata": {},
   "outputs": [
    {
     "name": "stdout",
     "output_type": "stream",
     "text": [
      "\n",
      "ECOS 2.0.5 - (C) embotech GmbH, Zurich Switzerland, 2012-15. Web: www.embotech.com/ECOS\n",
      "\n",
      "It     pcost       dcost      gap   pres   dres    k/t    mu     step   sigma     IR    |   BT\n",
      " 0  +0.000e+00  -0.000e+00  +1e+01  4e-01  3e-04  1e+00  6e+00    ---    ---    1  1  - |  -  - \n",
      " 1  +3.134e-01  +3.200e-01  +1e+00  6e-02  3e-05  1e-01  7e-01  0.8932  1e-03   2  1  2 |  0  0\n",
      " 2  +1.376e+00  +1.404e+00  +7e-02  5e-03  2e-06  4e-02  5e-02  0.9690  5e-02   2  2  2 |  0  0\n",
      " 3  +1.415e+00  +1.415e+00  +8e-04  6e-05  2e-08  4e-04  6e-04  0.9890  1e-04   1  1  1 |  0  0\n",
      " 4  +1.415e+00  +1.415e+00  +9e-06  6e-07  2e-10  5e-06  7e-06  0.9890  1e-04   1  1  1 |  0  0\n",
      " 5  +1.415e+00  +1.415e+00  +1e-07  7e-09  2e-12  5e-08  7e-08  0.9890  1e-04   1  1  1 |  0  0\n",
      " 6  +1.415e+00  +1.415e+00  +1e-09  8e-11  3e-14  6e-10  8e-10  0.9890  1e-04   2  1  1 |  0  0\n",
      "\n",
      "OPTIMAL (within feastol=7.5e-11, reltol=7.4e-10, abstol=1.1e-09).\n",
      "Runtime: 0.000117 seconds.\n",
      "\n"
     ]
    }
   ],
   "source": [
    "model = Model(optimizer_with_attributes(ECOS.Optimizer, \"printlevel\" => 0))\n",
    "@variable(model, u[1:10])\n",
    "@variable(model, t)\n",
    "@objective(model, Min, t)\n",
    "@constraint(model, [t, (u - u0)...] in SecondOrderCone())\n",
    "@constraint(model, u' * p == q)\n",
    "optimize!(model)"
   ]
  },
  {
   "cell_type": "code",
   "execution_count": 21,
   "metadata": {},
   "outputs": [
    {
     "name": "stdout",
     "output_type": "stream",
     "text": [
      "objective_value(model) = 1.4149915748070703\n",
      "value.(u) = [0.03080667950164791, 0.5687503071622262, 0.4982756380955075, 0.32732944869183017, 0.5755950055187378, 0.117335178956295, 0.021419168446740567, 0.5510291353919837, -0.24224068275971017, 0.053604926321581634]\n"
     ]
    }
   ],
   "source": [
    "@show objective_value(model);\n",
    "@show value.(u);"
   ]
  },
  {
   "cell_type": "markdown",
   "metadata": {},
   "source": [
    "El problema dual se puede calcular como:"
   ]
  },
  {
   "cell_type": "code",
   "execution_count": 22,
   "metadata": {},
   "outputs": [
    {
     "name": "stdout",
     "output_type": "stream",
     "text": [
      "\n",
      "ECOS 2.0.5 - (C) embotech GmbH, Zurich Switzerland, 2012-15. Web: www.embotech.com/ECOS\n",
      "\n",
      "It     pcost       dcost      gap   pres   dres    k/t    mu     step   sigma     IR    |   BT\n",
      " 0  +0.000e+00  -0.000e+00  +5e+00  4e-01  4e-01  1e+00  2e+00    ---    ---    1  1  - |  -  - \n",
      " 1  -8.629e+00  -2.721e+00  +5e-01  4e-01  4e-01  7e+00  2e-01  0.8934  1e-03   2  1  1 |  0  0\n",
      " 2  -2.387e+00  -2.455e+00  +2e-01  9e-02  5e-02  4e-02  5e-02  0.7977  5e-02   2  2  2 |  0  0\n",
      " 3  -1.467e+00  -1.426e+00  +8e-03  5e-03  2e-03  5e-02  5e-03  0.9655  7e-02   2  2  2 |  0  0\n",
      " 4  -1.416e+00  -1.415e+00  +9e-05  5e-05  3e-05  5e-04  6e-05  0.9890  1e-04   2  1  1 |  0  0\n",
      " 5  -1.415e+00  -1.415e+00  +1e-06  6e-07  3e-07  6e-06  7e-07  0.9890  1e-04   2  1  1 |  0  0\n",
      " 6  -1.415e+00  -1.415e+00  +1e-08  7e-09  3e-09  6e-08  7e-09  0.9890  1e-04   3  1  1 |  0  0\n",
      "\n",
      "OPTIMAL (within feastol=6.7e-09, reltol=8.1e-09, abstol=1.1e-08).\n",
      "Runtime: 0.000123 seconds.\n",
      "\n"
     ]
    }
   ],
   "source": [
    "e1 = [1.0, zeros(10)...]\n",
    "dual_model = Model(optimizer_with_attributes(ECOS.Optimizer, \"printlevel\" => 0))\n",
    "@variable(dual_model, y1 <= 0.0)\n",
    "@variable(dual_model, y2[1:11])\n",
    "@objective(dual_model, Max, q * y1 + dot(vcat(0.0, u0), y2))\n",
    "@constraint(dual_model, e1 - [0.0, p...] .* y1 - y2 .== 0.0)\n",
    "@constraint(dual_model, y2 in SecondOrderCone())\n",
    "optimize!(dual_model)"
   ]
  },
  {
   "cell_type": "code",
   "execution_count": 23,
   "metadata": {},
   "outputs": [
    {
     "name": "stdout",
     "output_type": "stream",
     "text": [
      "objective_value(dual_model) = 1.4149916455792486\n"
     ]
    }
   ],
   "source": [
    "@show objective_value(dual_model);"
   ]
  },
  {
   "cell_type": "markdown",
   "metadata": {},
   "source": [
    "Para ver más sobre el tema: [Click aquí](https://danpereda.github.io/post/conicopt/)"
   ]
  }
 ],
 "metadata": {
  "@webio": {
   "lastCommId": null,
   "lastKernelId": null
  },
  "kernelspec": {
   "display_name": "Julia 1.5.0",
   "language": "julia",
   "name": "julia-1.5"
  },
  "language_info": {
   "file_extension": ".jl",
   "mimetype": "application/julia",
   "name": "julia",
   "version": "1.5.0"
  }
 },
 "nbformat": 4,
 "nbformat_minor": 4
}
